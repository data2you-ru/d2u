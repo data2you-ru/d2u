{
 "cells": [
  {
   "cell_type": "code",
   "execution_count": 1,
   "metadata": {
    "collapsed": true
   },
   "outputs": [],
   "source": [
    "import numpy"
   ]
  },
  {
   "cell_type": "code",
   "execution_count": 21,
   "metadata": {
    "collapsed": false
   },
   "outputs": [],
   "source": [
    "# -*- coding: utf-8 -*-\n",
    "import vk\n",
    "import time\n",
    "from my_data import MyVKData\n",
    "from tqdm import tqdm\n",
    "from sql_connector import SQLConnector\n",
    "\n",
    "class VkTableMaker():\n",
    "    def __init__(self, title='Фитнес', table_name='Writers', params='Id INT PRIMARY KEY AUTO_INCREMENT, Name VARCHAR(25)'):\n",
    "        \"\"\"\n",
    "            title = what this table about\n",
    "            table_name = what there is actual name of a table in database\n",
    "            params = what table CREATE params do you want to add\n",
    "        \"\"\"\n",
    "        self.sqlConnector = SQLConnector()\n",
    "        self.title = title\n",
    "        self.table_name = 'data2you1.{0}'.format(table_name)\n",
    "        self.params = params\n",
    "    def ask_yes(self, s):\n",
    "        print s + '\\ny/n?'\n",
    "        ans = raw_input()\n",
    "        return ans in ['y', 'Y', 'YES', 'yes']\n",
    "    def rewrite_table_if_exist(self):\n",
    "        sql_c = SQLConnector()\n",
    "        sql_c.connect()\n",
    "        cur = sql_c.con.cursor()\n",
    "        if self.ask_yes(\"Do you want to rewrite table \" + self.table_name + \" with title \" + self.title):\n",
    "            cur.execute(\"DROP TABLE IF EXISTS {0}\".format(self.table_name))\n",
    "            cur.execute(\"CREATE TABLE {0}({1})\".format(self.table_name, self.params))\n",
    "    def add_rows(self, data):\n",
    "        sql_c = SQLConnector()\n",
    "        sql_c.connect()\n",
    "        cur = sql_c.con.cursor()\n",
    "        for person in data:\n",
    "            try:\n",
    "                if not (person.interests is None):\n",
    "                    querry = \"INSERT INTO {0}(VKiD, first_name, last_name, main_interest) VALUES({1},'{2}','{3}','{4}')\".format(self.table_name, person.vk_id, person.first_name.encode('utf-8'), person.last_name.encode('utf-8'), person.interests[0].encode('utf-8'))\n",
    "                    print querry \n",
    "                    cur.execute(querry)\n",
    "\n",
    "                    try: \n",
    "                        cur.execute(querry) \n",
    "                    except: \n",
    "                        print(\"err\")\n",
    "                else:\n",
    "                    querry = \"INSERT INTO {0}(VKiD, first_name, last_name) VALUES({1},'{2}','{3}')\".format(self.table_name, person.vk_id, person.first_name.encode('utf-8'), person.last_name.encode('utf-8'))\n",
    "                    print querry \n",
    "\n",
    "                    try: \n",
    "                        cur.execute(querry) \n",
    "\n",
    "                    except: \n",
    "                        print(\"err\")\n",
    "            except IndexError:\n",
    "                print('empty string')\n",
    "        "
   ]
  },
  {
   "cell_type": "code",
   "execution_count": 23,
   "metadata": {
    "collapsed": false
   },
   "outputs": [],
   "source": [
    "class VKPerson:\n",
    "    vk_id = None\n",
    "    first_name = None\n",
    "    last_name = None\n",
    "    interests = None\n",
    "    def __init__(self, vk_id, first_name, last_name=None, interests=None):\n",
    "        self.vk_id = vk_id\n",
    "        self.first_name = first_name\n",
    "        self.last_name = last_name\n",
    "        self.interests = interests\n",
    "        \n",
    "class Vkinterests:\n",
    "    main_interest = 'Фитнес'\n",
    "    popular_interests = dict()\n",
    "    \n",
    "    def __init__(self, main_interest='Фитнес'):\n",
    "        self.main_interest = main_interest\n",
    "        self.persons = []\n",
    "        \n",
    "    def get_data(self):\n",
    "        \n",
    "        session = vk.AuthSession(app_id=MyVKData.APP_ID, user_login=MyVKData.LOGIN, user_password=MyVKData.PASSWORD())\n",
    "        vkapi = vk.API(session)\n",
    "        offs = 0\n",
    "        all_interests = dict()\n",
    "        for i in tqdm(range(10)):\n",
    "            try:\n",
    "                usrs = vkapi.users.search(interests=self.main_interest, extended=1, fields='interests', offset=offs)\n",
    "                count = usrs[0]\n",
    "                usrs = usrs[1:]\n",
    "                offs += len(usrs) + 1\n",
    "                for usr in usrs:\n",
    "                    person = VKPerson(usr['uid'], usr['first_name'])\n",
    "                    if ('last_name' in usr):\n",
    "                        person.last_name = usr['last_name']\n",
    "                    if ('interests' in usr):\n",
    "                        person.interests = usr['interests'].split(',')\n",
    "                        for inter in usr['interests'].split(','):\n",
    "                            inter = inter.strip()\n",
    "                            if inter in all_interests:\n",
    "                                all_interests[inter] += 1\n",
    "                            else:\n",
    "                                all_interests[inter] = 1\n",
    "                    self.persons.append(person)\n",
    "                time.sleep(0.3)\n",
    "            except ReadTimeout:\n",
    "                time.sleep(1)\n",
    "                print(\"ReadTimeOut\")\n",
    "        self.popular_interests = all_interests\n",
    "        print(\"{0} users successfully downloaded\".format(len(all_interests)))\n",
    "        \n",
    "    def print_all_interests(self):\n",
    "        for interest in sorted(self.popular_interests.items(), key=lambda x: x[1], reverse=True):\n",
    "            print interest[0], interest[1]\n",
    "    \n",
    "    def add_all_data_to_sql(self):\n",
    "        table = VkTableMaker(\n",
    "            title='Таблица вк по интересам',\n",
    "            table_name = 'VK_interests',\n",
    "            params = 'Id INT PRIMARY KEY AUTO_INCREMENT, VKiD INT, first_name VARCHAR(25), last_name VARCHAR(25), main_interest VARCHAR(25)'\n",
    "        )\n",
    "        table.rewrite_table_if_exist()\n",
    "        if table.ask_yes(\"Do you want to add {0} row in table {1}? \".format(len(self.persons), table.table_name)):\n",
    "            table.add_rows(self.persons)\n",
    "        else:\n",
    "            return\n",
    "\n",
    "        \n",
    "\n",
    "\n",
    "\n",
    "\n",
    "\n"
   ]
  },
  {
   "cell_type": "code",
   "execution_count": 24,
   "metadata": {
    "collapsed": false
   },
   "outputs": [
    {
     "name": "stdout",
     "output_type": "stream",
     "text": [
      "password: \n",
      "Galutinaistar98\n"
     ]
    },
    {
     "name": "stderr",
     "output_type": "stream",
     "text": [
      "100%|██████████| 10/10 [00:06<00:00,  1.76it/s]"
     ]
    },
    {
     "name": "stdout",
     "output_type": "stream",
     "text": [
      "2217 users successfully downloaded\n"
     ]
    },
    {
     "name": "stderr",
     "output_type": "stream",
     "text": [
      "\n"
     ]
    }
   ],
   "source": [
    "vkint = Vkinterests()\n",
    "vkint.get_data()"
   ]
  },
  {
   "cell_type": "code",
   "execution_count": 25,
   "metadata": {
    "collapsed": false
   },
   "outputs": [
    {
     "name": "stdout",
     "output_type": "stream",
     "text": [
      "Do you want to rewrite table data2you1.VK_interests with title Таблица вк по интересам\n",
      "y/n?\n",
      "y\n",
      "Do you want to add 195 row in table data2you1.VK_interests? \n",
      "y/n?\n",
      "y\n",
      "INSERT INTO data2you1.VK_interests(VKiD, first_name, last_name) VALUES(9562528,'Яна','Буц')\n"
     ]
    },
    {
     "name": "stderr",
     "output_type": "stream",
     "text": [
      "/Users/istar/anaconda/lib/python2.7/site-packages/ipykernel/__main__.py:50: Warning: Incorrect string value: '\\xD0\\xAF\\xD0\\xBD\\xD0\\xB0' for column 'first_name' at row 1\n",
      "/Users/istar/anaconda/lib/python2.7/site-packages/ipykernel/__main__.py:50: Warning: Incorrect string value: '\\xD0\\x91\\xD1\\x83\\xD1\\x86' for column 'last_name' at row 1\n"
     ]
    },
    {
     "name": "stdout",
     "output_type": "stream",
     "text": [
      "INSERT INTO data2you1.VK_interests(VKiD, first_name, last_name) VALUES(210841413,'Денис','Андріца')\n"
     ]
    },
    {
     "name": "stderr",
     "output_type": "stream",
     "text": [
      "/Users/istar/anaconda/lib/python2.7/site-packages/ipykernel/__main__.py:50: Warning: Incorrect string value: '\\xD0\\x94\\xD0\\xB5\\xD0\\xBD...' for column 'first_name' at row 1\n",
      "/Users/istar/anaconda/lib/python2.7/site-packages/ipykernel/__main__.py:50: Warning: Incorrect string value: '\\xD0\\x90\\xD0\\xBD\\xD0\\xB4...' for column 'last_name' at row 1\n"
     ]
    },
    {
     "name": "stdout",
     "output_type": "stream",
     "text": [
      "INSERT INTO data2you1.VK_interests(VKiD, first_name, last_name, main_interest) VALUES(33850323,'Елена','Третьякова','Музыка. Фитнес. Йога. Психология.')\n"
     ]
    },
    {
     "name": "stderr",
     "output_type": "stream",
     "text": [
      "/Users/istar/anaconda/lib/python2.7/site-packages/ipykernel/__main__.py:39: Warning: Incorrect string value: '\\xD0\\x95\\xD0\\xBB\\xD0\\xB5...' for column 'first_name' at row 1\n",
      "/Users/istar/anaconda/lib/python2.7/site-packages/ipykernel/__main__.py:39: Warning: Incorrect string value: '\\xD0\\xA2\\xD1\\x80\\xD0\\xB5...' for column 'last_name' at row 1\n",
      "/Users/istar/anaconda/lib/python2.7/site-packages/ipykernel/__main__.py:39: Warning: Incorrect string value: '\\xD0\\x9C\\xD1\\x83\\xD0\\xB7...' for column 'main_interest' at row 1\n",
      "/Users/istar/anaconda/lib/python2.7/site-packages/ipykernel/__main__.py:42: Warning: Incorrect string value: '\\xD0\\x95\\xD0\\xBB\\xD0\\xB5...' for column 'first_name' at row 1\n",
      "/Users/istar/anaconda/lib/python2.7/site-packages/ipykernel/__main__.py:42: Warning: Incorrect string value: '\\xD0\\xA2\\xD1\\x80\\xD0\\xB5...' for column 'last_name' at row 1\n",
      "/Users/istar/anaconda/lib/python2.7/site-packages/ipykernel/__main__.py:42: Warning: Incorrect string value: '\\xD0\\x9C\\xD1\\x83\\xD0\\xB7...' for column 'main_interest' at row 1\n"
     ]
    },
    {
     "name": "stdout",
     "output_type": "stream",
     "text": [
      "INSERT INTO data2you1.VK_interests(VKiD, first_name, last_name) VALUES(151684580,'Илона','Новосёлова')\n"
     ]
    },
    {
     "name": "stderr",
     "output_type": "stream",
     "text": [
      "/Users/istar/anaconda/lib/python2.7/site-packages/ipykernel/__main__.py:50: Warning: Incorrect string value: '\\xD0\\x98\\xD0\\xBB\\xD0\\xBE...' for column 'first_name' at row 1\n",
      "/Users/istar/anaconda/lib/python2.7/site-packages/ipykernel/__main__.py:50: Warning: Incorrect string value: '\\xD0\\x9D\\xD0\\xBE\\xD0\\xB2...' for column 'last_name' at row 1\n"
     ]
    },
    {
     "name": "stdout",
     "output_type": "stream",
     "text": [
      "INSERT INTO data2you1.VK_interests(VKiD, first_name, last_name, main_interest) VALUES(6764187,'Юрий','Спасокукоцкий','Бодибилдинг')\n"
     ]
    },
    {
     "name": "stderr",
     "output_type": "stream",
     "text": [
      "/Users/istar/anaconda/lib/python2.7/site-packages/ipykernel/__main__.py:39: Warning: Incorrect string value: '\\xD0\\xAE\\xD1\\x80\\xD0\\xB8...' for column 'first_name' at row 1\n",
      "/Users/istar/anaconda/lib/python2.7/site-packages/ipykernel/__main__.py:39: Warning: Incorrect string value: '\\xD0\\xA1\\xD0\\xBF\\xD0\\xB0...' for column 'last_name' at row 1\n",
      "/Users/istar/anaconda/lib/python2.7/site-packages/ipykernel/__main__.py:39: Warning: Incorrect string value: '\\xD0\\x91\\xD0\\xBE\\xD0\\xB4...' for column 'main_interest' at row 1\n",
      "/Users/istar/anaconda/lib/python2.7/site-packages/ipykernel/__main__.py:42: Warning: Incorrect string value: '\\xD0\\xAE\\xD1\\x80\\xD0\\xB8...' for column 'first_name' at row 1\n",
      "/Users/istar/anaconda/lib/python2.7/site-packages/ipykernel/__main__.py:42: Warning: Incorrect string value: '\\xD0\\xA1\\xD0\\xBF\\xD0\\xB0...' for column 'last_name' at row 1\n",
      "/Users/istar/anaconda/lib/python2.7/site-packages/ipykernel/__main__.py:42: Warning: Incorrect string value: '\\xD0\\x91\\xD0\\xBE\\xD0\\xB4...' for column 'main_interest' at row 1\n"
     ]
    },
    {
     "name": "stdout",
     "output_type": "stream",
     "text": [
      "INSERT INTO data2you1.VK_interests(VKiD, first_name, last_name) VALUES(209452406,'Анастасия','Панченко')\n"
     ]
    },
    {
     "name": "stderr",
     "output_type": "stream",
     "text": [
      "/Users/istar/anaconda/lib/python2.7/site-packages/ipykernel/__main__.py:50: Warning: Incorrect string value: '\\xD0\\x90\\xD0\\xBD\\xD0\\xB0...' for column 'first_name' at row 1\n",
      "/Users/istar/anaconda/lib/python2.7/site-packages/ipykernel/__main__.py:50: Warning: Incorrect string value: '\\xD0\\x9F\\xD0\\xB0\\xD0\\xBD...' for column 'last_name' at row 1\n"
     ]
    },
    {
     "name": "stdout",
     "output_type": "stream",
     "text": [
      "INSERT INTO data2you1.VK_interests(VKiD, first_name, last_name, main_interest) VALUES(264356807,'Катя','Викс','')\n"
     ]
    },
    {
     "name": "stderr",
     "output_type": "stream",
     "text": [
      "/Users/istar/anaconda/lib/python2.7/site-packages/ipykernel/__main__.py:39: Warning: Incorrect string value: '\\xD0\\x9A\\xD0\\xB0\\xD1\\x82...' for column 'first_name' at row 1\n",
      "/Users/istar/anaconda/lib/python2.7/site-packages/ipykernel/__main__.py:39: Warning: Incorrect string value: '\\xD0\\x92\\xD0\\xB8\\xD0\\xBA...' for column 'last_name' at row 1\n",
      "/Users/istar/anaconda/lib/python2.7/site-packages/ipykernel/__main__.py:42: Warning: Incorrect string value: '\\xD0\\x9A\\xD0\\xB0\\xD1\\x82...' for column 'first_name' at row 1\n",
      "/Users/istar/anaconda/lib/python2.7/site-packages/ipykernel/__main__.py:42: Warning: Incorrect string value: '\\xD0\\x92\\xD0\\xB8\\xD0\\xBA...' for column 'last_name' at row 1\n"
     ]
    },
    {
     "name": "stdout",
     "output_type": "stream",
     "text": [
      "INSERT INTO data2you1.VK_interests(VKiD, first_name, last_name) VALUES(1784535,'Денис','Беляев')\n"
     ]
    },
    {
     "name": "stderr",
     "output_type": "stream",
     "text": [
      "/Users/istar/anaconda/lib/python2.7/site-packages/ipykernel/__main__.py:50: Warning: Incorrect string value: '\\xD0\\x91\\xD0\\xB5\\xD0\\xBB...' for column 'last_name' at row 1\n"
     ]
    },
    {
     "name": "stdout",
     "output_type": "stream",
     "text": [
      "INSERT INTO data2you1.VK_interests(VKiD, first_name, last_name) VALUES(231817577,'Светлана','Орлова')\n"
     ]
    },
    {
     "name": "stderr",
     "output_type": "stream",
     "text": [
      "/Users/istar/anaconda/lib/python2.7/site-packages/ipykernel/__main__.py:50: Warning: Incorrect string value: '\\xD0\\xA1\\xD0\\xB2\\xD0\\xB5...' for column 'first_name' at row 1\n",
      "/Users/istar/anaconda/lib/python2.7/site-packages/ipykernel/__main__.py:50: Warning: Incorrect string value: '\\xD0\\x9E\\xD1\\x80\\xD0\\xBB...' for column 'last_name' at row 1\n"
     ]
    },
    {
     "name": "stdout",
     "output_type": "stream",
     "text": [
      "INSERT INTO data2you1.VK_interests(VKiD, first_name, last_name, main_interest) VALUES(40946004,'Павел','Духонин','Красивые девушки')\n"
     ]
    },
    {
     "name": "stderr",
     "output_type": "stream",
     "text": [
      "/Users/istar/anaconda/lib/python2.7/site-packages/ipykernel/__main__.py:39: Warning: Incorrect string value: '\\xD0\\x9F\\xD0\\xB0\\xD0\\xB2...' for column 'first_name' at row 1\n",
      "/Users/istar/anaconda/lib/python2.7/site-packages/ipykernel/__main__.py:39: Warning: Incorrect string value: '\\xD0\\x94\\xD1\\x83\\xD1\\x85...' for column 'last_name' at row 1\n",
      "/Users/istar/anaconda/lib/python2.7/site-packages/ipykernel/__main__.py:39: Warning: Incorrect string value: '\\xD0\\x9A\\xD1\\x80\\xD0\\xB0...' for column 'main_interest' at row 1\n",
      "/Users/istar/anaconda/lib/python2.7/site-packages/ipykernel/__main__.py:42: Warning: Incorrect string value: '\\xD0\\x9F\\xD0\\xB0\\xD0\\xB2...' for column 'first_name' at row 1\n",
      "/Users/istar/anaconda/lib/python2.7/site-packages/ipykernel/__main__.py:42: Warning: Incorrect string value: '\\xD0\\x94\\xD1\\x83\\xD1\\x85...' for column 'last_name' at row 1\n",
      "/Users/istar/anaconda/lib/python2.7/site-packages/ipykernel/__main__.py:42: Warning: Incorrect string value: '\\xD0\\x9A\\xD1\\x80\\xD0\\xB0...' for column 'main_interest' at row 1\n"
     ]
    },
    {
     "name": "stdout",
     "output_type": "stream",
     "text": [
      "INSERT INTO data2you1.VK_interests(VKiD, first_name, last_name) VALUES(72991632,'Павел','Марков')\n"
     ]
    },
    {
     "name": "stderr",
     "output_type": "stream",
     "text": [
      "/Users/istar/anaconda/lib/python2.7/site-packages/ipykernel/__main__.py:50: Warning: Incorrect string value: '\\xD0\\x9F\\xD0\\xB0\\xD0\\xB2...' for column 'first_name' at row 1\n",
      "/Users/istar/anaconda/lib/python2.7/site-packages/ipykernel/__main__.py:50: Warning: Incorrect string value: '\\xD0\\x9C\\xD0\\xB0\\xD1\\x80...' for column 'last_name' at row 1\n"
     ]
    },
    {
     "name": "stdout",
     "output_type": "stream",
     "text": [
      "INSERT INTO data2you1.VK_interests(VKiD, first_name, last_name, main_interest) VALUES(3881134,'Ярик','Онищак','Спортивное Питание')\n"
     ]
    },
    {
     "name": "stderr",
     "output_type": "stream",
     "text": [
      "/Users/istar/anaconda/lib/python2.7/site-packages/ipykernel/__main__.py:39: Warning: Incorrect string value: '\\xD0\\xAF\\xD1\\x80\\xD0\\xB8...' for column 'first_name' at row 1\n",
      "/Users/istar/anaconda/lib/python2.7/site-packages/ipykernel/__main__.py:39: Warning: Incorrect string value: '\\xD0\\x9E\\xD0\\xBD\\xD0\\xB8...' for column 'last_name' at row 1\n",
      "/Users/istar/anaconda/lib/python2.7/site-packages/ipykernel/__main__.py:39: Warning: Incorrect string value: '\\xD0\\xA1\\xD0\\xBF\\xD0\\xBE...' for column 'main_interest' at row 1\n",
      "/Users/istar/anaconda/lib/python2.7/site-packages/ipykernel/__main__.py:42: Warning: Incorrect string value: '\\xD0\\xAF\\xD1\\x80\\xD0\\xB8...' for column 'first_name' at row 1\n",
      "/Users/istar/anaconda/lib/python2.7/site-packages/ipykernel/__main__.py:42: Warning: Incorrect string value: '\\xD0\\x9E\\xD0\\xBD\\xD0\\xB8...' for column 'last_name' at row 1\n",
      "/Users/istar/anaconda/lib/python2.7/site-packages/ipykernel/__main__.py:42: Warning: Incorrect string value: '\\xD0\\xA1\\xD0\\xBF\\xD0\\xBE...' for column 'main_interest' at row 1\n"
     ]
    },
    {
     "name": "stdout",
     "output_type": "stream",
     "text": [
      "INSERT INTO data2you1.VK_interests(VKiD, first_name, last_name) VALUES(175,'Михаил','Захаренков')\n"
     ]
    },
    {
     "name": "stderr",
     "output_type": "stream",
     "text": [
      "/Users/istar/anaconda/lib/python2.7/site-packages/ipykernel/__main__.py:50: Warning: Incorrect string value: '\\xD0\\x9C\\xD0\\xB8\\xD1\\x85...' for column 'first_name' at row 1\n",
      "/Users/istar/anaconda/lib/python2.7/site-packages/ipykernel/__main__.py:50: Warning: Incorrect string value: '\\xD0\\x97\\xD0\\xB0\\xD1\\x85...' for column 'last_name' at row 1\n"
     ]
    },
    {
     "name": "stdout",
     "output_type": "stream",
     "text": [
      "INSERT INTO data2you1.VK_interests(VKiD, first_name, last_name) VALUES(211091295,'Кристина','Свиридова')\n"
     ]
    },
    {
     "name": "stderr",
     "output_type": "stream",
     "text": [
      "/Users/istar/anaconda/lib/python2.7/site-packages/ipykernel/__main__.py:50: Warning: Incorrect string value: '\\xD0\\x9A\\xD1\\x80\\xD0\\xB8...' for column 'first_name' at row 1\n",
      "/Users/istar/anaconda/lib/python2.7/site-packages/ipykernel/__main__.py:50: Warning: Incorrect string value: '\\xD0\\xA1\\xD0\\xB2\\xD0\\xB8...' for column 'last_name' at row 1\n"
     ]
    },
    {
     "name": "stdout",
     "output_type": "stream",
     "text": [
      "INSERT INTO data2you1.VK_interests(VKiD, first_name, last_name) VALUES(993834,'Соня','Некс')\n"
     ]
    },
    {
     "name": "stderr",
     "output_type": "stream",
     "text": [
      "/Users/istar/anaconda/lib/python2.7/site-packages/ipykernel/__main__.py:50: Warning: Incorrect string value: '\\xD0\\xA1\\xD0\\xBE\\xD0\\xBD...' for column 'first_name' at row 1\n",
      "/Users/istar/anaconda/lib/python2.7/site-packages/ipykernel/__main__.py:50: Warning: Incorrect string value: '\\xD0\\x9D\\xD0\\xB5\\xD0\\xBA...' for column 'last_name' at row 1\n"
     ]
    },
    {
     "name": "stdout",
     "output_type": "stream",
     "text": [
      "INSERT INTO data2you1.VK_interests(VKiD, first_name, last_name, main_interest) VALUES(264727999,'Яна','Сафонова','Музыка')\n"
     ]
    },
    {
     "name": "stderr",
     "output_type": "stream",
     "text": [
      "/Users/istar/anaconda/lib/python2.7/site-packages/ipykernel/__main__.py:39: Warning: Incorrect string value: '\\xD0\\xAF\\xD0\\xBD\\xD0\\xB0' for column 'first_name' at row 1\n",
      "/Users/istar/anaconda/lib/python2.7/site-packages/ipykernel/__main__.py:39: Warning: Incorrect string value: '\\xD0\\xA1\\xD0\\xB0\\xD1\\x84...' for column 'last_name' at row 1\n",
      "/Users/istar/anaconda/lib/python2.7/site-packages/ipykernel/__main__.py:42: Warning: Incorrect string value: '\\xD0\\xAF\\xD0\\xBD\\xD0\\xB0' for column 'first_name' at row 1\n",
      "/Users/istar/anaconda/lib/python2.7/site-packages/ipykernel/__main__.py:42: Warning: Incorrect string value: '\\xD0\\xA1\\xD0\\xB0\\xD1\\x84...' for column 'last_name' at row 1\n"
     ]
    },
    {
     "name": "stdout",
     "output_type": "stream",
     "text": [
      "INSERT INTO data2you1.VK_interests(VKiD, first_name, last_name, main_interest) VALUES(143266786,'Оксана','Феттер','Фитнес')\n"
     ]
    },
    {
     "name": "stderr",
     "output_type": "stream",
     "text": [
      "/Users/istar/anaconda/lib/python2.7/site-packages/ipykernel/__main__.py:39: Warning: Incorrect string value: '\\xD0\\x9E\\xD0\\xBA\\xD1\\x81...' for column 'first_name' at row 1\n",
      "/Users/istar/anaconda/lib/python2.7/site-packages/ipykernel/__main__.py:39: Warning: Incorrect string value: '\\xD0\\xA4\\xD0\\xB5\\xD1\\x82...' for column 'last_name' at row 1\n",
      "/Users/istar/anaconda/lib/python2.7/site-packages/ipykernel/__main__.py:39: Warning: Incorrect string value: '\\xD0\\xA4\\xD0\\xB8\\xD1\\x82...' for column 'main_interest' at row 1\n",
      "/Users/istar/anaconda/lib/python2.7/site-packages/ipykernel/__main__.py:42: Warning: Incorrect string value: '\\xD0\\x9E\\xD0\\xBA\\xD1\\x81...' for column 'first_name' at row 1\n",
      "/Users/istar/anaconda/lib/python2.7/site-packages/ipykernel/__main__.py:42: Warning: Incorrect string value: '\\xD0\\xA4\\xD0\\xB5\\xD1\\x82...' for column 'last_name' at row 1\n",
      "/Users/istar/anaconda/lib/python2.7/site-packages/ipykernel/__main__.py:42: Warning: Incorrect string value: '\\xD0\\xA4\\xD0\\xB8\\xD1\\x82...' for column 'main_interest' at row 1\n"
     ]
    },
    {
     "name": "stdout",
     "output_type": "stream",
     "text": [
      "INSERT INTO data2you1.VK_interests(VKiD, first_name, last_name, main_interest) VALUES(4887577,'Роман','Милованов','Хвойный лес')\n"
     ]
    },
    {
     "name": "stderr",
     "output_type": "stream",
     "text": [
      "/Users/istar/anaconda/lib/python2.7/site-packages/ipykernel/__main__.py:39: Warning: Incorrect string value: '\\xD0\\xA0\\xD0\\xBE\\xD0\\xBC...' for column 'first_name' at row 1\n",
      "/Users/istar/anaconda/lib/python2.7/site-packages/ipykernel/__main__.py:39: Warning: Incorrect string value: '\\xD0\\x9C\\xD0\\xB8\\xD0\\xBB...' for column 'last_name' at row 1\n",
      "/Users/istar/anaconda/lib/python2.7/site-packages/ipykernel/__main__.py:39: Warning: Incorrect string value: '\\xD0\\xA5\\xD0\\xB2\\xD0\\xBE...' for column 'main_interest' at row 1\n",
      "/Users/istar/anaconda/lib/python2.7/site-packages/ipykernel/__main__.py:42: Warning: Incorrect string value: '\\xD0\\xA0\\xD0\\xBE\\xD0\\xBC...' for column 'first_name' at row 1\n",
      "/Users/istar/anaconda/lib/python2.7/site-packages/ipykernel/__main__.py:42: Warning: Incorrect string value: '\\xD0\\x9C\\xD0\\xB8\\xD0\\xBB...' for column 'last_name' at row 1\n",
      "/Users/istar/anaconda/lib/python2.7/site-packages/ipykernel/__main__.py:42: Warning: Incorrect string value: '\\xD0\\xA5\\xD0\\xB2\\xD0\\xBE...' for column 'main_interest' at row 1\n"
     ]
    },
    {
     "name": "stdout",
     "output_type": "stream",
     "text": [
      "INSERT INTO data2you1.VK_interests(VKiD, first_name, last_name) VALUES(33814534,'Татьяна','Донецкая')\n"
     ]
    },
    {
     "name": "stderr",
     "output_type": "stream",
     "text": [
      "/Users/istar/anaconda/lib/python2.7/site-packages/ipykernel/__main__.py:50: Warning: Incorrect string value: '\\xD0\\xA2\\xD0\\xB0\\xD1\\x82...' for column 'first_name' at row 1\n",
      "/Users/istar/anaconda/lib/python2.7/site-packages/ipykernel/__main__.py:50: Warning: Incorrect string value: '\\xD0\\x94\\xD0\\xBE\\xD0\\xBD...' for column 'last_name' at row 1\n"
     ]
    },
    {
     "name": "stdout",
     "output_type": "stream",
     "text": [
      "INSERT INTO data2you1.VK_interests(VKiD, first_name, last_name, main_interest) VALUES(248959959,'Татьяна','Загоскина','туризм')\n"
     ]
    },
    {
     "name": "stderr",
     "output_type": "stream",
     "text": [
      "/Users/istar/anaconda/lib/python2.7/site-packages/ipykernel/__main__.py:39: Warning: Incorrect string value: '\\xD0\\xA2\\xD0\\xB0\\xD1\\x82...' for column 'first_name' at row 1\n",
      "/Users/istar/anaconda/lib/python2.7/site-packages/ipykernel/__main__.py:39: Warning: Incorrect string value: '\\xD0\\x97\\xD0\\xB0\\xD0\\xB3...' for column 'last_name' at row 1\n",
      "/Users/istar/anaconda/lib/python2.7/site-packages/ipykernel/__main__.py:39: Warning: Incorrect string value: '\\xD1\\x82\\xD1\\x83\\xD1\\x80...' for column 'main_interest' at row 1\n",
      "/Users/istar/anaconda/lib/python2.7/site-packages/ipykernel/__main__.py:42: Warning: Incorrect string value: '\\xD0\\xA2\\xD0\\xB0\\xD1\\x82...' for column 'first_name' at row 1\n",
      "/Users/istar/anaconda/lib/python2.7/site-packages/ipykernel/__main__.py:42: Warning: Incorrect string value: '\\xD0\\x97\\xD0\\xB0\\xD0\\xB3...' for column 'last_name' at row 1\n",
      "/Users/istar/anaconda/lib/python2.7/site-packages/ipykernel/__main__.py:42: Warning: Incorrect string value: '\\xD1\\x82\\xD1\\x83\\xD1\\x80...' for column 'main_interest' at row 1\n"
     ]
    },
    {
     "name": "stdout",
     "output_type": "stream",
     "text": [
      "INSERT INTO data2you1.VK_interests(VKiD, first_name, last_name) VALUES(239739128,'Оксана','Смирнова')\n"
     ]
    },
    {
     "name": "stderr",
     "output_type": "stream",
     "text": [
      "/Users/istar/anaconda/lib/python2.7/site-packages/ipykernel/__main__.py:50: Warning: Incorrect string value: '\\xD0\\x9E\\xD0\\xBA\\xD1\\x81...' for column 'first_name' at row 1\n",
      "/Users/istar/anaconda/lib/python2.7/site-packages/ipykernel/__main__.py:50: Warning: Incorrect string value: '\\xD0\\xA1\\xD0\\xBC\\xD0\\xB8...' for column 'last_name' at row 1\n"
     ]
    },
    {
     "name": "stdout",
     "output_type": "stream",
     "text": [
      "INSERT INTO data2you1.VK_interests(VKiD, first_name, last_name) VALUES(28034199,'Кристина','Донец')\n",
      "INSERT INTO data2you1.VK_interests(VKiD, first_name, last_name, main_interest) VALUES(45655893,'Милена','Златовласова','Музыка')\n"
     ]
    },
    {
     "name": "stderr",
     "output_type": "stream",
     "text": [
      "/Users/istar/anaconda/lib/python2.7/site-packages/ipykernel/__main__.py:39: Warning: Incorrect string value: '\\xD0\\x9C\\xD0\\xB8\\xD0\\xBB...' for column 'first_name' at row 1\n",
      "/Users/istar/anaconda/lib/python2.7/site-packages/ipykernel/__main__.py:39: Warning: Incorrect string value: '\\xD0\\x97\\xD0\\xBB\\xD0\\xB0...' for column 'last_name' at row 1\n",
      "/Users/istar/anaconda/lib/python2.7/site-packages/ipykernel/__main__.py:42: Warning: Incorrect string value: '\\xD0\\x9C\\xD0\\xB8\\xD0\\xBB...' for column 'first_name' at row 1\n",
      "/Users/istar/anaconda/lib/python2.7/site-packages/ipykernel/__main__.py:42: Warning: Incorrect string value: '\\xD0\\x97\\xD0\\xBB\\xD0\\xB0...' for column 'last_name' at row 1\n"
     ]
    },
    {
     "name": "stdout",
     "output_type": "stream",
     "text": [
      "INSERT INTO data2you1.VK_interests(VKiD, first_name, last_name, main_interest) VALUES(86415291,'Павел','Духонин','Красивые девушки')\n",
      "INSERT INTO data2you1.VK_interests(VKiD, first_name, last_name) VALUES(11167116,'Владислав','Науменко')\n"
     ]
    },
    {
     "name": "stderr",
     "output_type": "stream",
     "text": [
      "/Users/istar/anaconda/lib/python2.7/site-packages/ipykernel/__main__.py:50: Warning: Incorrect string value: '\\xD0\\x92\\xD0\\xBB\\xD0\\xB0...' for column 'first_name' at row 1\n",
      "/Users/istar/anaconda/lib/python2.7/site-packages/ipykernel/__main__.py:50: Warning: Incorrect string value: '\\xD0\\x9D\\xD0\\xB0\\xD1\\x83...' for column 'last_name' at row 1\n"
     ]
    },
    {
     "name": "stdout",
     "output_type": "stream",
     "text": [
      "INSERT INTO data2you1.VK_interests(VKiD, first_name, last_name, main_interest) VALUES(15217271,'Агнета','Королевская','-ШОУ-БИЗНЕС')\n"
     ]
    },
    {
     "name": "stderr",
     "output_type": "stream",
     "text": [
      "/Users/istar/anaconda/lib/python2.7/site-packages/ipykernel/__main__.py:39: Warning: Incorrect string value: '\\xD0\\x90\\xD0\\xB3\\xD0\\xBD...' for column 'first_name' at row 1\n",
      "/Users/istar/anaconda/lib/python2.7/site-packages/ipykernel/__main__.py:39: Warning: Incorrect string value: '\\xD0\\x9A\\xD0\\xBE\\xD1\\x80...' for column 'last_name' at row 1\n",
      "/Users/istar/anaconda/lib/python2.7/site-packages/ipykernel/__main__.py:39: Warning: Incorrect string value: '\\xD0\\xA8\\xD0\\x9E\\xD0\\xA3...' for column 'main_interest' at row 1\n",
      "/Users/istar/anaconda/lib/python2.7/site-packages/ipykernel/__main__.py:42: Warning: Incorrect string value: '\\xD0\\x90\\xD0\\xB3\\xD0\\xBD...' for column 'first_name' at row 1\n",
      "/Users/istar/anaconda/lib/python2.7/site-packages/ipykernel/__main__.py:42: Warning: Incorrect string value: '\\xD0\\x9A\\xD0\\xBE\\xD1\\x80...' for column 'last_name' at row 1\n",
      "/Users/istar/anaconda/lib/python2.7/site-packages/ipykernel/__main__.py:42: Warning: Incorrect string value: '\\xD0\\xA8\\xD0\\x9E\\xD0\\xA3...' for column 'main_interest' at row 1\n"
     ]
    },
    {
     "name": "stdout",
     "output_type": "stream",
     "text": [
      "INSERT INTO data2you1.VK_interests(VKiD, first_name, last_name) VALUES(4773604,'Марина','Петрова')\n"
     ]
    },
    {
     "name": "stderr",
     "output_type": "stream",
     "text": [
      "/Users/istar/anaconda/lib/python2.7/site-packages/ipykernel/__main__.py:50: Warning: Incorrect string value: '\\xD0\\x9C\\xD0\\xB0\\xD1\\x80...' for column 'first_name' at row 1\n",
      "/Users/istar/anaconda/lib/python2.7/site-packages/ipykernel/__main__.py:50: Warning: Incorrect string value: '\\xD0\\x9F\\xD0\\xB5\\xD1\\x82...' for column 'last_name' at row 1\n"
     ]
    },
    {
     "name": "stdout",
     "output_type": "stream",
     "text": [
      "INSERT INTO data2you1.VK_interests(VKiD, first_name, last_name) VALUES(582911,'Alua','Kilibayeva')\n",
      "INSERT INTO data2you1.VK_interests(VKiD, first_name, last_name, main_interest) VALUES(404721,'Pavel','Savenkov','Шоу-бизнес')\n"
     ]
    },
    {
     "name": "stderr",
     "output_type": "stream",
     "text": [
      "/Users/istar/anaconda/lib/python2.7/site-packages/ipykernel/__main__.py:39: Warning: Incorrect string value: '\\xD0\\xA8\\xD0\\xBE\\xD1\\x83...' for column 'main_interest' at row 1\n",
      "/Users/istar/anaconda/lib/python2.7/site-packages/ipykernel/__main__.py:42: Warning: Incorrect string value: '\\xD0\\xA8\\xD0\\xBE\\xD1\\x83...' for column 'main_interest' at row 1\n"
     ]
    },
    {
     "name": "stdout",
     "output_type": "stream",
     "text": [
      "INSERT INTO data2you1.VK_interests(VKiD, first_name, last_name) VALUES(45386222,'Антон','Гусынин')\n"
     ]
    },
    {
     "name": "stderr",
     "output_type": "stream",
     "text": [
      "/Users/istar/anaconda/lib/python2.7/site-packages/ipykernel/__main__.py:50: Warning: Incorrect string value: '\\xD0\\x90\\xD0\\xBD\\xD1\\x82...' for column 'first_name' at row 1\n",
      "/Users/istar/anaconda/lib/python2.7/site-packages/ipykernel/__main__.py:50: Warning: Incorrect string value: '\\xD0\\x93\\xD1\\x83\\xD1\\x81...' for column 'last_name' at row 1\n"
     ]
    },
    {
     "name": "stdout",
     "output_type": "stream",
     "text": [
      "INSERT INTO data2you1.VK_interests(VKiD, first_name, last_name) VALUES(251722456,'Ренат','Сейтуаров')\n"
     ]
    },
    {
     "name": "stderr",
     "output_type": "stream",
     "text": [
      "/Users/istar/anaconda/lib/python2.7/site-packages/ipykernel/__main__.py:50: Warning: Incorrect string value: '\\xD0\\xA0\\xD0\\xB5\\xD0\\xBD...' for column 'first_name' at row 1\n",
      "/Users/istar/anaconda/lib/python2.7/site-packages/ipykernel/__main__.py:50: Warning: Incorrect string value: '\\xD0\\xA1\\xD0\\xB5\\xD0\\xB9...' for column 'last_name' at row 1\n"
     ]
    },
    {
     "name": "stdout",
     "output_type": "stream",
     "text": [
      "INSERT INTO data2you1.VK_interests(VKiD, first_name, last_name) VALUES(5215595,'Sarkis','Edwards')\n",
      "INSERT INTO data2you1.VK_interests(VKiD, first_name, last_name) VALUES(80829911,'Костя','Конотопко')\n"
     ]
    },
    {
     "name": "stderr",
     "output_type": "stream",
     "text": [
      "/Users/istar/anaconda/lib/python2.7/site-packages/ipykernel/__main__.py:50: Warning: Incorrect string value: '\\xD0\\x9A\\xD0\\xBE\\xD1\\x81...' for column 'first_name' at row 1\n",
      "/Users/istar/anaconda/lib/python2.7/site-packages/ipykernel/__main__.py:50: Warning: Incorrect string value: '\\xD0\\x9A\\xD0\\xBE\\xD0\\xBD...' for column 'last_name' at row 1\n"
     ]
    },
    {
     "name": "stdout",
     "output_type": "stream",
     "text": [
      "INSERT INTO data2you1.VK_interests(VKiD, first_name, last_name, main_interest) VALUES(258600630,'Анастасия','Алексеева','Фитнес')\n"
     ]
    },
    {
     "name": "stderr",
     "output_type": "stream",
     "text": [
      "/Users/istar/anaconda/lib/python2.7/site-packages/ipykernel/__main__.py:39: Warning: Incorrect string value: '\\xD0\\x90\\xD0\\xBD\\xD0\\xB0...' for column 'first_name' at row 1\n",
      "/Users/istar/anaconda/lib/python2.7/site-packages/ipykernel/__main__.py:39: Warning: Incorrect string value: '\\xD0\\x90\\xD0\\xBB\\xD0\\xB5...' for column 'last_name' at row 1\n",
      "/Users/istar/anaconda/lib/python2.7/site-packages/ipykernel/__main__.py:42: Warning: Incorrect string value: '\\xD0\\x90\\xD0\\xBD\\xD0\\xB0...' for column 'first_name' at row 1\n",
      "/Users/istar/anaconda/lib/python2.7/site-packages/ipykernel/__main__.py:42: Warning: Incorrect string value: '\\xD0\\x90\\xD0\\xBB\\xD0\\xB5...' for column 'last_name' at row 1\n"
     ]
    },
    {
     "name": "stdout",
     "output_type": "stream",
     "text": [
      "INSERT INTO data2you1.VK_interests(VKiD, first_name, last_name, main_interest) VALUES(2177132,'Катрина','Лыченкова','Большой теннис')\n"
     ]
    },
    {
     "name": "stderr",
     "output_type": "stream",
     "text": [
      "/Users/istar/anaconda/lib/python2.7/site-packages/ipykernel/__main__.py:39: Warning: Incorrect string value: '\\xD0\\x9B\\xD1\\x8B\\xD1\\x87...' for column 'last_name' at row 1\n",
      "/Users/istar/anaconda/lib/python2.7/site-packages/ipykernel/__main__.py:39: Warning: Incorrect string value: '\\xD0\\x91\\xD0\\xBE\\xD0\\xBB...' for column 'main_interest' at row 1\n",
      "/Users/istar/anaconda/lib/python2.7/site-packages/ipykernel/__main__.py:42: Warning: Incorrect string value: '\\xD0\\x9B\\xD1\\x8B\\xD1\\x87...' for column 'last_name' at row 1\n",
      "/Users/istar/anaconda/lib/python2.7/site-packages/ipykernel/__main__.py:42: Warning: Incorrect string value: '\\xD0\\x91\\xD0\\xBE\\xD0\\xBB...' for column 'main_interest' at row 1\n"
     ]
    },
    {
     "name": "stdout",
     "output_type": "stream",
     "text": [
      "INSERT INTO data2you1.VK_interests(VKiD, first_name, last_name, main_interest) VALUES(116318452,'Анастасия','Скворцова','...Так кто ж ты')\n"
     ]
    },
    {
     "name": "stderr",
     "output_type": "stream",
     "text": [
      "/Users/istar/anaconda/lib/python2.7/site-packages/ipykernel/__main__.py:39: Warning: Incorrect string value: '\\xD0\\xA1\\xD0\\xBA\\xD0\\xB2...' for column 'last_name' at row 1\n",
      "/Users/istar/anaconda/lib/python2.7/site-packages/ipykernel/__main__.py:39: Warning: Incorrect string value: '\\xD0\\xA2\\xD0\\xB0\\xD0\\xBA...' for column 'main_interest' at row 1\n",
      "/Users/istar/anaconda/lib/python2.7/site-packages/ipykernel/__main__.py:42: Warning: Incorrect string value: '\\xD0\\xA1\\xD0\\xBA\\xD0\\xB2...' for column 'last_name' at row 1\n",
      "/Users/istar/anaconda/lib/python2.7/site-packages/ipykernel/__main__.py:42: Warning: Incorrect string value: '\\xD0\\xA2\\xD0\\xB0\\xD0\\xBA...' for column 'main_interest' at row 1\n"
     ]
    },
    {
     "name": "stdout",
     "output_type": "stream",
     "text": [
      "INSERT INTO data2you1.VK_interests(VKiD, first_name, last_name) VALUES(308641310,'Диманыч','Маузеръ')\n"
     ]
    },
    {
     "name": "stderr",
     "output_type": "stream",
     "text": [
      "/Users/istar/anaconda/lib/python2.7/site-packages/ipykernel/__main__.py:50: Warning: Incorrect string value: '\\xD0\\x94\\xD0\\xB8\\xD0\\xBC...' for column 'first_name' at row 1\n",
      "/Users/istar/anaconda/lib/python2.7/site-packages/ipykernel/__main__.py:50: Warning: Incorrect string value: '\\xD0\\x9C\\xD0\\xB0\\xD1\\x83...' for column 'last_name' at row 1\n"
     ]
    },
    {
     "name": "stdout",
     "output_type": "stream",
     "text": [
      "INSERT INTO data2you1.VK_interests(VKiD, first_name, last_name) VALUES(18002386,'Владимир','Литвинюк')\n"
     ]
    },
    {
     "name": "stderr",
     "output_type": "stream",
     "text": [
      "/Users/istar/anaconda/lib/python2.7/site-packages/ipykernel/__main__.py:50: Warning: Incorrect string value: '\\xD0\\x9B\\xD0\\xB8\\xD1\\x82...' for column 'last_name' at row 1\n"
     ]
    },
    {
     "name": "stdout",
     "output_type": "stream",
     "text": [
      "INSERT INTO data2you1.VK_interests(VKiD, first_name, last_name) VALUES(18002386,'Владимир','Литвинюк')\n",
      "INSERT INTO data2you1.VK_interests(VKiD, first_name, last_name) VALUES(199191,'Вероника','Дьякова')\n"
     ]
    },
    {
     "name": "stderr",
     "output_type": "stream",
     "text": [
      "/Users/istar/anaconda/lib/python2.7/site-packages/ipykernel/__main__.py:50: Warning: Incorrect string value: '\\xD0\\x92\\xD0\\xB5\\xD1\\x80...' for column 'first_name' at row 1\n",
      "/Users/istar/anaconda/lib/python2.7/site-packages/ipykernel/__main__.py:50: Warning: Incorrect string value: '\\xD0\\x94\\xD1\\x8C\\xD1\\x8F...' for column 'last_name' at row 1\n"
     ]
    },
    {
     "name": "stdout",
     "output_type": "stream",
     "text": [
      "INSERT INTO data2you1.VK_interests(VKiD, first_name, last_name, main_interest) VALUES(179753994,'Дмитрий','Ткаченко','Жена')\n"
     ]
    },
    {
     "name": "stderr",
     "output_type": "stream",
     "text": [
      "/Users/istar/anaconda/lib/python2.7/site-packages/ipykernel/__main__.py:39: Warning: Incorrect string value: '\\xD0\\x94\\xD0\\xBC\\xD0\\xB8...' for column 'first_name' at row 1\n",
      "/Users/istar/anaconda/lib/python2.7/site-packages/ipykernel/__main__.py:39: Warning: Incorrect string value: '\\xD0\\xA2\\xD0\\xBA\\xD0\\xB0...' for column 'last_name' at row 1\n",
      "/Users/istar/anaconda/lib/python2.7/site-packages/ipykernel/__main__.py:39: Warning: Incorrect string value: '\\xD0\\x96\\xD0\\xB5\\xD0\\xBD...' for column 'main_interest' at row 1\n",
      "/Users/istar/anaconda/lib/python2.7/site-packages/ipykernel/__main__.py:42: Warning: Incorrect string value: '\\xD0\\x94\\xD0\\xBC\\xD0\\xB8...' for column 'first_name' at row 1\n",
      "/Users/istar/anaconda/lib/python2.7/site-packages/ipykernel/__main__.py:42: Warning: Incorrect string value: '\\xD0\\xA2\\xD0\\xBA\\xD0\\xB0...' for column 'last_name' at row 1\n",
      "/Users/istar/anaconda/lib/python2.7/site-packages/ipykernel/__main__.py:42: Warning: Incorrect string value: '\\xD0\\x96\\xD0\\xB5\\xD0\\xBD...' for column 'main_interest' at row 1\n"
     ]
    },
    {
     "name": "stdout",
     "output_type": "stream",
     "text": [
      "INSERT INTO data2you1.VK_interests(VKiD, first_name, last_name) VALUES(4358125,'Мария','Ерманова')\n"
     ]
    },
    {
     "name": "stderr",
     "output_type": "stream",
     "text": [
      "/Users/istar/anaconda/lib/python2.7/site-packages/ipykernel/__main__.py:50: Warning: Incorrect string value: '\\xD0\\x95\\xD1\\x80\\xD0\\xBC...' for column 'last_name' at row 1\n"
     ]
    },
    {
     "name": "stdout",
     "output_type": "stream",
     "text": [
      "INSERT INTO data2you1.VK_interests(VKiD, first_name, last_name, main_interest) VALUES(34573209,'Денис','Осадчий','Бодибилдинг')\n"
     ]
    },
    {
     "name": "stderr",
     "output_type": "stream",
     "text": [
      "/Users/istar/anaconda/lib/python2.7/site-packages/ipykernel/__main__.py:39: Warning: Incorrect string value: '\\xD0\\x94\\xD0\\xB5\\xD0\\xBD...' for column 'first_name' at row 1\n",
      "/Users/istar/anaconda/lib/python2.7/site-packages/ipykernel/__main__.py:39: Warning: Incorrect string value: '\\xD0\\x9E\\xD1\\x81\\xD0\\xB0...' for column 'last_name' at row 1\n",
      "/Users/istar/anaconda/lib/python2.7/site-packages/ipykernel/__main__.py:42: Warning: Incorrect string value: '\\xD0\\x94\\xD0\\xB5\\xD0\\xBD...' for column 'first_name' at row 1\n",
      "/Users/istar/anaconda/lib/python2.7/site-packages/ipykernel/__main__.py:42: Warning: Incorrect string value: '\\xD0\\x9E\\xD1\\x81\\xD0\\xB0...' for column 'last_name' at row 1\n"
     ]
    },
    {
     "name": "stdout",
     "output_type": "stream",
     "text": [
      "INSERT INTO data2you1.VK_interests(VKiD, first_name, last_name) VALUES(191625713,'Василий','Каплин')\n"
     ]
    },
    {
     "name": "stderr",
     "output_type": "stream",
     "text": [
      "/Users/istar/anaconda/lib/python2.7/site-packages/ipykernel/__main__.py:50: Warning: Incorrect string value: '\\xD0\\x92\\xD0\\xB0\\xD1\\x81...' for column 'first_name' at row 1\n",
      "/Users/istar/anaconda/lib/python2.7/site-packages/ipykernel/__main__.py:50: Warning: Incorrect string value: '\\xD0\\x9A\\xD0\\xB0\\xD0\\xBF...' for column 'last_name' at row 1\n"
     ]
    },
    {
     "name": "stdout",
     "output_type": "stream",
     "text": [
      "INSERT INTO data2you1.VK_interests(VKiD, first_name, last_name) VALUES(214749667,'Яна','Эберт')\n"
     ]
    },
    {
     "name": "stderr",
     "output_type": "stream",
     "text": [
      "/Users/istar/anaconda/lib/python2.7/site-packages/ipykernel/__main__.py:50: Warning: Incorrect string value: '\\xD0\\xAD\\xD0\\xB1\\xD0\\xB5...' for column 'last_name' at row 1\n"
     ]
    },
    {
     "name": "stdout",
     "output_type": "stream",
     "text": [
      "INSERT INTO data2you1.VK_interests(VKiD, first_name, last_name, main_interest) VALUES(151536255,'Таня','Майвэй','Спорт')\n"
     ]
    },
    {
     "name": "stderr",
     "output_type": "stream",
     "text": [
      "/Users/istar/anaconda/lib/python2.7/site-packages/ipykernel/__main__.py:39: Warning: Incorrect string value: '\\xD0\\xA2\\xD0\\xB0\\xD0\\xBD...' for column 'first_name' at row 1\n",
      "/Users/istar/anaconda/lib/python2.7/site-packages/ipykernel/__main__.py:39: Warning: Incorrect string value: '\\xD0\\x9C\\xD0\\xB0\\xD0\\xB9...' for column 'last_name' at row 1\n",
      "/Users/istar/anaconda/lib/python2.7/site-packages/ipykernel/__main__.py:42: Warning: Incorrect string value: '\\xD0\\xA2\\xD0\\xB0\\xD0\\xBD...' for column 'first_name' at row 1\n",
      "/Users/istar/anaconda/lib/python2.7/site-packages/ipykernel/__main__.py:42: Warning: Incorrect string value: '\\xD0\\x9C\\xD0\\xB0\\xD0\\xB9...' for column 'last_name' at row 1\n"
     ]
    },
    {
     "name": "stdout",
     "output_type": "stream",
     "text": [
      "INSERT INTO data2you1.VK_interests(VKiD, first_name, last_name) VALUES(258468989,'Александр','Демидов')\n"
     ]
    },
    {
     "name": "stderr",
     "output_type": "stream",
     "text": [
      "/Users/istar/anaconda/lib/python2.7/site-packages/ipykernel/__main__.py:50: Warning: Incorrect string value: '\\xD0\\x90\\xD0\\xBB\\xD0\\xB5...' for column 'first_name' at row 1\n",
      "/Users/istar/anaconda/lib/python2.7/site-packages/ipykernel/__main__.py:50: Warning: Incorrect string value: '\\xD0\\x94\\xD0\\xB5\\xD0\\xBC...' for column 'last_name' at row 1\n"
     ]
    },
    {
     "name": "stdout",
     "output_type": "stream",
     "text": [
      "INSERT INTO data2you1.VK_interests(VKiD, first_name, last_name, main_interest) VALUES(201541,'Светлана','Ерегина','')\n"
     ]
    },
    {
     "name": "stderr",
     "output_type": "stream",
     "text": [
      "/Users/istar/anaconda/lib/python2.7/site-packages/ipykernel/__main__.py:39: Warning: Incorrect string value: '\\xD0\\xA1\\xD0\\xB2\\xD0\\xB5...' for column 'first_name' at row 1\n",
      "/Users/istar/anaconda/lib/python2.7/site-packages/ipykernel/__main__.py:39: Warning: Incorrect string value: '\\xD0\\x95\\xD1\\x80\\xD0\\xB5...' for column 'last_name' at row 1\n",
      "/Users/istar/anaconda/lib/python2.7/site-packages/ipykernel/__main__.py:42: Warning: Incorrect string value: '\\xD0\\xA1\\xD0\\xB2\\xD0\\xB5...' for column 'first_name' at row 1\n",
      "/Users/istar/anaconda/lib/python2.7/site-packages/ipykernel/__main__.py:42: Warning: Incorrect string value: '\\xD0\\x95\\xD1\\x80\\xD0\\xB5...' for column 'last_name' at row 1\n"
     ]
    },
    {
     "name": "stdout",
     "output_type": "stream",
     "text": [
      "INSERT INTO data2you1.VK_interests(VKiD, first_name, last_name) VALUES(77796930,'Эдуард','Зарипов')\n"
     ]
    },
    {
     "name": "stderr",
     "output_type": "stream",
     "text": [
      "/Users/istar/anaconda/lib/python2.7/site-packages/ipykernel/__main__.py:50: Warning: Incorrect string value: '\\xD0\\xAD\\xD0\\xB4\\xD1\\x83...' for column 'first_name' at row 1\n",
      "/Users/istar/anaconda/lib/python2.7/site-packages/ipykernel/__main__.py:50: Warning: Incorrect string value: '\\xD0\\x97\\xD0\\xB0\\xD1\\x80...' for column 'last_name' at row 1\n"
     ]
    },
    {
     "name": "stdout",
     "output_type": "stream",
     "text": [
      "INSERT INTO data2you1.VK_interests(VKiD, first_name, last_name) VALUES(9266313,'Людмила','Малышевская')\n"
     ]
    },
    {
     "name": "stderr",
     "output_type": "stream",
     "text": [
      "/Users/istar/anaconda/lib/python2.7/site-packages/ipykernel/__main__.py:50: Warning: Incorrect string value: '\\xD0\\x9B\\xD1\\x8E\\xD0\\xB4...' for column 'first_name' at row 1\n",
      "/Users/istar/anaconda/lib/python2.7/site-packages/ipykernel/__main__.py:50: Warning: Incorrect string value: '\\xD0\\x9C\\xD0\\xB0\\xD0\\xBB...' for column 'last_name' at row 1\n"
     ]
    },
    {
     "name": "stdout",
     "output_type": "stream",
     "text": [
      "INSERT INTO data2you1.VK_interests(VKiD, first_name, last_name) VALUES(167622187,'Юрий','Савлюк')\n"
     ]
    },
    {
     "name": "stderr",
     "output_type": "stream",
     "text": [
      "/Users/istar/anaconda/lib/python2.7/site-packages/ipykernel/__main__.py:50: Warning: Incorrect string value: '\\xD0\\xAE\\xD1\\x80\\xD0\\xB8...' for column 'first_name' at row 1\n",
      "/Users/istar/anaconda/lib/python2.7/site-packages/ipykernel/__main__.py:50: Warning: Incorrect string value: '\\xD0\\xA1\\xD0\\xB0\\xD0\\xB2...' for column 'last_name' at row 1\n"
     ]
    },
    {
     "name": "stdout",
     "output_type": "stream",
     "text": [
      "INSERT INTO data2you1.VK_interests(VKiD, first_name, last_name, main_interest) VALUES(4451,'Ольга','Блохина','')\n"
     ]
    },
    {
     "name": "stderr",
     "output_type": "stream",
     "text": [
      "/Users/istar/anaconda/lib/python2.7/site-packages/ipykernel/__main__.py:39: Warning: Incorrect string value: '\\xD0\\x9E\\xD0\\xBB\\xD1\\x8C...' for column 'first_name' at row 1\n",
      "/Users/istar/anaconda/lib/python2.7/site-packages/ipykernel/__main__.py:39: Warning: Incorrect string value: '\\xD0\\x91\\xD0\\xBB\\xD0\\xBE...' for column 'last_name' at row 1\n",
      "/Users/istar/anaconda/lib/python2.7/site-packages/ipykernel/__main__.py:42: Warning: Incorrect string value: '\\xD0\\x9E\\xD0\\xBB\\xD1\\x8C...' for column 'first_name' at row 1\n",
      "/Users/istar/anaconda/lib/python2.7/site-packages/ipykernel/__main__.py:42: Warning: Incorrect string value: '\\xD0\\x91\\xD0\\xBB\\xD0\\xBE...' for column 'last_name' at row 1\n"
     ]
    },
    {
     "name": "stdout",
     "output_type": "stream",
     "text": [
      "INSERT INTO data2you1.VK_interests(VKiD, first_name, last_name) VALUES(29630595,'Денис','Коновалов')\n",
      "INSERT INTO data2you1.VK_interests(VKiD, first_name, last_name, main_interest) VALUES(65606064,'Илья','Семёнов','гунфу')\n"
     ]
    },
    {
     "name": "stderr",
     "output_type": "stream",
     "text": [
      "/Users/istar/anaconda/lib/python2.7/site-packages/ipykernel/__main__.py:39: Warning: Incorrect string value: '\\xD0\\x98\\xD0\\xBB\\xD1\\x8C...' for column 'first_name' at row 1\n",
      "/Users/istar/anaconda/lib/python2.7/site-packages/ipykernel/__main__.py:39: Warning: Incorrect string value: '\\xD0\\xA1\\xD0\\xB5\\xD0\\xBC...' for column 'last_name' at row 1\n",
      "/Users/istar/anaconda/lib/python2.7/site-packages/ipykernel/__main__.py:39: Warning: Incorrect string value: '\\xD0\\xB3\\xD1\\x83\\xD0\\xBD...' for column 'main_interest' at row 1\n",
      "/Users/istar/anaconda/lib/python2.7/site-packages/ipykernel/__main__.py:42: Warning: Incorrect string value: '\\xD0\\x98\\xD0\\xBB\\xD1\\x8C...' for column 'first_name' at row 1\n",
      "/Users/istar/anaconda/lib/python2.7/site-packages/ipykernel/__main__.py:42: Warning: Incorrect string value: '\\xD0\\xA1\\xD0\\xB5\\xD0\\xBC...' for column 'last_name' at row 1\n",
      "/Users/istar/anaconda/lib/python2.7/site-packages/ipykernel/__main__.py:42: Warning: Incorrect string value: '\\xD0\\xB3\\xD1\\x83\\xD0\\xBD...' for column 'main_interest' at row 1\n"
     ]
    },
    {
     "name": "stdout",
     "output_type": "stream",
     "text": [
      "INSERT INTO data2you1.VK_interests(VKiD, first_name, last_name) VALUES(7213140,'Ирина','Воронова')\n"
     ]
    },
    {
     "name": "stderr",
     "output_type": "stream",
     "text": [
      "/Users/istar/anaconda/lib/python2.7/site-packages/ipykernel/__main__.py:50: Warning: Incorrect string value: '\\xD0\\x98\\xD1\\x80\\xD0\\xB8...' for column 'first_name' at row 1\n",
      "/Users/istar/anaconda/lib/python2.7/site-packages/ipykernel/__main__.py:50: Warning: Incorrect string value: '\\xD0\\x92\\xD0\\xBE\\xD1\\x80...' for column 'last_name' at row 1\n"
     ]
    },
    {
     "name": "stdout",
     "output_type": "stream",
     "text": [
      "INSERT INTO data2you1.VK_interests(VKiD, first_name, last_name) VALUES(6791301,'Лина','Медведь')\n"
     ]
    },
    {
     "name": "stderr",
     "output_type": "stream",
     "text": [
      "/Users/istar/anaconda/lib/python2.7/site-packages/ipykernel/__main__.py:50: Warning: Incorrect string value: '\\xD0\\x9B\\xD0\\xB8\\xD0\\xBD...' for column 'first_name' at row 1\n",
      "/Users/istar/anaconda/lib/python2.7/site-packages/ipykernel/__main__.py:50: Warning: Incorrect string value: '\\xD0\\x9C\\xD0\\xB5\\xD0\\xB4...' for column 'last_name' at row 1\n"
     ]
    },
    {
     "name": "stdout",
     "output_type": "stream",
     "text": [
      "INSERT INTO data2you1.VK_interests(VKiD, first_name, last_name, main_interest) VALUES(215841724,'Александр','Поляков','Бег')\n"
     ]
    },
    {
     "name": "stderr",
     "output_type": "stream",
     "text": [
      "/Users/istar/anaconda/lib/python2.7/site-packages/ipykernel/__main__.py:39: Warning: Incorrect string value: '\\xD0\\x90\\xD0\\xBB\\xD0\\xB5...' for column 'first_name' at row 1\n",
      "/Users/istar/anaconda/lib/python2.7/site-packages/ipykernel/__main__.py:39: Warning: Incorrect string value: '\\xD0\\x9F\\xD0\\xBE\\xD0\\xBB...' for column 'last_name' at row 1\n",
      "/Users/istar/anaconda/lib/python2.7/site-packages/ipykernel/__main__.py:39: Warning: Incorrect string value: '\\xD0\\x91\\xD0\\xB5\\xD0\\xB3' for column 'main_interest' at row 1\n",
      "/Users/istar/anaconda/lib/python2.7/site-packages/ipykernel/__main__.py:42: Warning: Incorrect string value: '\\xD0\\x90\\xD0\\xBB\\xD0\\xB5...' for column 'first_name' at row 1\n",
      "/Users/istar/anaconda/lib/python2.7/site-packages/ipykernel/__main__.py:42: Warning: Incorrect string value: '\\xD0\\x9F\\xD0\\xBE\\xD0\\xBB...' for column 'last_name' at row 1\n",
      "/Users/istar/anaconda/lib/python2.7/site-packages/ipykernel/__main__.py:42: Warning: Incorrect string value: '\\xD0\\x91\\xD0\\xB5\\xD0\\xB3' for column 'main_interest' at row 1\n"
     ]
    },
    {
     "name": "stdout",
     "output_type": "stream",
     "text": [
      "INSERT INTO data2you1.VK_interests(VKiD, first_name, last_name, main_interest) VALUES(5731057,'Анастасия','Гулиева','Фитнес')\n"
     ]
    },
    {
     "name": "stderr",
     "output_type": "stream",
     "text": [
      "/Users/istar/anaconda/lib/python2.7/site-packages/ipykernel/__main__.py:39: Warning: Incorrect string value: '\\xD0\\x93\\xD1\\x83\\xD0\\xBB...' for column 'last_name' at row 1\n",
      "/Users/istar/anaconda/lib/python2.7/site-packages/ipykernel/__main__.py:42: Warning: Incorrect string value: '\\xD0\\x93\\xD1\\x83\\xD0\\xBB...' for column 'last_name' at row 1\n"
     ]
    },
    {
     "name": "stdout",
     "output_type": "stream",
     "text": [
      "INSERT INTO data2you1.VK_interests(VKiD, first_name, last_name) VALUES(61840285,'Кристина','Баландина')\n"
     ]
    },
    {
     "name": "stderr",
     "output_type": "stream",
     "text": [
      "/Users/istar/anaconda/lib/python2.7/site-packages/ipykernel/__main__.py:50: Warning: Incorrect string value: '\\xD0\\x91\\xD0\\xB0\\xD0\\xBB...' for column 'last_name' at row 1\n"
     ]
    },
    {
     "name": "stdout",
     "output_type": "stream",
     "text": [
      "INSERT INTO data2you1.VK_interests(VKiD, first_name, last_name, main_interest) VALUES(391152316,'Archie','Official','Путешествия')\n"
     ]
    },
    {
     "name": "stderr",
     "output_type": "stream",
     "text": [
      "/Users/istar/anaconda/lib/python2.7/site-packages/ipykernel/__main__.py:39: Warning: Incorrect string value: '\\xD0\\x9F\\xD1\\x83\\xD1\\x82...' for column 'main_interest' at row 1\n",
      "/Users/istar/anaconda/lib/python2.7/site-packages/ipykernel/__main__.py:42: Warning: Incorrect string value: '\\xD0\\x9F\\xD1\\x83\\xD1\\x82...' for column 'main_interest' at row 1\n"
     ]
    },
    {
     "name": "stdout",
     "output_type": "stream",
     "text": [
      "INSERT INTO data2you1.VK_interests(VKiD, first_name, last_name, main_interest) VALUES(26394441,'Оленька','Кулинич','Спорт - мой образ жизни. Он у меня внутри. В голове')\n"
     ]
    },
    {
     "name": "stderr",
     "output_type": "stream",
     "text": [
      "/Users/istar/anaconda/lib/python2.7/site-packages/ipykernel/__main__.py:39: Warning: Incorrect string value: '\\xD0\\x9E\\xD0\\xBB\\xD0\\xB5...' for column 'first_name' at row 1\n",
      "/Users/istar/anaconda/lib/python2.7/site-packages/ipykernel/__main__.py:39: Warning: Incorrect string value: '\\xD0\\x9A\\xD1\\x83\\xD0\\xBB...' for column 'last_name' at row 1\n",
      "/Users/istar/anaconda/lib/python2.7/site-packages/ipykernel/__main__.py:42: Warning: Incorrect string value: '\\xD0\\x9E\\xD0\\xBB\\xD0\\xB5...' for column 'first_name' at row 1\n",
      "/Users/istar/anaconda/lib/python2.7/site-packages/ipykernel/__main__.py:42: Warning: Incorrect string value: '\\xD0\\x9A\\xD1\\x83\\xD0\\xBB...' for column 'last_name' at row 1\n"
     ]
    },
    {
     "name": "stdout",
     "output_type": "stream",
     "text": [
      "INSERT INTO data2you1.VK_interests(VKiD, first_name, last_name) VALUES(86708262,'Яно4kа','ღangelღ')\n"
     ]
    },
    {
     "name": "stderr",
     "output_type": "stream",
     "text": [
      "/Users/istar/anaconda/lib/python2.7/site-packages/ipykernel/__main__.py:50: Warning: Incorrect string value: '\\xD0\\xAF\\xD0\\xBD\\xD0\\xBE...' for column 'first_name' at row 1\n",
      "/Users/istar/anaconda/lib/python2.7/site-packages/ipykernel/__main__.py:50: Warning: Incorrect string value: '\\xE1\\x83\\xA6ang...' for column 'last_name' at row 1\n"
     ]
    },
    {
     "name": "stdout",
     "output_type": "stream",
     "text": [
      "INSERT INTO data2you1.VK_interests(VKiD, first_name, last_name, main_interest) VALUES(7975646,'Юлия','Рысина','Музыка')\n"
     ]
    },
    {
     "name": "stderr",
     "output_type": "stream",
     "text": [
      "/Users/istar/anaconda/lib/python2.7/site-packages/ipykernel/__main__.py:39: Warning: Incorrect string value: '\\xD0\\xAE\\xD0\\xBB\\xD0\\xB8...' for column 'first_name' at row 1\n",
      "/Users/istar/anaconda/lib/python2.7/site-packages/ipykernel/__main__.py:39: Warning: Incorrect string value: '\\xD0\\xA0\\xD1\\x8B\\xD1\\x81...' for column 'last_name' at row 1\n",
      "/Users/istar/anaconda/lib/python2.7/site-packages/ipykernel/__main__.py:42: Warning: Incorrect string value: '\\xD0\\xAE\\xD0\\xBB\\xD0\\xB8...' for column 'first_name' at row 1\n",
      "/Users/istar/anaconda/lib/python2.7/site-packages/ipykernel/__main__.py:42: Warning: Incorrect string value: '\\xD0\\xA0\\xD1\\x8B\\xD1\\x81...' for column 'last_name' at row 1\n"
     ]
    },
    {
     "name": "stdout",
     "output_type": "stream",
     "text": [
      "INSERT INTO data2you1.VK_interests(VKiD, first_name, last_name) VALUES(151260817,'Кристина','Келлер')\n"
     ]
    },
    {
     "name": "stderr",
     "output_type": "stream",
     "text": [
      "/Users/istar/anaconda/lib/python2.7/site-packages/ipykernel/__main__.py:50: Warning: Incorrect string value: '\\xD0\\x9A\\xD0\\xB5\\xD0\\xBB...' for column 'last_name' at row 1\n"
     ]
    },
    {
     "name": "stdout",
     "output_type": "stream",
     "text": [
      "INSERT INTO data2you1.VK_interests(VKiD, first_name, last_name, main_interest) VALUES(4420563,'Олесь','Тимофеев','Спорт')\n"
     ]
    },
    {
     "name": "stderr",
     "output_type": "stream",
     "text": [
      "/Users/istar/anaconda/lib/python2.7/site-packages/ipykernel/__main__.py:39: Warning: Incorrect string value: '\\xD0\\xA2\\xD0\\xB8\\xD0\\xBC...' for column 'last_name' at row 1\n",
      "/Users/istar/anaconda/lib/python2.7/site-packages/ipykernel/__main__.py:42: Warning: Incorrect string value: '\\xD0\\xA2\\xD0\\xB8\\xD0\\xBC...' for column 'last_name' at row 1\n"
     ]
    },
    {
     "name": "stdout",
     "output_type": "stream",
     "text": [
      "INSERT INTO data2you1.VK_interests(VKiD, first_name, last_name, main_interest) VALUES(162320209,'Андрей','Василюк','Спортивное Питание')\n"
     ]
    },
    {
     "name": "stderr",
     "output_type": "stream",
     "text": [
      "/Users/istar/anaconda/lib/python2.7/site-packages/ipykernel/__main__.py:39: Warning: Incorrect string value: '\\xD0\\x90\\xD0\\xBD\\xD0\\xB4...' for column 'first_name' at row 1\n",
      "/Users/istar/anaconda/lib/python2.7/site-packages/ipykernel/__main__.py:39: Warning: Incorrect string value: '\\xD0\\x92\\xD0\\xB0\\xD1\\x81...' for column 'last_name' at row 1\n",
      "/Users/istar/anaconda/lib/python2.7/site-packages/ipykernel/__main__.py:42: Warning: Incorrect string value: '\\xD0\\x90\\xD0\\xBD\\xD0\\xB4...' for column 'first_name' at row 1\n",
      "/Users/istar/anaconda/lib/python2.7/site-packages/ipykernel/__main__.py:42: Warning: Incorrect string value: '\\xD0\\x92\\xD0\\xB0\\xD1\\x81...' for column 'last_name' at row 1\n"
     ]
    },
    {
     "name": "stdout",
     "output_type": "stream",
     "text": [
      "INSERT INTO data2you1.VK_interests(VKiD, first_name, last_name, main_interest) VALUES(331361,'Тимур','Тажетдинов','Инфобизнес')\n"
     ]
    },
    {
     "name": "stderr",
     "output_type": "stream",
     "text": [
      "/Users/istar/anaconda/lib/python2.7/site-packages/ipykernel/__main__.py:39: Warning: Incorrect string value: '\\xD0\\xA2\\xD0\\xB8\\xD0\\xBC...' for column 'first_name' at row 1\n",
      "/Users/istar/anaconda/lib/python2.7/site-packages/ipykernel/__main__.py:39: Warning: Incorrect string value: '\\xD0\\xA2\\xD0\\xB0\\xD0\\xB6...' for column 'last_name' at row 1\n",
      "/Users/istar/anaconda/lib/python2.7/site-packages/ipykernel/__main__.py:39: Warning: Incorrect string value: '\\xD0\\x98\\xD0\\xBD\\xD1\\x84...' for column 'main_interest' at row 1\n",
      "/Users/istar/anaconda/lib/python2.7/site-packages/ipykernel/__main__.py:42: Warning: Incorrect string value: '\\xD0\\xA2\\xD0\\xB8\\xD0\\xBC...' for column 'first_name' at row 1\n",
      "/Users/istar/anaconda/lib/python2.7/site-packages/ipykernel/__main__.py:42: Warning: Incorrect string value: '\\xD0\\xA2\\xD0\\xB0\\xD0\\xB6...' for column 'last_name' at row 1\n",
      "/Users/istar/anaconda/lib/python2.7/site-packages/ipykernel/__main__.py:42: Warning: Incorrect string value: '\\xD0\\x98\\xD0\\xBD\\xD1\\x84...' for column 'main_interest' at row 1\n"
     ]
    },
    {
     "name": "stdout",
     "output_type": "stream",
     "text": [
      "INSERT INTO data2you1.VK_interests(VKiD, first_name, last_name) VALUES(390108718,'Роман','Верон')\n"
     ]
    },
    {
     "name": "stderr",
     "output_type": "stream",
     "text": [
      "/Users/istar/anaconda/lib/python2.7/site-packages/ipykernel/__main__.py:50: Warning: Incorrect string value: '\\xD0\\xA0\\xD0\\xBE\\xD0\\xBC...' for column 'first_name' at row 1\n",
      "/Users/istar/anaconda/lib/python2.7/site-packages/ipykernel/__main__.py:50: Warning: Incorrect string value: '\\xD0\\x92\\xD0\\xB5\\xD1\\x80...' for column 'last_name' at row 1\n"
     ]
    },
    {
     "name": "stdout",
     "output_type": "stream",
     "text": [
      "INSERT INTO data2you1.VK_interests(VKiD, first_name, last_name, main_interest) VALUES(318236739,'Алиса','Орлова','Музыка (рок')\n"
     ]
    },
    {
     "name": "stderr",
     "output_type": "stream",
     "text": [
      "/Users/istar/anaconda/lib/python2.7/site-packages/ipykernel/__main__.py:39: Warning: Incorrect string value: '\\xD0\\x90\\xD0\\xBB\\xD0\\xB8...' for column 'first_name' at row 1\n",
      "/Users/istar/anaconda/lib/python2.7/site-packages/ipykernel/__main__.py:39: Warning: Incorrect string value: '\\xD0\\x9E\\xD1\\x80\\xD0\\xBB...' for column 'last_name' at row 1\n",
      "/Users/istar/anaconda/lib/python2.7/site-packages/ipykernel/__main__.py:42: Warning: Incorrect string value: '\\xD0\\x90\\xD0\\xBB\\xD0\\xB8...' for column 'first_name' at row 1\n",
      "/Users/istar/anaconda/lib/python2.7/site-packages/ipykernel/__main__.py:42: Warning: Incorrect string value: '\\xD0\\x9E\\xD1\\x80\\xD0\\xBB...' for column 'last_name' at row 1\n"
     ]
    },
    {
     "name": "stdout",
     "output_type": "stream",
     "text": [
      "INSERT INTO data2you1.VK_interests(VKiD, first_name, last_name) VALUES(187225818,'Ксения','Иванова')\n"
     ]
    },
    {
     "name": "stderr",
     "output_type": "stream",
     "text": [
      "/Users/istar/anaconda/lib/python2.7/site-packages/ipykernel/__main__.py:50: Warning: Incorrect string value: '\\xD0\\x9A\\xD1\\x81\\xD0\\xB5...' for column 'first_name' at row 1\n",
      "/Users/istar/anaconda/lib/python2.7/site-packages/ipykernel/__main__.py:50: Warning: Incorrect string value: '\\xD0\\x98\\xD0\\xB2\\xD0\\xB0...' for column 'last_name' at row 1\n"
     ]
    },
    {
     "name": "stdout",
     "output_type": "stream",
     "text": [
      "INSERT INTO data2you1.VK_interests(VKiD, first_name, last_name) VALUES(19374653,'Игорь','Горбачев')\n"
     ]
    },
    {
     "name": "stderr",
     "output_type": "stream",
     "text": [
      "/Users/istar/anaconda/lib/python2.7/site-packages/ipykernel/__main__.py:50: Warning: Incorrect string value: '\\xD0\\x98\\xD0\\xB3\\xD0\\xBE...' for column 'first_name' at row 1\n",
      "/Users/istar/anaconda/lib/python2.7/site-packages/ipykernel/__main__.py:50: Warning: Incorrect string value: '\\xD0\\x93\\xD0\\xBE\\xD1\\x80...' for column 'last_name' at row 1\n"
     ]
    },
    {
     "name": "stdout",
     "output_type": "stream",
     "text": [
      "INSERT INTO data2you1.VK_interests(VKiD, first_name, last_name, main_interest) VALUES(217205661,'Тарас','Кот','МУЗЫКА')\n"
     ]
    },
    {
     "name": "stderr",
     "output_type": "stream",
     "text": [
      "/Users/istar/anaconda/lib/python2.7/site-packages/ipykernel/__main__.py:39: Warning: Incorrect string value: '\\xD0\\xA2\\xD0\\xB0\\xD1\\x80...' for column 'first_name' at row 1\n",
      "/Users/istar/anaconda/lib/python2.7/site-packages/ipykernel/__main__.py:39: Warning: Incorrect string value: '\\xD0\\x9A\\xD0\\xBE\\xD1\\x82' for column 'last_name' at row 1\n",
      "/Users/istar/anaconda/lib/python2.7/site-packages/ipykernel/__main__.py:39: Warning: Incorrect string value: '\\xD0\\x9C\\xD0\\xA3\\xD0\\x97...' for column 'main_interest' at row 1\n",
      "/Users/istar/anaconda/lib/python2.7/site-packages/ipykernel/__main__.py:42: Warning: Incorrect string value: '\\xD0\\xA2\\xD0\\xB0\\xD1\\x80...' for column 'first_name' at row 1\n",
      "/Users/istar/anaconda/lib/python2.7/site-packages/ipykernel/__main__.py:42: Warning: Incorrect string value: '\\xD0\\x9A\\xD0\\xBE\\xD1\\x82' for column 'last_name' at row 1\n",
      "/Users/istar/anaconda/lib/python2.7/site-packages/ipykernel/__main__.py:42: Warning: Incorrect string value: '\\xD0\\x9C\\xD0\\xA3\\xD0\\x97...' for column 'main_interest' at row 1\n"
     ]
    },
    {
     "name": "stdout",
     "output_type": "stream",
     "text": [
      "INSERT INTO data2you1.VK_interests(VKiD, first_name, last_name) VALUES(3737658,'Ольга','Кондакова')\n"
     ]
    },
    {
     "name": "stderr",
     "output_type": "stream",
     "text": [
      "/Users/istar/anaconda/lib/python2.7/site-packages/ipykernel/__main__.py:50: Warning: Incorrect string value: '\\xD0\\x9E\\xD0\\xBB\\xD1\\x8C...' for column 'first_name' at row 1\n"
     ]
    },
    {
     "name": "stdout",
     "output_type": "stream",
     "text": [
      "INSERT INTO data2you1.VK_interests(VKiD, first_name, last_name, main_interest) VALUES(3715953,'Дарья','Мануйленкова','прееееееессс..')\n"
     ]
    },
    {
     "name": "stderr",
     "output_type": "stream",
     "text": [
      "/Users/istar/anaconda/lib/python2.7/site-packages/ipykernel/__main__.py:39: Warning: Incorrect string value: '\\xD0\\x94\\xD0\\xB0\\xD1\\x80...' for column 'first_name' at row 1\n",
      "/Users/istar/anaconda/lib/python2.7/site-packages/ipykernel/__main__.py:39: Warning: Incorrect string value: '\\xD0\\x9C\\xD0\\xB0\\xD0\\xBD...' for column 'last_name' at row 1\n",
      "/Users/istar/anaconda/lib/python2.7/site-packages/ipykernel/__main__.py:39: Warning: Incorrect string value: '\\xD0\\xBF\\xD1\\x80\\xD0\\xB5...' for column 'main_interest' at row 1\n",
      "/Users/istar/anaconda/lib/python2.7/site-packages/ipykernel/__main__.py:42: Warning: Incorrect string value: '\\xD0\\x94\\xD0\\xB0\\xD1\\x80...' for column 'first_name' at row 1\n",
      "/Users/istar/anaconda/lib/python2.7/site-packages/ipykernel/__main__.py:42: Warning: Incorrect string value: '\\xD0\\x9C\\xD0\\xB0\\xD0\\xBD...' for column 'last_name' at row 1\n",
      "/Users/istar/anaconda/lib/python2.7/site-packages/ipykernel/__main__.py:42: Warning: Incorrect string value: '\\xD0\\xBF\\xD1\\x80\\xD0\\xB5...' for column 'main_interest' at row 1\n"
     ]
    },
    {
     "name": "stdout",
     "output_type": "stream",
     "text": [
      "INSERT INTO data2you1.VK_interests(VKiD, first_name, last_name, main_interest) VALUES(29815283,'Арина','Тищенко','Танцы')\n"
     ]
    },
    {
     "name": "stderr",
     "output_type": "stream",
     "text": [
      "/Users/istar/anaconda/lib/python2.7/site-packages/ipykernel/__main__.py:39: Warning: Incorrect string value: '\\xD0\\x90\\xD1\\x80\\xD0\\xB8...' for column 'first_name' at row 1\n",
      "/Users/istar/anaconda/lib/python2.7/site-packages/ipykernel/__main__.py:39: Warning: Incorrect string value: '\\xD0\\xA2\\xD0\\xB8\\xD1\\x89...' for column 'last_name' at row 1\n",
      "/Users/istar/anaconda/lib/python2.7/site-packages/ipykernel/__main__.py:39: Warning: Incorrect string value: '\\xD0\\xA2\\xD0\\xB0\\xD0\\xBD...' for column 'main_interest' at row 1\n",
      "/Users/istar/anaconda/lib/python2.7/site-packages/ipykernel/__main__.py:42: Warning: Incorrect string value: '\\xD0\\x90\\xD1\\x80\\xD0\\xB8...' for column 'first_name' at row 1\n",
      "/Users/istar/anaconda/lib/python2.7/site-packages/ipykernel/__main__.py:42: Warning: Incorrect string value: '\\xD0\\xA2\\xD0\\xB8\\xD1\\x89...' for column 'last_name' at row 1\n",
      "/Users/istar/anaconda/lib/python2.7/site-packages/ipykernel/__main__.py:42: Warning: Incorrect string value: '\\xD0\\xA2\\xD0\\xB0\\xD0\\xBD...' for column 'main_interest' at row 1\n"
     ]
    },
    {
     "name": "stdout",
     "output_type": "stream",
     "text": [
      "INSERT INTO data2you1.VK_interests(VKiD, first_name, last_name) VALUES(148943263,'Александр','Емельяненко')\n"
     ]
    },
    {
     "name": "stderr",
     "output_type": "stream",
     "text": [
      "/Users/istar/anaconda/lib/python2.7/site-packages/ipykernel/__main__.py:50: Warning: Incorrect string value: '\\xD0\\x95\\xD0\\xBC\\xD0\\xB5...' for column 'last_name' at row 1\n"
     ]
    },
    {
     "name": "stdout",
     "output_type": "stream",
     "text": [
      "INSERT INTO data2you1.VK_interests(VKiD, first_name, last_name) VALUES(7908596,'Катюша','Федорова')\n"
     ]
    },
    {
     "name": "stderr",
     "output_type": "stream",
     "text": [
      "/Users/istar/anaconda/lib/python2.7/site-packages/ipykernel/__main__.py:50: Warning: Incorrect string value: '\\xD0\\x9A\\xD0\\xB0\\xD1\\x82...' for column 'first_name' at row 1\n",
      "/Users/istar/anaconda/lib/python2.7/site-packages/ipykernel/__main__.py:50: Warning: Incorrect string value: '\\xD0\\xA4\\xD0\\xB5\\xD0\\xB4...' for column 'last_name' at row 1\n"
     ]
    },
    {
     "name": "stdout",
     "output_type": "stream",
     "text": [
      "INSERT INTO data2you1.VK_interests(VKiD, first_name, last_name, main_interest) VALUES(14728117,'Вячеслав','Бо','Бодибилдинг')\n"
     ]
    },
    {
     "name": "stderr",
     "output_type": "stream",
     "text": [
      "/Users/istar/anaconda/lib/python2.7/site-packages/ipykernel/__main__.py:39: Warning: Incorrect string value: '\\xD0\\x92\\xD1\\x8F\\xD1\\x87...' for column 'first_name' at row 1\n",
      "/Users/istar/anaconda/lib/python2.7/site-packages/ipykernel/__main__.py:39: Warning: Incorrect string value: '\\xD0\\x91\\xD0\\xBE' for column 'last_name' at row 1\n",
      "/Users/istar/anaconda/lib/python2.7/site-packages/ipykernel/__main__.py:42: Warning: Incorrect string value: '\\xD0\\x92\\xD1\\x8F\\xD1\\x87...' for column 'first_name' at row 1\n",
      "/Users/istar/anaconda/lib/python2.7/site-packages/ipykernel/__main__.py:42: Warning: Incorrect string value: '\\xD0\\x91\\xD0\\xBE' for column 'last_name' at row 1\n"
     ]
    },
    {
     "name": "stdout",
     "output_type": "stream",
     "text": [
      "INSERT INTO data2you1.VK_interests(VKiD, first_name, last_name, main_interest) VALUES(27762613,'Наталья','Кознова','Личное развитие')\n"
     ]
    },
    {
     "name": "stderr",
     "output_type": "stream",
     "text": [
      "/Users/istar/anaconda/lib/python2.7/site-packages/ipykernel/__main__.py:39: Warning: Incorrect string value: '\\xD0\\x9D\\xD0\\xB0\\xD1\\x82...' for column 'first_name' at row 1\n",
      "/Users/istar/anaconda/lib/python2.7/site-packages/ipykernel/__main__.py:39: Warning: Incorrect string value: '\\xD0\\x9A\\xD0\\xBE\\xD0\\xB7...' for column 'last_name' at row 1\n",
      "/Users/istar/anaconda/lib/python2.7/site-packages/ipykernel/__main__.py:39: Warning: Incorrect string value: '\\xD0\\x9B\\xD0\\xB8\\xD1\\x87...' for column 'main_interest' at row 1\n",
      "/Users/istar/anaconda/lib/python2.7/site-packages/ipykernel/__main__.py:42: Warning: Incorrect string value: '\\xD0\\x9D\\xD0\\xB0\\xD1\\x82...' for column 'first_name' at row 1\n",
      "/Users/istar/anaconda/lib/python2.7/site-packages/ipykernel/__main__.py:42: Warning: Incorrect string value: '\\xD0\\x9A\\xD0\\xBE\\xD0\\xB7...' for column 'last_name' at row 1\n",
      "/Users/istar/anaconda/lib/python2.7/site-packages/ipykernel/__main__.py:42: Warning: Incorrect string value: '\\xD0\\x9B\\xD0\\xB8\\xD1\\x87...' for column 'main_interest' at row 1\n"
     ]
    },
    {
     "name": "stdout",
     "output_type": "stream",
     "text": [
      "INSERT INTO data2you1.VK_interests(VKiD, first_name, last_name) VALUES(1315111,'Irinka','Belokoneva')\n",
      "INSERT INTO data2you1.VK_interests(VKiD, first_name, last_name, main_interest) VALUES(7066154,'Анжелика','Анлимова','Искусство')\n"
     ]
    },
    {
     "name": "stderr",
     "output_type": "stream",
     "text": [
      "/Users/istar/anaconda/lib/python2.7/site-packages/ipykernel/__main__.py:39: Warning: Incorrect string value: '\\xD0\\x90\\xD0\\xBD\\xD0\\xB6...' for column 'first_name' at row 1\n",
      "/Users/istar/anaconda/lib/python2.7/site-packages/ipykernel/__main__.py:39: Warning: Incorrect string value: '\\xD0\\x90\\xD0\\xBD\\xD0\\xBB...' for column 'last_name' at row 1\n",
      "/Users/istar/anaconda/lib/python2.7/site-packages/ipykernel/__main__.py:39: Warning: Incorrect string value: '\\xD0\\x98\\xD1\\x81\\xD0\\xBA...' for column 'main_interest' at row 1\n",
      "/Users/istar/anaconda/lib/python2.7/site-packages/ipykernel/__main__.py:42: Warning: Incorrect string value: '\\xD0\\x90\\xD0\\xBD\\xD0\\xB6...' for column 'first_name' at row 1\n",
      "/Users/istar/anaconda/lib/python2.7/site-packages/ipykernel/__main__.py:42: Warning: Incorrect string value: '\\xD0\\x90\\xD0\\xBD\\xD0\\xBB...' for column 'last_name' at row 1\n",
      "/Users/istar/anaconda/lib/python2.7/site-packages/ipykernel/__main__.py:42: Warning: Incorrect string value: '\\xD0\\x98\\xD1\\x81\\xD0\\xBA...' for column 'main_interest' at row 1\n"
     ]
    },
    {
     "name": "stdout",
     "output_type": "stream",
     "text": [
      "INSERT INTO data2you1.VK_interests(VKiD, first_name, last_name) VALUES(8159476,'Сара','Рэмси')\n"
     ]
    },
    {
     "name": "stderr",
     "output_type": "stream",
     "text": [
      "/Users/istar/anaconda/lib/python2.7/site-packages/ipykernel/__main__.py:50: Warning: Incorrect string value: '\\xD0\\xA1\\xD0\\xB0\\xD1\\x80...' for column 'first_name' at row 1\n",
      "/Users/istar/anaconda/lib/python2.7/site-packages/ipykernel/__main__.py:50: Warning: Incorrect string value: '\\xD0\\xA0\\xD1\\x8D\\xD0\\xBC...' for column 'last_name' at row 1\n"
     ]
    },
    {
     "name": "stdout",
     "output_type": "stream",
     "text": [
      "INSERT INTO data2you1.VK_interests(VKiD, first_name, last_name) VALUES(37527035,'Андрей','Литовченко')\n"
     ]
    },
    {
     "name": "stderr",
     "output_type": "stream",
     "text": [
      "/Users/istar/anaconda/lib/python2.7/site-packages/ipykernel/__main__.py:50: Warning: Incorrect string value: '\\xD0\\x90\\xD0\\xBD\\xD0\\xB4...' for column 'first_name' at row 1\n"
     ]
    },
    {
     "name": "stdout",
     "output_type": "stream",
     "text": [
      "INSERT INTO data2you1.VK_interests(VKiD, first_name, last_name, main_interest) VALUES(4662902,'Кристина','Исаева','♥')\n"
     ]
    },
    {
     "name": "stderr",
     "output_type": "stream",
     "text": [
      "/Users/istar/anaconda/lib/python2.7/site-packages/ipykernel/__main__.py:39: Warning: Incorrect string value: '\\xD0\\x9A\\xD1\\x80\\xD0\\xB8...' for column 'first_name' at row 1\n",
      "/Users/istar/anaconda/lib/python2.7/site-packages/ipykernel/__main__.py:39: Warning: Incorrect string value: '\\xD0\\x98\\xD1\\x81\\xD0\\xB0...' for column 'last_name' at row 1\n",
      "/Users/istar/anaconda/lib/python2.7/site-packages/ipykernel/__main__.py:39: Warning: Incorrect string value: '\\xE2\\x99\\xA5' for column 'main_interest' at row 1\n",
      "/Users/istar/anaconda/lib/python2.7/site-packages/ipykernel/__main__.py:42: Warning: Incorrect string value: '\\xD0\\x9A\\xD1\\x80\\xD0\\xB8...' for column 'first_name' at row 1\n",
      "/Users/istar/anaconda/lib/python2.7/site-packages/ipykernel/__main__.py:42: Warning: Incorrect string value: '\\xD0\\x98\\xD1\\x81\\xD0\\xB0...' for column 'last_name' at row 1\n",
      "/Users/istar/anaconda/lib/python2.7/site-packages/ipykernel/__main__.py:42: Warning: Incorrect string value: '\\xE2\\x99\\xA5' for column 'main_interest' at row 1\n"
     ]
    },
    {
     "name": "stdout",
     "output_type": "stream",
     "text": [
      "INSERT INTO data2you1.VK_interests(VKiD, first_name, last_name, main_interest) VALUES(32039096,'Lola','Will','ну люблю рисовать')\n"
     ]
    },
    {
     "name": "stderr",
     "output_type": "stream",
     "text": [
      "/Users/istar/anaconda/lib/python2.7/site-packages/ipykernel/__main__.py:39: Warning: Incorrect string value: '\\xD0\\xBD\\xD1\\x83 \\xD0...' for column 'main_interest' at row 1\n",
      "/Users/istar/anaconda/lib/python2.7/site-packages/ipykernel/__main__.py:42: Warning: Incorrect string value: '\\xD0\\xBD\\xD1\\x83 \\xD0...' for column 'main_interest' at row 1\n"
     ]
    },
    {
     "name": "stdout",
     "output_type": "stream",
     "text": [
      "INSERT INTO data2you1.VK_interests(VKiD, first_name, last_name, main_interest) VALUES(7873248,'Виктория','Вольвич','Кино')\n"
     ]
    },
    {
     "name": "stderr",
     "output_type": "stream",
     "text": [
      "/Users/istar/anaconda/lib/python2.7/site-packages/ipykernel/__main__.py:39: Warning: Incorrect string value: '\\xD0\\x92\\xD0\\xB8\\xD0\\xBA...' for column 'first_name' at row 1\n",
      "/Users/istar/anaconda/lib/python2.7/site-packages/ipykernel/__main__.py:39: Warning: Incorrect string value: '\\xD0\\x92\\xD0\\xBE\\xD0\\xBB...' for column 'last_name' at row 1\n",
      "/Users/istar/anaconda/lib/python2.7/site-packages/ipykernel/__main__.py:39: Warning: Incorrect string value: '\\xD0\\x9A\\xD0\\xB8\\xD0\\xBD...' for column 'main_interest' at row 1\n",
      "/Users/istar/anaconda/lib/python2.7/site-packages/ipykernel/__main__.py:42: Warning: Incorrect string value: '\\xD0\\x92\\xD0\\xB8\\xD0\\xBA...' for column 'first_name' at row 1\n",
      "/Users/istar/anaconda/lib/python2.7/site-packages/ipykernel/__main__.py:42: Warning: Incorrect string value: '\\xD0\\x92\\xD0\\xBE\\xD0\\xBB...' for column 'last_name' at row 1\n",
      "/Users/istar/anaconda/lib/python2.7/site-packages/ipykernel/__main__.py:42: Warning: Incorrect string value: '\\xD0\\x9A\\xD0\\xB8\\xD0\\xBD...' for column 'main_interest' at row 1\n"
     ]
    },
    {
     "name": "stdout",
     "output_type": "stream",
     "text": [
      "INSERT INTO data2you1.VK_interests(VKiD, first_name, last_name) VALUES(61073,'Владислав','Жуковский')\n"
     ]
    },
    {
     "name": "stderr",
     "output_type": "stream",
     "text": [
      "/Users/istar/anaconda/lib/python2.7/site-packages/ipykernel/__main__.py:50: Warning: Incorrect string value: '\\xD0\\x96\\xD1\\x83\\xD0\\xBA...' for column 'last_name' at row 1\n"
     ]
    },
    {
     "name": "stdout",
     "output_type": "stream",
     "text": [
      "INSERT INTO data2you1.VK_interests(VKiD, first_name, last_name, main_interest) VALUES(213546536,'Инга','Паприка','Фитнес')\n"
     ]
    },
    {
     "name": "stderr",
     "output_type": "stream",
     "text": [
      "/Users/istar/anaconda/lib/python2.7/site-packages/ipykernel/__main__.py:39: Warning: Incorrect string value: '\\xD0\\x98\\xD0\\xBD\\xD0\\xB3...' for column 'first_name' at row 1\n",
      "/Users/istar/anaconda/lib/python2.7/site-packages/ipykernel/__main__.py:39: Warning: Incorrect string value: '\\xD0\\x9F\\xD0\\xB0\\xD0\\xBF...' for column 'last_name' at row 1\n",
      "/Users/istar/anaconda/lib/python2.7/site-packages/ipykernel/__main__.py:42: Warning: Incorrect string value: '\\xD0\\x98\\xD0\\xBD\\xD0\\xB3...' for column 'first_name' at row 1\n",
      "/Users/istar/anaconda/lib/python2.7/site-packages/ipykernel/__main__.py:42: Warning: Incorrect string value: '\\xD0\\x9F\\xD0\\xB0\\xD0\\xBF...' for column 'last_name' at row 1\n"
     ]
    },
    {
     "name": "stdout",
     "output_type": "stream",
     "text": [
      "INSERT INTO data2you1.VK_interests(VKiD, first_name, last_name) VALUES(6528699,'Александр','Челушкин')\n"
     ]
    },
    {
     "name": "stderr",
     "output_type": "stream",
     "text": [
      "/Users/istar/anaconda/lib/python2.7/site-packages/ipykernel/__main__.py:50: Warning: Incorrect string value: '\\xD0\\xA7\\xD0\\xB5\\xD0\\xBB...' for column 'last_name' at row 1\n"
     ]
    },
    {
     "name": "stdout",
     "output_type": "stream",
     "text": [
      "INSERT INTO data2you1.VK_interests(VKiD, first_name, last_name) VALUES(211427737,'Вячеслав','Герасимов')\n"
     ]
    },
    {
     "name": "stderr",
     "output_type": "stream",
     "text": [
      "/Users/istar/anaconda/lib/python2.7/site-packages/ipykernel/__main__.py:50: Warning: Incorrect string value: '\\xD0\\x92\\xD1\\x8F\\xD1\\x87...' for column 'first_name' at row 1\n",
      "/Users/istar/anaconda/lib/python2.7/site-packages/ipykernel/__main__.py:50: Warning: Incorrect string value: '\\xD0\\x93\\xD0\\xB5\\xD1\\x80...' for column 'last_name' at row 1\n"
     ]
    },
    {
     "name": "stdout",
     "output_type": "stream",
     "text": [
      "INSERT INTO data2you1.VK_interests(VKiD, first_name, last_name, main_interest) VALUES(125494030,'Рубин','Гайнуллин','Бодибилдинг и фитнес')\n"
     ]
    },
    {
     "name": "stderr",
     "output_type": "stream",
     "text": [
      "/Users/istar/anaconda/lib/python2.7/site-packages/ipykernel/__main__.py:39: Warning: Incorrect string value: '\\xD0\\xA0\\xD1\\x83\\xD0\\xB1...' for column 'first_name' at row 1\n",
      "/Users/istar/anaconda/lib/python2.7/site-packages/ipykernel/__main__.py:39: Warning: Incorrect string value: '\\xD0\\x93\\xD0\\xB0\\xD0\\xB9...' for column 'last_name' at row 1\n",
      "/Users/istar/anaconda/lib/python2.7/site-packages/ipykernel/__main__.py:42: Warning: Incorrect string value: '\\xD0\\xA0\\xD1\\x83\\xD0\\xB1...' for column 'first_name' at row 1\n",
      "/Users/istar/anaconda/lib/python2.7/site-packages/ipykernel/__main__.py:42: Warning: Incorrect string value: '\\xD0\\x93\\xD0\\xB0\\xD0\\xB9...' for column 'last_name' at row 1\n"
     ]
    },
    {
     "name": "stdout",
     "output_type": "stream",
     "text": [
      "INSERT INTO data2you1.VK_interests(VKiD, first_name, last_name, main_interest) VALUES(7985571,'Оленька','А.','психология')\n"
     ]
    },
    {
     "name": "stderr",
     "output_type": "stream",
     "text": [
      "/Users/istar/anaconda/lib/python2.7/site-packages/ipykernel/__main__.py:39: Warning: Incorrect string value: '\\xD0\\x90.' for column 'last_name' at row 1\n",
      "/Users/istar/anaconda/lib/python2.7/site-packages/ipykernel/__main__.py:39: Warning: Incorrect string value: '\\xD0\\xBF\\xD1\\x81\\xD0\\xB8...' for column 'main_interest' at row 1\n",
      "/Users/istar/anaconda/lib/python2.7/site-packages/ipykernel/__main__.py:42: Warning: Incorrect string value: '\\xD0\\x90.' for column 'last_name' at row 1\n",
      "/Users/istar/anaconda/lib/python2.7/site-packages/ipykernel/__main__.py:42: Warning: Incorrect string value: '\\xD0\\xBF\\xD1\\x81\\xD0\\xB8...' for column 'main_interest' at row 1\n"
     ]
    },
    {
     "name": "stdout",
     "output_type": "stream",
     "text": [
      "INSERT INTO data2you1.VK_interests(VKiD, first_name, last_name) VALUES(254951789,'Delf','Winter')\n",
      "INSERT INTO data2you1.VK_interests(VKiD, first_name, last_name) VALUES(30284420,'Леся','Малышка')\n",
      "err\n",
      "INSERT INTO data2you1.VK_interests(VKiD, first_name, last_name) VALUES(54971612,'Елена','Абрамова')\n",
      "err\n",
      "INSERT INTO data2you1.VK_interests(VKiD, first_name, last_name, main_interest) VALUES(289555019,'Даша','Снежная','Психология человека')\n"
     ]
    },
    {
     "ename": "ProgrammingError",
     "evalue": "(2014, \"Commands out of sync; you can't run this command now\")",
     "output_type": "error",
     "traceback": [
      "\u001b[0;31m---------------------------------------------------------------\u001b[0m",
      "\u001b[0;31mProgrammingError\u001b[0m              Traceback (most recent call last)",
      "\u001b[0;32m<ipython-input-25-97b443d09935>\u001b[0m in \u001b[0;36m<module>\u001b[0;34m()\u001b[0m\n\u001b[0;32m----> 1\u001b[0;31m \u001b[0mvkint\u001b[0m\u001b[0;34m.\u001b[0m\u001b[0madd_all_data_to_sql\u001b[0m\u001b[0;34m(\u001b[0m\u001b[0;34m)\u001b[0m\u001b[0;34m\u001b[0m\u001b[0m\n\u001b[0m",
      "\u001b[0;32m<ipython-input-23-44482c9ab3d9>\u001b[0m in \u001b[0;36madd_all_data_to_sql\u001b[0;34m(self)\u001b[0m\n\u001b[1;32m     62\u001b[0m         \u001b[0mtable\u001b[0m\u001b[0;34m.\u001b[0m\u001b[0mrewrite_table_if_exist\u001b[0m\u001b[0;34m(\u001b[0m\u001b[0;34m)\u001b[0m\u001b[0;34m\u001b[0m\u001b[0m\n\u001b[1;32m     63\u001b[0m         \u001b[0;32mif\u001b[0m \u001b[0mtable\u001b[0m\u001b[0;34m.\u001b[0m\u001b[0mask_yes\u001b[0m\u001b[0;34m(\u001b[0m\u001b[0;34m\"Do you want to add {0} row in table {1}? \"\u001b[0m\u001b[0;34m.\u001b[0m\u001b[0mformat\u001b[0m\u001b[0;34m(\u001b[0m\u001b[0mlen\u001b[0m\u001b[0;34m(\u001b[0m\u001b[0mself\u001b[0m\u001b[0;34m.\u001b[0m\u001b[0mpersons\u001b[0m\u001b[0;34m)\u001b[0m\u001b[0;34m,\u001b[0m \u001b[0mtable\u001b[0m\u001b[0;34m.\u001b[0m\u001b[0mtable_name\u001b[0m\u001b[0;34m)\u001b[0m\u001b[0;34m)\u001b[0m\u001b[0;34m:\u001b[0m\u001b[0;34m\u001b[0m\u001b[0m\n\u001b[0;32m---> 64\u001b[0;31m             \u001b[0mtable\u001b[0m\u001b[0;34m.\u001b[0m\u001b[0madd_rows\u001b[0m\u001b[0;34m(\u001b[0m\u001b[0mself\u001b[0m\u001b[0;34m.\u001b[0m\u001b[0mpersons\u001b[0m\u001b[0;34m)\u001b[0m\u001b[0;34m\u001b[0m\u001b[0m\n\u001b[0m\u001b[1;32m     65\u001b[0m         \u001b[0;32melse\u001b[0m\u001b[0;34m:\u001b[0m\u001b[0;34m\u001b[0m\u001b[0m\n\u001b[1;32m     66\u001b[0m             \u001b[0;32mreturn\u001b[0m\u001b[0;34m\u001b[0m\u001b[0m\n",
      "\u001b[0;32m<ipython-input-21-c9aea51fd758>\u001b[0m in \u001b[0;36madd_rows\u001b[0;34m(self, data)\u001b[0m\n\u001b[1;32m     37\u001b[0m                     \u001b[0mquerry\u001b[0m \u001b[0;34m=\u001b[0m \u001b[0;34m\"INSERT INTO {0}(VKiD, first_name, last_name, main_interest) VALUES({1},'{2}','{3}','{4}')\"\u001b[0m\u001b[0;34m.\u001b[0m\u001b[0mformat\u001b[0m\u001b[0;34m(\u001b[0m\u001b[0mself\u001b[0m\u001b[0;34m.\u001b[0m\u001b[0mtable_name\u001b[0m\u001b[0;34m,\u001b[0m \u001b[0mperson\u001b[0m\u001b[0;34m.\u001b[0m\u001b[0mvk_id\u001b[0m\u001b[0;34m,\u001b[0m \u001b[0mperson\u001b[0m\u001b[0;34m.\u001b[0m\u001b[0mfirst_name\u001b[0m\u001b[0;34m.\u001b[0m\u001b[0mencode\u001b[0m\u001b[0;34m(\u001b[0m\u001b[0;34m'utf-8'\u001b[0m\u001b[0;34m)\u001b[0m\u001b[0;34m,\u001b[0m \u001b[0mperson\u001b[0m\u001b[0;34m.\u001b[0m\u001b[0mlast_name\u001b[0m\u001b[0;34m.\u001b[0m\u001b[0mencode\u001b[0m\u001b[0;34m(\u001b[0m\u001b[0;34m'utf-8'\u001b[0m\u001b[0;34m)\u001b[0m\u001b[0;34m,\u001b[0m \u001b[0mperson\u001b[0m\u001b[0;34m.\u001b[0m\u001b[0minterests\u001b[0m\u001b[0;34m[\u001b[0m\u001b[0;36m0\u001b[0m\u001b[0;34m]\u001b[0m\u001b[0;34m.\u001b[0m\u001b[0mencode\u001b[0m\u001b[0;34m(\u001b[0m\u001b[0;34m'utf-8'\u001b[0m\u001b[0;34m)\u001b[0m\u001b[0;34m)\u001b[0m\u001b[0;34m\u001b[0m\u001b[0m\n\u001b[1;32m     38\u001b[0m                     \u001b[0;32mprint\u001b[0m \u001b[0mquerry\u001b[0m\u001b[0;34m\u001b[0m\u001b[0m\n\u001b[0;32m---> 39\u001b[0;31m                     \u001b[0mcur\u001b[0m\u001b[0;34m.\u001b[0m\u001b[0mexecute\u001b[0m\u001b[0;34m(\u001b[0m\u001b[0mquerry\u001b[0m\u001b[0;34m)\u001b[0m\u001b[0;34m\u001b[0m\u001b[0m\n\u001b[0m\u001b[1;32m     40\u001b[0m \u001b[0;34m\u001b[0m\u001b[0m\n\u001b[1;32m     41\u001b[0m                     \u001b[0;32mtry\u001b[0m\u001b[0;34m:\u001b[0m\u001b[0;34m\u001b[0m\u001b[0m\n",
      "\u001b[0;32m/Users/istar/anaconda/lib/python2.7/site-packages/MySQLdb/cursors.pyc\u001b[0m in \u001b[0;36mexecute\u001b[0;34m(self, query, args)\u001b[0m\n\u001b[1;32m    203\u001b[0m             \u001b[0;32mdel\u001b[0m \u001b[0mtb\u001b[0m\u001b[0;34m\u001b[0m\u001b[0m\n\u001b[1;32m    204\u001b[0m             \u001b[0mself\u001b[0m\u001b[0;34m.\u001b[0m\u001b[0mmessages\u001b[0m\u001b[0;34m.\u001b[0m\u001b[0mappend\u001b[0m\u001b[0;34m(\u001b[0m\u001b[0;34m(\u001b[0m\u001b[0mexc\u001b[0m\u001b[0;34m,\u001b[0m \u001b[0mvalue\u001b[0m\u001b[0;34m)\u001b[0m\u001b[0;34m)\u001b[0m\u001b[0;34m\u001b[0m\u001b[0m\n\u001b[0;32m--> 205\u001b[0;31m             \u001b[0mself\u001b[0m\u001b[0;34m.\u001b[0m\u001b[0merrorhandler\u001b[0m\u001b[0;34m(\u001b[0m\u001b[0mself\u001b[0m\u001b[0;34m,\u001b[0m \u001b[0mexc\u001b[0m\u001b[0;34m,\u001b[0m \u001b[0mvalue\u001b[0m\u001b[0;34m)\u001b[0m\u001b[0;34m\u001b[0m\u001b[0m\n\u001b[0m\u001b[1;32m    206\u001b[0m         \u001b[0mself\u001b[0m\u001b[0;34m.\u001b[0m\u001b[0m_executed\u001b[0m \u001b[0;34m=\u001b[0m \u001b[0mquery\u001b[0m\u001b[0;34m\u001b[0m\u001b[0m\n\u001b[1;32m    207\u001b[0m         \u001b[0;32mif\u001b[0m \u001b[0;32mnot\u001b[0m \u001b[0mself\u001b[0m\u001b[0;34m.\u001b[0m\u001b[0m_defer_warnings\u001b[0m\u001b[0;34m:\u001b[0m \u001b[0mself\u001b[0m\u001b[0;34m.\u001b[0m\u001b[0m_warning_check\u001b[0m\u001b[0;34m(\u001b[0m\u001b[0;34m)\u001b[0m\u001b[0;34m\u001b[0m\u001b[0m\n",
      "\u001b[0;32m/Users/istar/anaconda/lib/python2.7/site-packages/MySQLdb/connections.pyc\u001b[0m in \u001b[0;36mdefaulterrorhandler\u001b[0;34m(***failed resolving arguments***)\u001b[0m\n\u001b[1;32m     34\u001b[0m     \u001b[0;32mdel\u001b[0m \u001b[0mcursor\u001b[0m\u001b[0;34m\u001b[0m\u001b[0m\n\u001b[1;32m     35\u001b[0m     \u001b[0;32mdel\u001b[0m \u001b[0mconnection\u001b[0m\u001b[0;34m\u001b[0m\u001b[0m\n\u001b[0;32m---> 36\u001b[0;31m     \u001b[0;32mraise\u001b[0m \u001b[0merrorclass\u001b[0m\u001b[0;34m,\u001b[0m \u001b[0merrorvalue\u001b[0m\u001b[0;34m\u001b[0m\u001b[0m\n\u001b[0m\u001b[1;32m     37\u001b[0m \u001b[0;34m\u001b[0m\u001b[0m\n\u001b[1;32m     38\u001b[0m \u001b[0mre_numeric_part\u001b[0m \u001b[0;34m=\u001b[0m \u001b[0mre\u001b[0m\u001b[0;34m.\u001b[0m\u001b[0mcompile\u001b[0m\u001b[0;34m(\u001b[0m\u001b[0;34mr\"^(\\d+)\"\u001b[0m\u001b[0;34m)\u001b[0m\u001b[0;34m\u001b[0m\u001b[0m\n",
      "\u001b[0;31mProgrammingError\u001b[0m: (2014, \"Commands out of sync; you can't run this command now\")"
     ]
    }
   ],
   "source": [
    "vkint.add_all_data_to_sql()"
   ]
  },
  {
   "cell_type": "code",
   "execution_count": 20,
   "metadata": {
    "collapsed": false
   },
   "outputs": [
    {
     "data": {
      "text/plain": [
       "{}"
      ]
     },
     "execution_count": 20,
     "metadata": {},
     "output_type": "execute_result"
    }
   ],
   "source": [
    "vkint.popular_interests"
   ]
  },
  {
   "cell_type": "code",
   "execution_count": 9,
   "metadata": {
    "collapsed": true
   },
   "outputs": [],
   "source": []
  },
  {
   "cell_type": "code",
   "execution_count": 10,
   "metadata": {
    "collapsed": true
   },
   "outputs": [],
   "source": []
  },
  {
   "cell_type": "code",
   "execution_count": 28,
   "metadata": {
    "collapsed": false
   },
   "outputs": [
    {
     "name": "stdout",
     "output_type": "stream",
     "text": [
      "((1L, 9562528L, u'???', u'???', None), (2L, 210841413L, u'?????', u'???????', None), (3L, 33850323L, u'?????', u'??????????', u'??????. ??????. ????. ???'), (4L, 33850323L, u'?????', u'??????????', u'??????. ??????. ????. ???'), (5L, 151684580L, u'?????', u'??????????', None), (6L, 6764187L, u'????', u'?????????????', u'???????????'), (7L, 6764187L, u'????', u'?????????????', u'???????????'), (8L, 209452406L, u'?????????', u'????????', None), (9L, 264356807L, u'????', u'????', u''), (10L, 264356807L, u'????', u'????', u''), (11L, 1784535L, u'?????', u'??????', None), (12L, 231817577L, u'????????', u'??????', None), (13L, 40946004L, u'?????', u'???????', u'???????? ???????'), (14L, 40946004L, u'?????', u'???????', u'???????? ???????'), (15L, 72991632L, u'?????', u'??????', None), (16L, 3881134L, u'????', u'??????', u'?????????? ???????'), (17L, 3881134L, u'????', u'??????', u'?????????? ???????'), (18L, 175L, u'??????', u'??????????', None), (19L, 211091295L, u'????????', u'?????????', None), (20L, 993834L, u'????', u'????', None), (21L, 264727999L, u'???', u'????????', u'??????'), (22L, 264727999L, u'???', u'????????', u'??????'), (23L, 143266786L, u'??????', u'??????', u'??????'), (24L, 143266786L, u'??????', u'??????', u'??????'), (25L, 4887577L, u'?????', u'?????????', u'??????? ???'), (26L, 4887577L, u'?????', u'?????????', u'??????? ???'), (27L, 33814534L, u'???????', u'????????', None), (28L, 248959959L, u'???????', u'?????????', u'??????'), (29L, 248959959L, u'???????', u'?????????', u'??????'), (30L, 239739128L, u'??????', u'????????', None), (31L, 28034199L, u'????????', u'?????', None), (32L, 45655893L, u'??????', u'????????????', u'??????'), (33L, 45655893L, u'??????', u'????????????', u'??????'), (34L, 86415291L, u'?????', u'???????', u'???????? ???????'), (35L, 86415291L, u'?????', u'???????', u'???????? ???????'), (36L, 11167116L, u'?????????', u'????????', None), (37L, 15217271L, u'??????', u'???????????', u'-???-??????'), (38L, 15217271L, u'??????', u'???????????', u'-???-??????'), (39L, 4773604L, u'??????', u'???????', None), (40L, 582911L, u'Alua', u'Kilibayeva', None), (41L, 404721L, u'Pavel', u'Savenkov', u'???-??????'), (42L, 404721L, u'Pavel', u'Savenkov', u'???-??????'), (43L, 45386222L, u'?????', u'???????', None), (44L, 251722456L, u'?????', u'?????????', None), (45L, 5215595L, u'Sarkis', u'Edwards', None), (46L, 80829911L, u'?????', u'?????????', None), (47L, 258600630L, u'?????????', u'?????????', u'??????'), (48L, 258600630L, u'?????????', u'?????????', u'??????'), (49L, 2177132L, u'???????', u'?????????', u'??????? ??????'), (50L, 2177132L, u'???????', u'?????????', u'??????? ??????'), (51L, 116318452L, u'?????????', u'?????????', u'...??? ??? ? ??'), (52L, 116318452L, u'?????????', u'?????????', u'...??? ??? ? ??'), (53L, 308641310L, u'???????', u'???????', None), (54L, 18002386L, u'????????', u'????????', None), (55L, 18002386L, u'????????', u'????????', None), (56L, 199191L, u'????????', u'???????', None), (57L, 179753994L, u'???????', u'????????', u'????'), (58L, 179753994L, u'???????', u'????????', u'????'), (59L, 4358125L, u'?????', u'????????', None), (60L, 34573209L, u'?????', u'???????', u'???????????'), (61L, 34573209L, u'?????', u'???????', u'???????????'), (62L, 191625713L, u'???????', u'??????', None), (63L, 214749667L, u'???', u'?????', None), (64L, 151536255L, u'????', u'??????', u'?????'), (65L, 151536255L, u'????', u'??????', u'?????'), (66L, 258468989L, u'?????????', u'???????', None), (67L, 201541L, u'????????', u'???????', u''), (68L, 201541L, u'????????', u'???????', u''), (69L, 77796930L, u'??????', u'???????', None), (70L, 9266313L, u'???????', u'???????????', None), (71L, 167622187L, u'????', u'??????', None), (72L, 4451L, u'?????', u'???????', u''), (73L, 4451L, u'?????', u'???????', u''), (74L, 29630595L, u'?????', u'?????????', None), (75L, 65606064L, u'????', u'???????', u'?????'), (76L, 65606064L, u'????', u'???????', u'?????'), (77L, 7213140L, u'?????', u'????????', None), (78L, 6791301L, u'????', u'???????', None), (79L, 215841724L, u'?????????', u'???????', u'???'), (80L, 215841724L, u'?????????', u'???????', u'???'), (81L, 5731057L, u'?????????', u'???????', u'??????'), (82L, 5731057L, u'?????????', u'???????', u'??????'), (83L, 61840285L, u'????????', u'?????????', None), (84L, 391152316L, u'Archie', u'Official', u'???????????'), (85L, 391152316L, u'Archie', u'Official', u'???????????'), (86L, 26394441L, u'???????', u'???????', u'????? - ??? ????? ?????. '), (87L, 26394441L, u'???????', u'???????', u'????? - ??? ????? ?????. '), (88L, 86708262L, u'???4k?', u'?angel?', None), (89L, 7975646L, u'????', u'??????', u'??????'), (90L, 7975646L, u'????', u'??????', u'??????'), (91L, 151260817L, u'????????', u'??????', None), (92L, 4420563L, u'?????', u'????????', u'?????'), (93L, 4420563L, u'?????', u'????????', u'?????'), (94L, 162320209L, u'??????', u'???????', u'?????????? ???????'), (95L, 162320209L, u'??????', u'???????', u'?????????? ???????'), (96L, 331361L, u'?????', u'??????????', u'??????????'), (97L, 331361L, u'?????', u'??????????', u'??????????'), (98L, 390108718L, u'?????', u'?????', None), (99L, 318236739L, u'?????', u'??????', u'?????? (???'), (100L, 318236739L, u'?????', u'??????', u'?????? (???'), (101L, 187225818L, u'??????', u'???????', None), (102L, 19374653L, u'?????', u'????????', None), (103L, 217205661L, u'?????', u'???', u'??????'), (104L, 217205661L, u'?????', u'???', u'??????'), (105L, 3737658L, u'?????', u'?????????', None), (106L, 3715953L, u'?????', u'????????????', u'????????????..'), (107L, 3715953L, u'?????', u'????????????', u'????????????..'), (108L, 29815283L, u'?????', u'???????', u'?????'), (109L, 29815283L, u'?????', u'???????', u'?????'), (110L, 148943263L, u'?????????', u'???????????', None), (111L, 7908596L, u'??????', u'????????', None), (112L, 14728117L, u'????????', u'??', u'???????????'), (113L, 14728117L, u'????????', u'??', u'???????????'), (114L, 27762613L, u'???????', u'???????', u'?????? ????????'), (115L, 27762613L, u'???????', u'???????', u'?????? ????????'), (116L, 1315111L, u'Irinka', u'Belokoneva', None), (117L, 7066154L, u'????????', u'????????', u'?????????'), (118L, 7066154L, u'????????', u'????????', u'?????????'), (119L, 8159476L, u'????', u'?????', None), (120L, 37527035L, u'??????', u'??????????', None), (121L, 4662902L, u'????????', u'??????', u'?'), (122L, 4662902L, u'????????', u'??????', u'?'), (123L, 32039096L, u'Lola', u'Will', u'?? ????? ????????'), (124L, 32039096L, u'Lola', u'Will', u'?? ????? ????????'), (125L, 7873248L, u'????????', u'???????', u'????'), (126L, 7873248L, u'????????', u'???????', u'????'), (127L, 61073L, u'?????????', u'?????????', None), (128L, 213546536L, u'????', u'???????', u'??????'), (129L, 213546536L, u'????', u'???????', u'??????'), (130L, 6528699L, u'?????????', u'????????', None), (131L, 211427737L, u'????????', u'?????????', None), (132L, 125494030L, u'?????', u'?????????', u'??????????? ? ??????'), (133L, 125494030L, u'?????', u'?????????', u'??????????? ? ??????'), (134L, 7985571L, u'???????', u'?.', u'??????????'), (135L, 7985571L, u'???????', u'?.', u'??????????'), (136L, 254951789L, u'Delf', u'Winter', None), (137L, 30284420L, u'????', u'???????', None))\n"
     ]
    }
   ],
   "source": [
    "sql_c = SQLConnector()\n",
    "sql_c.connect()\n",
    "cur = sql_c.con.cursor()\n",
    "cur.execute(\"SELECT * FROM data2you1.VK_interests\")\n",
    "print(cur.fetchall())\n",
    "cur.close()"
   ]
  },
  {
   "cell_type": "code",
   "execution_count": 16,
   "metadata": {
    "collapsed": true
   },
   "outputs": [],
   "source": []
  },
  {
   "cell_type": "code",
   "execution_count": 17,
   "metadata": {
    "collapsed": false
   },
   "outputs": [
    {
     "name": "stdout",
     "output_type": "stream",
     "text": [
      "ÐÐ»ÐµÐ½Ð°\n"
     ]
    }
   ],
   "source": []
  },
  {
   "cell_type": "code",
   "execution_count": null,
   "metadata": {
    "collapsed": true
   },
   "outputs": [],
   "source": []
  }
 ],
 "metadata": {
  "anaconda-cloud": {},
  "kernelspec": {
   "display_name": "Python [conda root]",
   "language": "python",
   "name": "conda-root-py"
  },
  "language_info": {
   "codemirror_mode": {
    "name": "ipython",
    "version": 2
   },
   "file_extension": ".py",
   "mimetype": "text/x-python",
   "name": "python",
   "nbconvert_exporter": "python",
   "pygments_lexer": "ipython2",
   "version": "2.7.12"
  }
 },
 "nbformat": 4,
 "nbformat_minor": 1
}
