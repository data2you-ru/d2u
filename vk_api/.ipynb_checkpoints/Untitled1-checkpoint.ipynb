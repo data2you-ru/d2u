{
 "cells": [
  {
   "cell_type": "code",
   "execution_count": 6,
   "metadata": {
    "collapsed": true
   },
   "outputs": [],
   "source": [
    "import numpy"
   ]
  },
  {
   "cell_type": "code",
   "execution_count": 36,
   "metadata": {
    "collapsed": false
   },
   "outputs": [],
   "source": [
    "# -*- coding: utf-8 -*-\n",
    "import vk\n",
    "import time\n",
    "from my_data import MyVKData\n",
    "from tqdm import tqdm\n",
    "from sql_connector import SQLConnector\n",
    "\n",
    "class VkTableMaker():\n",
    "    def __init__(self, title='Фитнес', table_name='Writers', params='Id INT PRIMARY KEY AUTO_INCREMENT, Name VARCHAR(25)', local = True):\n",
    "        \"\"\"\n",
    "            title = what this table about\n",
    "            table_name = what there is actual name of a table in database\n",
    "            params = what table CREATE params do you want to add\n",
    "            local = is it local database\n",
    "        \"\"\"\n",
    "        self.sqlConnector = SQLConnector(local=local)\n",
    "        self.title = title\n",
    "        self.DATABASE = 'data2you1';\n",
    "        self.table_name = '{0}.{1}'.format(self.DATABASE, table_name)\n",
    "        self.params = params\n",
    "        self.local = local\n",
    "    def ask_yes(self, s):\n",
    "        print s + '\\ny/n?'\n",
    "        ans = raw_input()\n",
    "        return ans in ['y', 'Y', 'YES', 'yes']\n",
    "    def config(self):\n",
    "        if not self.local:\n",
    "            cur = self._get_cursor()\n",
    "            cur.execute(\"ALTER TABLE {0} MODIFY COLUMN {1} VARCHAR(255)  CHARACTER SET utf8 COLLATE utf8_general_ci NOT NULL\".format(self.table_name, 'first_name'))\n",
    "            cur.execute(\"ALTER TABLE {0} MODIFY COLUMN {1} VARCHAR(255)  CHARACTER SET utf8 COLLATE utf8_general_ci NOT NULL\".format(self.table_name, 'last_name'))\n",
    "    \n",
    "    def rewrite_table_if_exist(self):\n",
    "        cur = self._get_cursor()\n",
    "        querry = \"CREATE DATABASE IF NOT EXISTS {0}\".format(self.DATABASE)\n",
    "        cur.execute(querry)\n",
    "        # unf-8 provide\n",
    "        if self.ask_yes(\"Do you want to rewrite table \" + self.table_name + \" with title \" + self.title):\n",
    "            cur.execute(\"DROP TABLE IF EXISTS {0}\".format(self.table_name))\n",
    "            cur.execute(\"CREATE TABLE {0}({1})\".format(self.table_name, self.params))\n",
    "        self.config()\n",
    "    def _get_cursor(self):\n",
    "        sql_c = self.sqlConnector\n",
    "        sql_c.connect()\n",
    "        return sql_c.con.cursor()\n",
    "    \n",
    "    def add_rows(self, data):\n",
    "        cur = self._get_cursor()\n",
    "        for person in data:\n",
    "            try:\n",
    "                querry = \"INSERT INTO \"+self.table_name + \" (VKiD, first_name, last_name) VALUES(\"+str(person.vk_id)+\",\"+\",\".join([\"'\"+person.first_name+\"'\", \"'\"+person.last_name+\"'\"])+')'\n",
    "                print querry \n",
    "                cur.execute(querry)\n",
    "            except IndexError:\n",
    "                print('empty string')\n",
    "    def SELECT_ALL(self):\n",
    "        cur = self._get_cursor()\n",
    "        querry = \"SELECT * FROM {0}\".format(self.table_name)\n",
    "        print(querry)\n",
    "        cur.execute(querry)\n",
    "        return cur.fetchall()"
   ]
  },
  {
   "cell_type": "code",
   "execution_count": 37,
   "metadata": {
    "collapsed": false
   },
   "outputs": [],
   "source": [
    "class VKPerson:\n",
    "    vk_id = None\n",
    "    first_name = None\n",
    "    last_name = None\n",
    "    interests = None\n",
    "    def __init__(self, vk_id, first_name, last_name=None, interests=None):\n",
    "        self.vk_id = vk_id\n",
    "        self.first_name = unicode(first_name)\n",
    "        self.last_name = unicode(last_name)\n",
    "        self.interests = unicode(interests)\n",
    "        \n",
    "class Vkinterests:\n",
    "    main_interest = 'Фитнес'\n",
    "    popular_interests = dict()\n",
    "    \n",
    "    def __init__(self, main_interest='Фитнес'):\n",
    "        self.main_interest = main_interest\n",
    "        self.persons = []\n",
    "        \n",
    "    def get_data(self):\n",
    "        \n",
    "        session = vk.AuthSession(app_id=MyVKData.APP_ID, user_login=MyVKData.LOGIN, user_password='Galutinaistar98')\n",
    "        vkapi = vk.API(session)\n",
    "        offs = 0\n",
    "        all_interests = dict()\n",
    "        for i in tqdm(range(1)):\n",
    "            try:\n",
    "                usrs = vkapi.users.search(interests=self.main_interest, extended=1, fields='interests', offset=offs)\n",
    "                count = usrs[0]\n",
    "                usrs = usrs[1:]\n",
    "                offs += len(usrs) + 1\n",
    "                for usr in usrs:\n",
    "                    person = VKPerson(usr['uid'], usr['first_name'])\n",
    "                    if ('last_name' in usr):\n",
    "                        person.last_name = usr['last_name']\n",
    "                    if ('interests' in usr):\n",
    "                        person.interests = usr['interests'].split(',')\n",
    "                        for inter in usr['interests'].split(','):\n",
    "                            inter = inter.strip()\n",
    "                            if inter in all_interests:\n",
    "                                all_interests[inter] += 1\n",
    "                            else:\n",
    "                                all_interests[inter] = 1\n",
    "                    self.persons.append(person)\n",
    "                time.sleep(0.3)\n",
    "            except ReadTimeout:\n",
    "                time.sleep(1)\n",
    "                print(\"ReadTimeOut\")\n",
    "        self.popular_interests = all_interests\n",
    "        print(\"{0} users successfully downloaded\".format(len(self.persons)))\n",
    "        \n",
    "    def print_all_interests(self):\n",
    "        for interest in sorted(self.popular_interests.items(), key=lambda x: x[1], reverse=True):\n",
    "            print interest[0], interest[1]\n",
    "    \n",
    "    def add_all_data_to_sql(self, local, append):\n",
    "        table = VkTableMaker(\n",
    "            title='Таблица вк по интересам',\n",
    "            table_name = 'VK_interests',\n",
    "            params = 'Id INT PRIMARY KEY AUTO_INCREMENT, VKiD INT, first_name VARCHAR(25), last_name VARCHAR(25), main_interest VARCHAR(25)',\n",
    "            local = local\n",
    "        )\n",
    "        if (not append):\n",
    "            table.rewrite_table_if_exist()\n",
    "        if table.ask_yes(\"Do you want to add {0} row in table {1}? \".format(len(self.persons), table.table_name)):\n",
    "            table.add_rows(self.persons)\n",
    "        else:\n",
    "            return\n",
    "        self.table = table\n",
    "\n",
    "        \n",
    "\n",
    "\n",
    "\n",
    "\n",
    "\n"
   ]
  },
  {
   "cell_type": "code",
   "execution_count": 38,
   "metadata": {
    "collapsed": false
   },
   "outputs": [
    {
     "name": "stderr",
     "output_type": "stream",
     "text": [
      "100%|██████████| 1/1 [00:00<00:00,  1.77it/s]"
     ]
    },
    {
     "name": "stdout",
     "output_type": "stream",
     "text": [
      "20 users successfully downloaded\n"
     ]
    },
    {
     "name": "stderr",
     "output_type": "stream",
     "text": [
      "\n"
     ]
    }
   ],
   "source": [
    "vkint = Vkinterests()\n",
    "vkint.get_data()"
   ]
  },
  {
   "cell_type": "code",
   "execution_count": 39,
   "metadata": {
    "collapsed": false
   },
   "outputs": [
    {
     "name": "stdout",
     "output_type": "stream",
     "text": [
      "Яна\n",
      "Денис\n",
      "Елена\n",
      "Илона\n",
      "Юрий\n",
      "Анастасия\n",
      "Катя\n",
      "Денис\n",
      "Светлана\n",
      "Павел\n",
      "Павел\n",
      "Ярик\n",
      "Михаил\n",
      "Кристина\n",
      "Соня\n",
      "Яна\n",
      "Оксана\n",
      "Роман\n",
      "Татьяна\n",
      "Татьяна\n"
     ]
    }
   ],
   "source": [
    "for i in vkint.persons:\n",
    "    print i.first_name"
   ]
  },
  {
   "cell_type": "code",
   "execution_count": 40,
   "metadata": {
    "collapsed": false
   },
   "outputs": [
    {
     "name": "stderr",
     "output_type": "stream",
     "text": [
      "/Users/istar/anaconda/lib/python2.7/site-packages/ipykernel/__main__.py:35: Warning: Can't create database 'data2you1'; database exists\n"
     ]
    },
    {
     "name": "stdout",
     "output_type": "stream",
     "text": [
      "Do you want to rewrite table data2you1.VK_interests with title Таблица вк по интересам\n",
      "y/n?\n",
      "y\n",
      "Do you want to add 20 row in table data2you1.VK_interests? \n",
      "y/n?\n",
      "y\n",
      "INSERT INTO data2you1.VK_interests (VKiD, first_name, last_name) VALUES(9562528,'Яна','Буц')\n"
     ]
    },
    {
     "name": "stderr",
     "output_type": "stream",
     "text": [
      "/Users/istar/anaconda/lib/python2.7/site-packages/ipykernel/__main__.py:52: Warning: Incorrect string value: '\\xD0\\xAF\\xD0\\xBD\\xD0\\xB0' for column 'first_name' at row 1\n",
      "/Users/istar/anaconda/lib/python2.7/site-packages/ipykernel/__main__.py:52: Warning: Incorrect string value: '\\xD0\\x91\\xD1\\x83\\xD1\\x86' for column 'last_name' at row 1\n"
     ]
    },
    {
     "name": "stdout",
     "output_type": "stream",
     "text": [
      "INSERT INTO data2you1.VK_interests (VKiD, first_name, last_name) VALUES(210841413,'Денис','Андріца')\n"
     ]
    },
    {
     "name": "stderr",
     "output_type": "stream",
     "text": [
      "/Users/istar/anaconda/lib/python2.7/site-packages/ipykernel/__main__.py:52: Warning: Incorrect string value: '\\xD0\\x94\\xD0\\xB5\\xD0\\xBD...' for column 'first_name' at row 1\n",
      "/Users/istar/anaconda/lib/python2.7/site-packages/ipykernel/__main__.py:52: Warning: Incorrect string value: '\\xD0\\x90\\xD0\\xBD\\xD0\\xB4...' for column 'last_name' at row 1\n"
     ]
    },
    {
     "name": "stdout",
     "output_type": "stream",
     "text": [
      "INSERT INTO data2you1.VK_interests (VKiD, first_name, last_name) VALUES(33850323,'Елена','Третьякова')\n"
     ]
    },
    {
     "name": "stderr",
     "output_type": "stream",
     "text": [
      "/Users/istar/anaconda/lib/python2.7/site-packages/ipykernel/__main__.py:52: Warning: Incorrect string value: '\\xD0\\x95\\xD0\\xBB\\xD0\\xB5...' for column 'first_name' at row 1\n",
      "/Users/istar/anaconda/lib/python2.7/site-packages/ipykernel/__main__.py:52: Warning: Incorrect string value: '\\xD0\\xA2\\xD1\\x80\\xD0\\xB5...' for column 'last_name' at row 1\n"
     ]
    },
    {
     "name": "stdout",
     "output_type": "stream",
     "text": [
      "INSERT INTO data2you1.VK_interests (VKiD, first_name, last_name) VALUES(151684580,'Илона','Новосёлова')\n"
     ]
    },
    {
     "name": "stderr",
     "output_type": "stream",
     "text": [
      "/Users/istar/anaconda/lib/python2.7/site-packages/ipykernel/__main__.py:52: Warning: Incorrect string value: '\\xD0\\x98\\xD0\\xBB\\xD0\\xBE...' for column 'first_name' at row 1\n",
      "/Users/istar/anaconda/lib/python2.7/site-packages/ipykernel/__main__.py:52: Warning: Incorrect string value: '\\xD0\\x9D\\xD0\\xBE\\xD0\\xB2...' for column 'last_name' at row 1\n"
     ]
    },
    {
     "name": "stdout",
     "output_type": "stream",
     "text": [
      "INSERT INTO data2you1.VK_interests (VKiD, first_name, last_name) VALUES(6764187,'Юрий','Спасокукоцкий')\n"
     ]
    },
    {
     "name": "stderr",
     "output_type": "stream",
     "text": [
      "/Users/istar/anaconda/lib/python2.7/site-packages/ipykernel/__main__.py:52: Warning: Incorrect string value: '\\xD0\\xAE\\xD1\\x80\\xD0\\xB8...' for column 'first_name' at row 1\n",
      "/Users/istar/anaconda/lib/python2.7/site-packages/ipykernel/__main__.py:52: Warning: Incorrect string value: '\\xD0\\xA1\\xD0\\xBF\\xD0\\xB0...' for column 'last_name' at row 1\n"
     ]
    },
    {
     "name": "stdout",
     "output_type": "stream",
     "text": [
      "INSERT INTO data2you1.VK_interests (VKiD, first_name, last_name) VALUES(209452406,'Анастасия','Панченко')\n"
     ]
    },
    {
     "name": "stderr",
     "output_type": "stream",
     "text": [
      "/Users/istar/anaconda/lib/python2.7/site-packages/ipykernel/__main__.py:52: Warning: Incorrect string value: '\\xD0\\x90\\xD0\\xBD\\xD0\\xB0...' for column 'first_name' at row 1\n",
      "/Users/istar/anaconda/lib/python2.7/site-packages/ipykernel/__main__.py:52: Warning: Incorrect string value: '\\xD0\\x9F\\xD0\\xB0\\xD0\\xBD...' for column 'last_name' at row 1\n"
     ]
    },
    {
     "name": "stdout",
     "output_type": "stream",
     "text": [
      "INSERT INTO data2you1.VK_interests (VKiD, first_name, last_name) VALUES(264356807,'Катя','Викс')\n"
     ]
    },
    {
     "name": "stderr",
     "output_type": "stream",
     "text": [
      "/Users/istar/anaconda/lib/python2.7/site-packages/ipykernel/__main__.py:52: Warning: Incorrect string value: '\\xD0\\x9A\\xD0\\xB0\\xD1\\x82...' for column 'first_name' at row 1\n",
      "/Users/istar/anaconda/lib/python2.7/site-packages/ipykernel/__main__.py:52: Warning: Incorrect string value: '\\xD0\\x92\\xD0\\xB8\\xD0\\xBA...' for column 'last_name' at row 1\n"
     ]
    },
    {
     "name": "stdout",
     "output_type": "stream",
     "text": [
      "INSERT INTO data2you1.VK_interests (VKiD, first_name, last_name) VALUES(1784535,'Денис','Беляев')\n"
     ]
    },
    {
     "name": "stderr",
     "output_type": "stream",
     "text": [
      "/Users/istar/anaconda/lib/python2.7/site-packages/ipykernel/__main__.py:52: Warning: Incorrect string value: '\\xD0\\x91\\xD0\\xB5\\xD0\\xBB...' for column 'last_name' at row 1\n"
     ]
    },
    {
     "name": "stdout",
     "output_type": "stream",
     "text": [
      "INSERT INTO data2you1.VK_interests (VKiD, first_name, last_name) VALUES(231817577,'Светлана','Орлова')\n"
     ]
    },
    {
     "name": "stderr",
     "output_type": "stream",
     "text": [
      "/Users/istar/anaconda/lib/python2.7/site-packages/ipykernel/__main__.py:52: Warning: Incorrect string value: '\\xD0\\xA1\\xD0\\xB2\\xD0\\xB5...' for column 'first_name' at row 1\n",
      "/Users/istar/anaconda/lib/python2.7/site-packages/ipykernel/__main__.py:52: Warning: Incorrect string value: '\\xD0\\x9E\\xD1\\x80\\xD0\\xBB...' for column 'last_name' at row 1\n"
     ]
    },
    {
     "name": "stdout",
     "output_type": "stream",
     "text": [
      "INSERT INTO data2you1.VK_interests (VKiD, first_name, last_name) VALUES(40946004,'Павел','Духонин')\n"
     ]
    },
    {
     "name": "stderr",
     "output_type": "stream",
     "text": [
      "/Users/istar/anaconda/lib/python2.7/site-packages/ipykernel/__main__.py:52: Warning: Incorrect string value: '\\xD0\\x9F\\xD0\\xB0\\xD0\\xB2...' for column 'first_name' at row 1\n",
      "/Users/istar/anaconda/lib/python2.7/site-packages/ipykernel/__main__.py:52: Warning: Incorrect string value: '\\xD0\\x94\\xD1\\x83\\xD1\\x85...' for column 'last_name' at row 1\n"
     ]
    },
    {
     "name": "stdout",
     "output_type": "stream",
     "text": [
      "INSERT INTO data2you1.VK_interests (VKiD, first_name, last_name) VALUES(72991632,'Павел','Марков')\n"
     ]
    },
    {
     "name": "stderr",
     "output_type": "stream",
     "text": [
      "/Users/istar/anaconda/lib/python2.7/site-packages/ipykernel/__main__.py:52: Warning: Incorrect string value: '\\xD0\\x9C\\xD0\\xB0\\xD1\\x80...' for column 'last_name' at row 1\n"
     ]
    },
    {
     "name": "stdout",
     "output_type": "stream",
     "text": [
      "INSERT INTO data2you1.VK_interests (VKiD, first_name, last_name) VALUES(3881134,'Ярик','Онищак')\n"
     ]
    },
    {
     "name": "stderr",
     "output_type": "stream",
     "text": [
      "/Users/istar/anaconda/lib/python2.7/site-packages/ipykernel/__main__.py:52: Warning: Incorrect string value: '\\xD0\\xAF\\xD1\\x80\\xD0\\xB8...' for column 'first_name' at row 1\n",
      "/Users/istar/anaconda/lib/python2.7/site-packages/ipykernel/__main__.py:52: Warning: Incorrect string value: '\\xD0\\x9E\\xD0\\xBD\\xD0\\xB8...' for column 'last_name' at row 1\n"
     ]
    },
    {
     "name": "stdout",
     "output_type": "stream",
     "text": [
      "INSERT INTO data2you1.VK_interests (VKiD, first_name, last_name) VALUES(175,'Михаил','Захаренков')\n"
     ]
    },
    {
     "name": "stderr",
     "output_type": "stream",
     "text": [
      "/Users/istar/anaconda/lib/python2.7/site-packages/ipykernel/__main__.py:52: Warning: Incorrect string value: '\\xD0\\x9C\\xD0\\xB8\\xD1\\x85...' for column 'first_name' at row 1\n",
      "/Users/istar/anaconda/lib/python2.7/site-packages/ipykernel/__main__.py:52: Warning: Incorrect string value: '\\xD0\\x97\\xD0\\xB0\\xD1\\x85...' for column 'last_name' at row 1\n"
     ]
    },
    {
     "name": "stdout",
     "output_type": "stream",
     "text": [
      "INSERT INTO data2you1.VK_interests (VKiD, first_name, last_name) VALUES(211091295,'Кристина','Свиридова')\n"
     ]
    },
    {
     "name": "stderr",
     "output_type": "stream",
     "text": [
      "/Users/istar/anaconda/lib/python2.7/site-packages/ipykernel/__main__.py:52: Warning: Incorrect string value: '\\xD0\\x9A\\xD1\\x80\\xD0\\xB8...' for column 'first_name' at row 1\n",
      "/Users/istar/anaconda/lib/python2.7/site-packages/ipykernel/__main__.py:52: Warning: Incorrect string value: '\\xD0\\xA1\\xD0\\xB2\\xD0\\xB8...' for column 'last_name' at row 1\n"
     ]
    },
    {
     "name": "stdout",
     "output_type": "stream",
     "text": [
      "INSERT INTO data2you1.VK_interests (VKiD, first_name, last_name) VALUES(993834,'Соня','Некс')\n"
     ]
    },
    {
     "name": "stderr",
     "output_type": "stream",
     "text": [
      "/Users/istar/anaconda/lib/python2.7/site-packages/ipykernel/__main__.py:52: Warning: Incorrect string value: '\\xD0\\xA1\\xD0\\xBE\\xD0\\xBD...' for column 'first_name' at row 1\n",
      "/Users/istar/anaconda/lib/python2.7/site-packages/ipykernel/__main__.py:52: Warning: Incorrect string value: '\\xD0\\x9D\\xD0\\xB5\\xD0\\xBA...' for column 'last_name' at row 1\n"
     ]
    },
    {
     "name": "stdout",
     "output_type": "stream",
     "text": [
      "INSERT INTO data2you1.VK_interests (VKiD, first_name, last_name) VALUES(264727999,'Яна','Сафонова')\n"
     ]
    },
    {
     "name": "stderr",
     "output_type": "stream",
     "text": [
      "/Users/istar/anaconda/lib/python2.7/site-packages/ipykernel/__main__.py:52: Warning: Incorrect string value: '\\xD0\\xA1\\xD0\\xB0\\xD1\\x84...' for column 'last_name' at row 1\n"
     ]
    },
    {
     "name": "stdout",
     "output_type": "stream",
     "text": [
      "INSERT INTO data2you1.VK_interests (VKiD, first_name, last_name) VALUES(143266786,'Оксана','Феттер')\n"
     ]
    },
    {
     "name": "stderr",
     "output_type": "stream",
     "text": [
      "/Users/istar/anaconda/lib/python2.7/site-packages/ipykernel/__main__.py:52: Warning: Incorrect string value: '\\xD0\\x9E\\xD0\\xBA\\xD1\\x81...' for column 'first_name' at row 1\n",
      "/Users/istar/anaconda/lib/python2.7/site-packages/ipykernel/__main__.py:52: Warning: Incorrect string value: '\\xD0\\xA4\\xD0\\xB5\\xD1\\x82...' for column 'last_name' at row 1\n"
     ]
    },
    {
     "name": "stdout",
     "output_type": "stream",
     "text": [
      "INSERT INTO data2you1.VK_interests (VKiD, first_name, last_name) VALUES(4887577,'Роман','Милованов')\n"
     ]
    },
    {
     "name": "stderr",
     "output_type": "stream",
     "text": [
      "/Users/istar/anaconda/lib/python2.7/site-packages/ipykernel/__main__.py:52: Warning: Incorrect string value: '\\xD0\\xA0\\xD0\\xBE\\xD0\\xBC...' for column 'first_name' at row 1\n",
      "/Users/istar/anaconda/lib/python2.7/site-packages/ipykernel/__main__.py:52: Warning: Incorrect string value: '\\xD0\\x9C\\xD0\\xB8\\xD0\\xBB...' for column 'last_name' at row 1\n"
     ]
    },
    {
     "name": "stdout",
     "output_type": "stream",
     "text": [
      "INSERT INTO data2you1.VK_interests (VKiD, first_name, last_name) VALUES(33814534,'Татьяна','Донецкая')\n"
     ]
    },
    {
     "name": "stderr",
     "output_type": "stream",
     "text": [
      "/Users/istar/anaconda/lib/python2.7/site-packages/ipykernel/__main__.py:52: Warning: Incorrect string value: '\\xD0\\xA2\\xD0\\xB0\\xD1\\x82...' for column 'first_name' at row 1\n",
      "/Users/istar/anaconda/lib/python2.7/site-packages/ipykernel/__main__.py:52: Warning: Incorrect string value: '\\xD0\\x94\\xD0\\xBE\\xD0\\xBD...' for column 'last_name' at row 1\n"
     ]
    },
    {
     "name": "stdout",
     "output_type": "stream",
     "text": [
      "INSERT INTO data2you1.VK_interests (VKiD, first_name, last_name) VALUES(248959959,'Татьяна','Загоскина')\n"
     ]
    },
    {
     "name": "stderr",
     "output_type": "stream",
     "text": [
      "/Users/istar/anaconda/lib/python2.7/site-packages/ipykernel/__main__.py:52: Warning: Incorrect string value: '\\xD0\\x97\\xD0\\xB0\\xD0\\xB3...' for column 'last_name' at row 1\n"
     ]
    }
   ],
   "source": [
    "vkint.add_all_data_to_sql(local=False, append=False)"
   ]
  },
  {
   "cell_type": "code",
   "execution_count": 38,
   "metadata": {
    "collapsed": false
   },
   "outputs": [
    {
     "name": "stdout",
     "output_type": "stream",
     "text": [
      "SELECT * FROM data2you1.VK_interests\n"
     ]
    },
    {
     "data": {
      "text/plain": [
       "((1L, 9562528L, '???', '???', 'N'),\n",
       " (2L, 9562528L, '???', '???', 'N'),\n",
       " (3L, 210841413L, '?????', '???????', 'N'),\n",
       " (4L, 210841413L, '?????', '???????', 'N'),\n",
       " (5L, 33850323L, '?????', '??????????', '??????. ??????. ????. ???'),\n",
       " (6L, 33850323L, '?????', '??????????', '??????. ??????. ????. ???'),\n",
       " (7L, 151684580L, '?????', '??????????', 'N'),\n",
       " (8L, 151684580L, '?????', '??????????', 'N'),\n",
       " (9L, 6764187L, '????', '?????????????', '???????????'),\n",
       " (10L, 6764187L, '????', '?????????????', '???????????'),\n",
       " (11L, 209452406L, '?????????', '????????', 'N'),\n",
       " (12L, 209452406L, '?????????', '????????', 'N'),\n",
       " (13L, 264356807L, '????', '????', ''),\n",
       " (14L, 264356807L, '????', '????', ''),\n",
       " (15L, 1784535L, '?????', '??????', 'N'),\n",
       " (16L, 1784535L, '?????', '??????', 'N'),\n",
       " (17L, 231817577L, '????????', '??????', 'N'),\n",
       " (18L, 231817577L, '????????', '??????', 'N'),\n",
       " (19L, 40946004L, '?????', '???????', '???????? ???????'),\n",
       " (20L, 40946004L, '?????', '???????', '???????? ???????'),\n",
       " (21L, 72991632L, '?????', '??????', 'N'),\n",
       " (22L, 72991632L, '?????', '??????', 'N'),\n",
       " (23L, 3881134L, '????', '??????', '?????????? ???????'),\n",
       " (24L, 3881134L, '????', '??????', '?????????? ???????'),\n",
       " (25L, 175L, '??????', '??????????', 'N'),\n",
       " (26L, 175L, '??????', '??????????', 'N'),\n",
       " (27L, 211091295L, '????????', '?????????', 'N'),\n",
       " (28L, 211091295L, '????????', '?????????', 'N'),\n",
       " (29L, 993834L, '????', '????', 'N'),\n",
       " (30L, 993834L, '????', '????', 'N'),\n",
       " (31L, 264727999L, '???', '????????', '??????'),\n",
       " (32L, 264727999L, '???', '????????', '??????'),\n",
       " (33L, 143266786L, '??????', '??????', '??????'),\n",
       " (34L, 143266786L, '??????', '??????', '??????'),\n",
       " (35L, 4887577L, '?????', '?????????', '??????? ???'),\n",
       " (36L, 4887577L, '?????', '?????????', '??????? ???'),\n",
       " (37L, 33814534L, '???????', '????????', 'N'),\n",
       " (38L, 33814534L, '???????', '????????', 'N'),\n",
       " (39L, 248959959L, '???????', '?????????', '??????'),\n",
       " (40L, 248959959L, '???????', '?????????', '??????'))"
      ]
     },
     "execution_count": 38,
     "metadata": {},
     "output_type": "execute_result"
    }
   ],
   "source": [
    "vkint.table.SELECT_ALL()"
   ]
  },
  {
   "cell_type": "code",
   "execution_count": 9,
   "metadata": {
    "collapsed": true
   },
   "outputs": [],
   "source": []
  },
  {
   "cell_type": "code",
   "execution_count": 10,
   "metadata": {
    "collapsed": true
   },
   "outputs": [],
   "source": []
  },
  {
   "cell_type": "code",
   "execution_count": 28,
   "metadata": {
    "collapsed": false
   },
   "outputs": [
    {
     "name": "stdout",
     "output_type": "stream",
     "text": [
      "((1L, 9562528L, u'???', u'???', None), (2L, 210841413L, u'?????', u'???????', None), (3L, 33850323L, u'?????', u'??????????', u'??????. ??????. ????. ???'), (4L, 33850323L, u'?????', u'??????????', u'??????. ??????. ????. ???'), (5L, 151684580L, u'?????', u'??????????', None), (6L, 6764187L, u'????', u'?????????????', u'???????????'), (7L, 6764187L, u'????', u'?????????????', u'???????????'), (8L, 209452406L, u'?????????', u'????????', None), (9L, 264356807L, u'????', u'????', u''), (10L, 264356807L, u'????', u'????', u''), (11L, 1784535L, u'?????', u'??????', None), (12L, 231817577L, u'????????', u'??????', None), (13L, 40946004L, u'?????', u'???????', u'???????? ???????'), (14L, 40946004L, u'?????', u'???????', u'???????? ???????'), (15L, 72991632L, u'?????', u'??????', None), (16L, 3881134L, u'????', u'??????', u'?????????? ???????'), (17L, 3881134L, u'????', u'??????', u'?????????? ???????'), (18L, 175L, u'??????', u'??????????', None), (19L, 211091295L, u'????????', u'?????????', None), (20L, 993834L, u'????', u'????', None), (21L, 264727999L, u'???', u'????????', u'??????'), (22L, 264727999L, u'???', u'????????', u'??????'), (23L, 143266786L, u'??????', u'??????', u'??????'), (24L, 143266786L, u'??????', u'??????', u'??????'), (25L, 4887577L, u'?????', u'?????????', u'??????? ???'), (26L, 4887577L, u'?????', u'?????????', u'??????? ???'), (27L, 33814534L, u'???????', u'????????', None), (28L, 248959959L, u'???????', u'?????????', u'??????'), (29L, 248959959L, u'???????', u'?????????', u'??????'), (30L, 239739128L, u'??????', u'????????', None), (31L, 28034199L, u'????????', u'?????', None), (32L, 45655893L, u'??????', u'????????????', u'??????'), (33L, 45655893L, u'??????', u'????????????', u'??????'), (34L, 86415291L, u'?????', u'???????', u'???????? ???????'), (35L, 86415291L, u'?????', u'???????', u'???????? ???????'), (36L, 11167116L, u'?????????', u'????????', None), (37L, 15217271L, u'??????', u'???????????', u'-???-??????'), (38L, 15217271L, u'??????', u'???????????', u'-???-??????'), (39L, 4773604L, u'??????', u'???????', None), (40L, 582911L, u'Alua', u'Kilibayeva', None), (41L, 404721L, u'Pavel', u'Savenkov', u'???-??????'), (42L, 404721L, u'Pavel', u'Savenkov', u'???-??????'), (43L, 45386222L, u'?????', u'???????', None), (44L, 251722456L, u'?????', u'?????????', None), (45L, 5215595L, u'Sarkis', u'Edwards', None), (46L, 80829911L, u'?????', u'?????????', None), (47L, 258600630L, u'?????????', u'?????????', u'??????'), (48L, 258600630L, u'?????????', u'?????????', u'??????'), (49L, 2177132L, u'???????', u'?????????', u'??????? ??????'), (50L, 2177132L, u'???????', u'?????????', u'??????? ??????'), (51L, 116318452L, u'?????????', u'?????????', u'...??? ??? ? ??'), (52L, 116318452L, u'?????????', u'?????????', u'...??? ??? ? ??'), (53L, 308641310L, u'???????', u'???????', None), (54L, 18002386L, u'????????', u'????????', None), (55L, 18002386L, u'????????', u'????????', None), (56L, 199191L, u'????????', u'???????', None), (57L, 179753994L, u'???????', u'????????', u'????'), (58L, 179753994L, u'???????', u'????????', u'????'), (59L, 4358125L, u'?????', u'????????', None), (60L, 34573209L, u'?????', u'???????', u'???????????'), (61L, 34573209L, u'?????', u'???????', u'???????????'), (62L, 191625713L, u'???????', u'??????', None), (63L, 214749667L, u'???', u'?????', None), (64L, 151536255L, u'????', u'??????', u'?????'), (65L, 151536255L, u'????', u'??????', u'?????'), (66L, 258468989L, u'?????????', u'???????', None), (67L, 201541L, u'????????', u'???????', u''), (68L, 201541L, u'????????', u'???????', u''), (69L, 77796930L, u'??????', u'???????', None), (70L, 9266313L, u'???????', u'???????????', None), (71L, 167622187L, u'????', u'??????', None), (72L, 4451L, u'?????', u'???????', u''), (73L, 4451L, u'?????', u'???????', u''), (74L, 29630595L, u'?????', u'?????????', None), (75L, 65606064L, u'????', u'???????', u'?????'), (76L, 65606064L, u'????', u'???????', u'?????'), (77L, 7213140L, u'?????', u'????????', None), (78L, 6791301L, u'????', u'???????', None), (79L, 215841724L, u'?????????', u'???????', u'???'), (80L, 215841724L, u'?????????', u'???????', u'???'), (81L, 5731057L, u'?????????', u'???????', u'??????'), (82L, 5731057L, u'?????????', u'???????', u'??????'), (83L, 61840285L, u'????????', u'?????????', None), (84L, 391152316L, u'Archie', u'Official', u'???????????'), (85L, 391152316L, u'Archie', u'Official', u'???????????'), (86L, 26394441L, u'???????', u'???????', u'????? - ??? ????? ?????. '), (87L, 26394441L, u'???????', u'???????', u'????? - ??? ????? ?????. '), (88L, 86708262L, u'???4k?', u'?angel?', None), (89L, 7975646L, u'????', u'??????', u'??????'), (90L, 7975646L, u'????', u'??????', u'??????'), (91L, 151260817L, u'????????', u'??????', None), (92L, 4420563L, u'?????', u'????????', u'?????'), (93L, 4420563L, u'?????', u'????????', u'?????'), (94L, 162320209L, u'??????', u'???????', u'?????????? ???????'), (95L, 162320209L, u'??????', u'???????', u'?????????? ???????'), (96L, 331361L, u'?????', u'??????????', u'??????????'), (97L, 331361L, u'?????', u'??????????', u'??????????'), (98L, 390108718L, u'?????', u'?????', None), (99L, 318236739L, u'?????', u'??????', u'?????? (???'), (100L, 318236739L, u'?????', u'??????', u'?????? (???'), (101L, 187225818L, u'??????', u'???????', None), (102L, 19374653L, u'?????', u'????????', None), (103L, 217205661L, u'?????', u'???', u'??????'), (104L, 217205661L, u'?????', u'???', u'??????'), (105L, 3737658L, u'?????', u'?????????', None), (106L, 3715953L, u'?????', u'????????????', u'????????????..'), (107L, 3715953L, u'?????', u'????????????', u'????????????..'), (108L, 29815283L, u'?????', u'???????', u'?????'), (109L, 29815283L, u'?????', u'???????', u'?????'), (110L, 148943263L, u'?????????', u'???????????', None), (111L, 7908596L, u'??????', u'????????', None), (112L, 14728117L, u'????????', u'??', u'???????????'), (113L, 14728117L, u'????????', u'??', u'???????????'), (114L, 27762613L, u'???????', u'???????', u'?????? ????????'), (115L, 27762613L, u'???????', u'???????', u'?????? ????????'), (116L, 1315111L, u'Irinka', u'Belokoneva', None), (117L, 7066154L, u'????????', u'????????', u'?????????'), (118L, 7066154L, u'????????', u'????????', u'?????????'), (119L, 8159476L, u'????', u'?????', None), (120L, 37527035L, u'??????', u'??????????', None), (121L, 4662902L, u'????????', u'??????', u'?'), (122L, 4662902L, u'????????', u'??????', u'?'), (123L, 32039096L, u'Lola', u'Will', u'?? ????? ????????'), (124L, 32039096L, u'Lola', u'Will', u'?? ????? ????????'), (125L, 7873248L, u'????????', u'???????', u'????'), (126L, 7873248L, u'????????', u'???????', u'????'), (127L, 61073L, u'?????????', u'?????????', None), (128L, 213546536L, u'????', u'???????', u'??????'), (129L, 213546536L, u'????', u'???????', u'??????'), (130L, 6528699L, u'?????????', u'????????', None), (131L, 211427737L, u'????????', u'?????????', None), (132L, 125494030L, u'?????', u'?????????', u'??????????? ? ??????'), (133L, 125494030L, u'?????', u'?????????', u'??????????? ? ??????'), (134L, 7985571L, u'???????', u'?.', u'??????????'), (135L, 7985571L, u'???????', u'?.', u'??????????'), (136L, 254951789L, u'Delf', u'Winter', None), (137L, 30284420L, u'????', u'???????', None))\n"
     ]
    }
   ],
   "source": [
    "sql_c = SQLConnector()\n",
    "sql_c.connect()\n",
    "cur = sql_c.con.cursor()\n",
    "cur.execute(\"SELECT * FROM data2you1.VK_interests\")\n",
    "print(cur.fetchall())\n",
    "cur.close()"
   ]
  },
  {
   "cell_type": "code",
   "execution_count": 16,
   "metadata": {
    "collapsed": true
   },
   "outputs": [],
   "source": []
  },
  {
   "cell_type": "code",
   "execution_count": 17,
   "metadata": {
    "collapsed": false
   },
   "outputs": [
    {
     "name": "stdout",
     "output_type": "stream",
     "text": [
      "ÐÐ»ÐµÐ½Ð°\n"
     ]
    }
   ],
   "source": []
  },
  {
   "cell_type": "code",
   "execution_count": null,
   "metadata": {
    "collapsed": true
   },
   "outputs": [],
   "source": []
  }
 ],
 "metadata": {
  "anaconda-cloud": {},
  "kernelspec": {
   "display_name": "Python [conda root]",
   "language": "python",
   "name": "conda-root-py"
  },
  "language_info": {
   "codemirror_mode": {
    "name": "ipython",
    "version": 2
   },
   "file_extension": ".py",
   "mimetype": "text/x-python",
   "name": "python",
   "nbconvert_exporter": "python",
   "pygments_lexer": "ipython2",
   "version": "2.7.12"
  }
 },
 "nbformat": 4,
 "nbformat_minor": 1
}
