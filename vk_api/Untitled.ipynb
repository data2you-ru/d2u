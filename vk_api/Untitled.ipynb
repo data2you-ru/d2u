{
 "cells": [
  {
   "cell_type": "code",
   "execution_count": 1,
   "metadata": {
    "collapsed": false
   },
   "outputs": [
    {
     "name": "stdout",
     "output_type": "stream",
     "text": [
      "https://api.vk.com/method/users.get?user_id=40819504?v=5.52\n",
      "{\"error\":{\"error_code\":100,\"error_msg\":\"One of the parameters specified was missing or invalid: user_id not integer\",\"request_params\":[{\"key\":\"oauth\",\"value\":\"1\"},{\"key\":\"method\",\"value\":\"users.get\"},{\"key\":\"user_id\",\"value\":\"40819504?v=5.52\"}]}}\n"
     ]
    }
   ],
   "source": [
    "import urllib2\n",
    "from my_data import MyVKData\n",
    "\n",
    "s = MyVKData.API_URL+'users.get' + '?' + 'user_id=' + MyVKData.MY_USER_ID + '?v=5.52'\n",
    "print(s)\n",
    "response = urllib2.urlopen(s)\n",
    "\n",
    "result = response.read()\n",
    "\n",
    "print(result)"
   ]
  },
  {
   "cell_type": "code",
   "execution_count": null,
   "metadata": {
    "collapsed": true
   },
   "outputs": [],
   "source": []
  }
 ],
 "metadata": {
  "anaconda-cloud": {},
  "kernelspec": {
   "display_name": "Python [conda root]",
   "language": "python",
   "name": "conda-root-py"
  },
  "language_info": {
   "codemirror_mode": {
    "name": "ipython",
    "version": 2
   },
   "file_extension": ".py",
   "mimetype": "text/x-python",
   "name": "python",
   "nbconvert_exporter": "python",
   "pygments_lexer": "ipython2",
   "version": "2.7.12"
  }
 },
 "nbformat": 4,
 "nbformat_minor": 1
}
