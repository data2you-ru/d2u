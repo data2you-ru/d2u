{
 "cells": [
  {
   "cell_type": "markdown",
   "metadata": {
    "collapsed": false
   },
   "source": [
    "### 1.1 version of scrapper\n",
    "+ proxy"
   ]
  },
  {
   "cell_type": "code",
   "execution_count": 1,
   "metadata": {
    "collapsed": true
   },
   "outputs": [],
   "source": [
    "# -*- coding: utf-8 -*-\n",
    "from urllib2 import urlopen\n",
    "from lxml import etree\n",
    "import urllib\n",
    "from lxml import html\n",
    "from bs4 import BeautifulSoup\n",
    "import io\n",
    "import pandas as pd\n",
    "from io import StringIO, BytesIO\n",
    "import pandas as pd\n",
    "import numpy as np\n",
    "import re\n",
    "from collections import deque\n",
    "import json\n",
    "import urllib2\n",
    "import time"
   ]
  },
  {
   "cell_type": "code",
   "execution_count": 2,
   "metadata": {
    "collapsed": true
   },
   "outputs": [],
   "source": [
    "import pandas as pd\n",
    "url = \"https://www.avito.ru/moskva/tovary_dlya_kompyutera/komplektuyuschie/videokarty?p=2\"\n",
    "page = urllib.urlopen(url).read()\n",
    "soup = BeautifulSoup(page, 'html.parser')"
   ]
  },
  {
   "cell_type": "code",
   "execution_count": 11,
   "metadata": {
    "collapsed": false
   },
   "outputs": [],
   "source": [
    "def save_ad_phone_image(ad_id, ad_image_hash):\n",
    "        ad_image_file = open('%s' % ad_id, \"wb\")\n",
    "        ad_image_file.write(ad_image_hash.decode('base64'))\n",
    "        ad_image_file.close()\n",
    "        \n",
    "class PageParser:\n",
    "    \n",
    "    \"\"\"\n",
    "    example page: https://www.avito.ru/moskva/tovary_dlya_kompyutera/nvidia_gtx_1080_amd_radeon_r9_270x_i_drugie_modeli_728193995\n",
    "    extract:\n",
    "        phone\n",
    "        text description\n",
    "        adress\n",
    "        name\n",
    "        price\n",
    "        how to use: \n",
    "        >> parser = PageParser(url)\n",
    "        >> parser.get_user_name()\n",
    "    \"\"\"\n",
    "    \n",
    "    description = None\n",
    "    price = None\n",
    "    def __init__(self, url, proxies, ip_cnt):\n",
    "        self.url = url #!!!!\n",
    "        self.page = urllib2.urlopen(self.url).read()\n",
    "        self.soup = BeautifulSoup(self.page, 'html.parser')\n",
    "        if proxies == None: \n",
    "            proxies = []\n",
    "        self.proxies = proxies\n",
    "        self.ip_usage = ip_cnt\n",
    "    def urlopen(self, url):\n",
    "        # open new ip each time using counter ip_usage\n",
    "        prx = self.ip_usage % (len(self.proxies) + 1)\n",
    "        self.ip_usage = (self.ip_usage + 1) % (len(self.proxies) + 1)\n",
    "        if (prx == 0):\n",
    "            print(\"usual ip\")\n",
    "            test_proxy = urllib2.ProxyHandler({})\n",
    "            opener = urllib2.build_opener(test_proxy)\n",
    "            urllib2.install_opener(opener)\n",
    "            return urllib2.urlopen(url)\n",
    "        else:\n",
    "            prx -= 1\n",
    "            print self.proxies[prx]\n",
    "            test_proxy = urllib2.ProxyHandler(self.proxies[prx])\n",
    "            opener = urllib2.build_opener(test_proxy)\n",
    "            urllib2.install_opener(opener)\n",
    "            answer = urllib2.urlopen(url)\n",
    "            return answer\n",
    "    def find_price(self):\n",
    "        return self.get_variable('avito.item.price')\n",
    "    def get_title(self):\n",
    "        tag_ = self.soup.find('div', class_=\"sticky-header-prop\")\n",
    "        return tag_.text.strip()\n",
    "    def find_text_description(self):\n",
    "        tag_ = self.soup.find('meta', attrs={\"property\" : \"og:description\"})\n",
    "        self.description = tag_[\"content\"]\n",
    "        return self.description\n",
    "    def find_id_number(self):\n",
    "        tag_ = self.soup.find('div', class_='title-info-metadata-item')\n",
    "        self.id_number = tag_.text\n",
    "        self.id_number = self.get_number_from_str(self.id_number)\n",
    "        return self.id_number\n",
    "    def get_number_from_str(self, s):\n",
    "        # переписать нормально мб\n",
    "        while (not re.match('[0-9]', s[0])):\n",
    "            s = s[1:]\n",
    "        ans = \"\"\n",
    "        i = 0\n",
    "        while (re.match('[0-9]', s[i:])):\n",
    "            i += 1\n",
    "        return s[:i]\n",
    "    # get image url by pkey and ID\n",
    "    def get_image_pkey(self, ad_id=False, ad_phone=False):\n",
    "        if ad_id and ad_phone:\n",
    "            ad_subhash = re.findall(r'[0-9a-f]+', ad_phone)\n",
    "            if int(ad_id) % 2 == 0:\n",
    "                ad_subhash.reverse()\n",
    "            ad_subhash = ''.join(ad_subhash)\n",
    "            return ad_subhash[::3]\n",
    "    def get_phone_json(self, id_, pkey_, sHash_, url_):\n",
    "        req = \"https://www.avito.ru/items/phone/{0}?pkey={1}&vsrc=r&searchHash={2}\".format(id_, pkey_, sHash_)\n",
    "        ref = 'https://www.avito.ru' + url_\n",
    "        request = urllib2.Request(req, headers={'Referer': ref})\n",
    "        response = self.urlopen(request)\n",
    "        html = response.read()\n",
    "        return html\n",
    "    def get_variable(self, s):\n",
    "        pre = re.compile(s + \" = '(.*)';\")    \n",
    "        scripts = self.soup.find_all('script')\n",
    "        answer = \"\"\n",
    "        for i in scripts:\n",
    "            try:\n",
    "                ans = re.findall(pre, i.string)\n",
    "                if len(ans) != 0:\n",
    "                    answer = ans[0].strip()\n",
    "            except:\n",
    "                pass\n",
    "        return answer   \n",
    "    def get_ad_phone_hash(self):\n",
    "        return self.get_variable('avito.item.phone')\n",
    "    \n",
    "    def get_avito_item_searchHash(self):\n",
    "        return self.get_variable('avito.item.searchHash')\n",
    "    \n",
    "    def get_avito_item_id(self):\n",
    "        return self.get_variable('avito.item.id')\n",
    "    \n",
    "    def get_user_name(self):\n",
    "        # <div class=\"seller-info-name\">\n",
    "        tag_ = self.soup.find('div', class_='seller-info-name')\n",
    "        return tag_.text.strip()\n",
    "    \n",
    "    def get_user_adress(self):\n",
    "        tags = self.soup.find_all('div', class_='seller-info-prop')\n",
    "        for i in tags:\n",
    "            tg = i.find('div', class_='seller-info-label')\n",
    "            if (tg.text == u'Адрес'):\n",
    "                return i.find('div', class_='seller-info-value').text.strip()\n",
    "        return \"NONE\"\n",
    "    \n",
    "    def get_phone_image(self):\n",
    "        id_ = str(self.get_avito_item_id())\n",
    "        phone_ = self.get_ad_phone_hash()\n",
    "        pkey_ = self.get_image_pkey(id_, phone_)\n",
    "        url_ = self.get_variable('avito.item.url')\n",
    "        json = self.get_phone_json(id_, pkey_, self.get_avito_item_searchHash(), url_)\n",
    "        self.json = json\n",
    "        return self.json\n",
    "    \n",
    "    def save_image(self):\n",
    "        ss = json.loads(self.get_phone_image())['image64']\n",
    "        image = ss[ss.find(','):]\n",
    "        save_ad_phone_image(parser.get_avito_item_id(), image)\n",
    "    ################################\n",
    "    #       mobile version         #\n",
    "    ################################\n",
    "    def get_phone_mobile(self, Hash_, url_):\n",
    "        req = 'https://m.avito.ru' + url_ + '?async&searchHash=' + Hash_\n",
    "        ref = 'https://m.avito.ru' + url_\n",
    "        request = urllib2.Request(req, headers={'Referer': ref})\n",
    "        response = self.urlopen(request)\n",
    "        html = response.read()\n",
    "        return html\n",
    "    def get_phone_from_mobile(self):\n",
    "        hash_ = self.get_avito_item_searchHash()\n",
    "        \"\"\"class=\"person-action button button-solid button-blue button-large action-link link action-show-number\n",
    "        js-action-show-number  \"\n",
    "        href=\"/moskva/predlozheniya_uslug/arenda_avtovyshki_15m_801012276/phone/3f124991e8b0dbb97b7c025c46b1fe6f\"\n",
    "        \"\"\"\n",
    "        tag_ = self.soup.find('a', class_=\"action-show-number\")\n",
    "        url_ = tag_['href']\n",
    "        json_ = self.get_phone_mobile(hash_, url_)\n",
    "        return json.loads(json_)['phone']"
   ]
  },
  {
   "cell_type": "code",
   "execution_count": 12,
   "metadata": {
    "collapsed": false
   },
   "outputs": [],
   "source": [
    "class Data:\n",
    "    def __init__(self, proxies=None):\n",
    "        \"\"\"\n",
    "        create a deque which is trying to get-and-scrap pages by url from Avito\n",
    "        extracts data from pages via PageParser and return DataFrame object\n",
    "        NOTE blocked if using with same ip non-stop more then 10 times (10 links)\n",
    "        \"\"\"\n",
    "        self.index = 0\n",
    "        self.links = deque()\n",
    "        self.descriptions = deque()\n",
    "        self.prices = deque()\n",
    "        self.mobiles = deque()\n",
    "        self.user_names = deque()\n",
    "        self.adresses = deque()\n",
    "        self.titles = deque()\n",
    "        self.proxies = proxies\n",
    "        self.ip_cnt = 0\n",
    "    def add_link(self, lnk):\n",
    "        self.links.append(lnk)\n",
    "    def parse_next(self):\n",
    "        self.ip_cnt += 1\n",
    "        # full\n",
    "        parser = PageParser(self.links[self.index], proxies=self.proxies, ip_cnt=self.ip_cnt)\n",
    "        self.descriptions.append(parser.find_text_description())\n",
    "        self.prices.append(parser.find_price())\n",
    "        self.user_names.append(parser.get_user_name())\n",
    "        self.adresses.append(parser.get_user_adress())\n",
    "        self.titles.append(parser.get_title())\n",
    "        # mobile\n",
    "        parser = PageParser(self.links[self.index].replace('www', 'm'), self.proxies, ip_cnt=self.ip_cnt)\n",
    "        self.mobiles.append(parser.get_phone_from_mobile())\n",
    "        self.index += 1\n",
    "    def get_DataFrame(self):\n",
    "        d = {'title' : self.titles, 'Price' : self.prices, 'Description' : self.descriptions, 'phone' : self.mobiles, \n",
    "            'name' : self.user_names, 'adress' : self.adresses}\n",
    "        return pd.DataFrame(data=d)"
   ]
  },
  {
   "cell_type": "code",
   "execution_count": 13,
   "metadata": {
    "collapsed": false
   },
   "outputs": [],
   "source": [
    "data = Data()"
   ]
  },
  {
   "cell_type": "markdown",
   "metadata": {},
   "source": [
    "Extract pages and data in data = Data()"
   ]
  },
  {
   "cell_type": "code",
   "execution_count": 15,
   "metadata": {
    "collapsed": false
   },
   "outputs": [],
   "source": [
    "url = \"https://linkedin.com/in/vsopin\""
   ]
  },
  {
   "cell_type": "code",
   "execution_count": 16,
   "metadata": {
    "collapsed": false
   },
   "outputs": [
    {
     "ename": "URLError",
     "evalue": "<urlopen error [SSL: CERTIFICATE_VERIFY_FAILED] certificate verify failed (_ssl.c:590)>",
     "output_type": "error",
     "traceback": [
      "\u001b[0;31m---------------------------------------------------------------------------\u001b[0m",
      "\u001b[0;31mURLError\u001b[0m                                  Traceback (most recent call last)",
      "\u001b[0;32m<ipython-input-16-e5c9355bcdca>\u001b[0m in \u001b[0;36m<module>\u001b[0;34m()\u001b[0m\n\u001b[1;32m      5\u001b[0m \u001b[0murllib2\u001b[0m\u001b[0;34m.\u001b[0m\u001b[0minstall_opener\u001b[0m\u001b[0;34m(\u001b[0m\u001b[0mopener\u001b[0m\u001b[0;34m)\u001b[0m\u001b[0;34m\u001b[0m\u001b[0m\n\u001b[1;32m      6\u001b[0m \u001b[0;34m\u001b[0m\u001b[0m\n\u001b[0;32m----> 7\u001b[0;31m \u001b[0msoup\u001b[0m \u001b[0;34m=\u001b[0m \u001b[0mBeautifulSoup\u001b[0m\u001b[0;34m(\u001b[0m\u001b[0murllib2\u001b[0m\u001b[0;34m.\u001b[0m\u001b[0murlopen\u001b[0m\u001b[0;34m(\u001b[0m\u001b[0murl\u001b[0m\u001b[0;34m)\u001b[0m\u001b[0;34m.\u001b[0m\u001b[0mread\u001b[0m\u001b[0;34m(\u001b[0m\u001b[0;34m)\u001b[0m\u001b[0;34m,\u001b[0m \u001b[0;34m'html.parser'\u001b[0m\u001b[0;34m)\u001b[0m\u001b[0;34m\u001b[0m\u001b[0m\n\u001b[0m\u001b[1;32m      8\u001b[0m \u001b[0;32mprint\u001b[0m \u001b[0msoup\u001b[0m\u001b[0;34m.\u001b[0m\u001b[0mprettify\u001b[0m\u001b[0;34m(\u001b[0m\u001b[0;34m)\u001b[0m\u001b[0;34m\u001b[0m\u001b[0m\n",
      "\u001b[0;32m/Users/istar/anaconda/lib/python2.7/urllib2.pyc\u001b[0m in \u001b[0;36murlopen\u001b[0;34m(url, data, timeout, cafile, capath, cadefault, context)\u001b[0m\n\u001b[1;32m    152\u001b[0m     \u001b[0;32melse\u001b[0m\u001b[0;34m:\u001b[0m\u001b[0;34m\u001b[0m\u001b[0m\n\u001b[1;32m    153\u001b[0m         \u001b[0mopener\u001b[0m \u001b[0;34m=\u001b[0m \u001b[0m_opener\u001b[0m\u001b[0;34m\u001b[0m\u001b[0m\n\u001b[0;32m--> 154\u001b[0;31m     \u001b[0;32mreturn\u001b[0m \u001b[0mopener\u001b[0m\u001b[0;34m.\u001b[0m\u001b[0mopen\u001b[0m\u001b[0;34m(\u001b[0m\u001b[0murl\u001b[0m\u001b[0;34m,\u001b[0m \u001b[0mdata\u001b[0m\u001b[0;34m,\u001b[0m \u001b[0mtimeout\u001b[0m\u001b[0;34m)\u001b[0m\u001b[0;34m\u001b[0m\u001b[0m\n\u001b[0m\u001b[1;32m    155\u001b[0m \u001b[0;34m\u001b[0m\u001b[0m\n\u001b[1;32m    156\u001b[0m \u001b[0;32mdef\u001b[0m \u001b[0minstall_opener\u001b[0m\u001b[0;34m(\u001b[0m\u001b[0mopener\u001b[0m\u001b[0;34m)\u001b[0m\u001b[0;34m:\u001b[0m\u001b[0;34m\u001b[0m\u001b[0m\n",
      "\u001b[0;32m/Users/istar/anaconda/lib/python2.7/urllib2.pyc\u001b[0m in \u001b[0;36mopen\u001b[0;34m(self, fullurl, data, timeout)\u001b[0m\n\u001b[1;32m    427\u001b[0m             \u001b[0mreq\u001b[0m \u001b[0;34m=\u001b[0m \u001b[0mmeth\u001b[0m\u001b[0;34m(\u001b[0m\u001b[0mreq\u001b[0m\u001b[0;34m)\u001b[0m\u001b[0;34m\u001b[0m\u001b[0m\n\u001b[1;32m    428\u001b[0m \u001b[0;34m\u001b[0m\u001b[0m\n\u001b[0;32m--> 429\u001b[0;31m         \u001b[0mresponse\u001b[0m \u001b[0;34m=\u001b[0m \u001b[0mself\u001b[0m\u001b[0;34m.\u001b[0m\u001b[0m_open\u001b[0m\u001b[0;34m(\u001b[0m\u001b[0mreq\u001b[0m\u001b[0;34m,\u001b[0m \u001b[0mdata\u001b[0m\u001b[0;34m)\u001b[0m\u001b[0;34m\u001b[0m\u001b[0m\n\u001b[0m\u001b[1;32m    430\u001b[0m \u001b[0;34m\u001b[0m\u001b[0m\n\u001b[1;32m    431\u001b[0m         \u001b[0;31m# post-process response\u001b[0m\u001b[0;34m\u001b[0m\u001b[0;34m\u001b[0m\u001b[0m\n",
      "\u001b[0;32m/Users/istar/anaconda/lib/python2.7/urllib2.pyc\u001b[0m in \u001b[0;36m_open\u001b[0;34m(self, req, data)\u001b[0m\n\u001b[1;32m    445\u001b[0m         \u001b[0mprotocol\u001b[0m \u001b[0;34m=\u001b[0m \u001b[0mreq\u001b[0m\u001b[0;34m.\u001b[0m\u001b[0mget_type\u001b[0m\u001b[0;34m(\u001b[0m\u001b[0;34m)\u001b[0m\u001b[0;34m\u001b[0m\u001b[0m\n\u001b[1;32m    446\u001b[0m         result = self._call_chain(self.handle_open, protocol, protocol +\n\u001b[0;32m--> 447\u001b[0;31m                                   '_open', req)\n\u001b[0m\u001b[1;32m    448\u001b[0m         \u001b[0;32mif\u001b[0m \u001b[0mresult\u001b[0m\u001b[0;34m:\u001b[0m\u001b[0;34m\u001b[0m\u001b[0m\n\u001b[1;32m    449\u001b[0m             \u001b[0;32mreturn\u001b[0m \u001b[0mresult\u001b[0m\u001b[0;34m\u001b[0m\u001b[0m\n",
      "\u001b[0;32m/Users/istar/anaconda/lib/python2.7/urllib2.pyc\u001b[0m in \u001b[0;36m_call_chain\u001b[0;34m(self, chain, kind, meth_name, *args)\u001b[0m\n\u001b[1;32m    405\u001b[0m             \u001b[0mfunc\u001b[0m \u001b[0;34m=\u001b[0m \u001b[0mgetattr\u001b[0m\u001b[0;34m(\u001b[0m\u001b[0mhandler\u001b[0m\u001b[0;34m,\u001b[0m \u001b[0mmeth_name\u001b[0m\u001b[0;34m)\u001b[0m\u001b[0;34m\u001b[0m\u001b[0m\n\u001b[1;32m    406\u001b[0m \u001b[0;34m\u001b[0m\u001b[0m\n\u001b[0;32m--> 407\u001b[0;31m             \u001b[0mresult\u001b[0m \u001b[0;34m=\u001b[0m \u001b[0mfunc\u001b[0m\u001b[0;34m(\u001b[0m\u001b[0;34m*\u001b[0m\u001b[0margs\u001b[0m\u001b[0;34m)\u001b[0m\u001b[0;34m\u001b[0m\u001b[0m\n\u001b[0m\u001b[1;32m    408\u001b[0m             \u001b[0;32mif\u001b[0m \u001b[0mresult\u001b[0m \u001b[0;32mis\u001b[0m \u001b[0;32mnot\u001b[0m \u001b[0mNone\u001b[0m\u001b[0;34m:\u001b[0m\u001b[0;34m\u001b[0m\u001b[0m\n\u001b[1;32m    409\u001b[0m                 \u001b[0;32mreturn\u001b[0m \u001b[0mresult\u001b[0m\u001b[0;34m\u001b[0m\u001b[0m\n",
      "\u001b[0;32m/Users/istar/anaconda/lib/python2.7/urllib2.pyc\u001b[0m in \u001b[0;36mhttps_open\u001b[0;34m(self, req)\u001b[0m\n\u001b[1;32m   1239\u001b[0m         \u001b[0;32mdef\u001b[0m \u001b[0mhttps_open\u001b[0m\u001b[0;34m(\u001b[0m\u001b[0mself\u001b[0m\u001b[0;34m,\u001b[0m \u001b[0mreq\u001b[0m\u001b[0;34m)\u001b[0m\u001b[0;34m:\u001b[0m\u001b[0;34m\u001b[0m\u001b[0m\n\u001b[1;32m   1240\u001b[0m             return self.do_open(httplib.HTTPSConnection, req,\n\u001b[0;32m-> 1241\u001b[0;31m                 context=self._context)\n\u001b[0m\u001b[1;32m   1242\u001b[0m \u001b[0;34m\u001b[0m\u001b[0m\n\u001b[1;32m   1243\u001b[0m         \u001b[0mhttps_request\u001b[0m \u001b[0;34m=\u001b[0m \u001b[0mAbstractHTTPHandler\u001b[0m\u001b[0;34m.\u001b[0m\u001b[0mdo_request_\u001b[0m\u001b[0;34m\u001b[0m\u001b[0m\n",
      "\u001b[0;32m/Users/istar/anaconda/lib/python2.7/urllib2.pyc\u001b[0m in \u001b[0;36mdo_open\u001b[0;34m(self, http_class, req, **http_conn_args)\u001b[0m\n\u001b[1;32m   1196\u001b[0m         \u001b[0;32mexcept\u001b[0m \u001b[0msocket\u001b[0m\u001b[0;34m.\u001b[0m\u001b[0merror\u001b[0m\u001b[0;34m,\u001b[0m \u001b[0merr\u001b[0m\u001b[0;34m:\u001b[0m \u001b[0;31m# XXX what error?\u001b[0m\u001b[0;34m\u001b[0m\u001b[0m\n\u001b[1;32m   1197\u001b[0m             \u001b[0mh\u001b[0m\u001b[0;34m.\u001b[0m\u001b[0mclose\u001b[0m\u001b[0;34m(\u001b[0m\u001b[0;34m)\u001b[0m\u001b[0;34m\u001b[0m\u001b[0m\n\u001b[0;32m-> 1198\u001b[0;31m             \u001b[0;32mraise\u001b[0m \u001b[0mURLError\u001b[0m\u001b[0;34m(\u001b[0m\u001b[0merr\u001b[0m\u001b[0;34m)\u001b[0m\u001b[0;34m\u001b[0m\u001b[0m\n\u001b[0m\u001b[1;32m   1199\u001b[0m         \u001b[0;32melse\u001b[0m\u001b[0;34m:\u001b[0m\u001b[0;34m\u001b[0m\u001b[0m\n\u001b[1;32m   1200\u001b[0m             \u001b[0;32mtry\u001b[0m\u001b[0;34m:\u001b[0m\u001b[0;34m\u001b[0m\u001b[0m\n",
      "\u001b[0;31mURLError\u001b[0m: <urlopen error [SSL: CERTIFICATE_VERIFY_FAILED] certificate verify failed (_ssl.c:590)>"
     ]
    }
   ],
   "source": [
    "\n",
    "proxies=[{'http':'http://5.8.36.174:8085'}]\n",
    "test_proxy = urllib2.ProxyHandler(proxies[0])\n",
    "opener = urllib2.build_opener(test_proxy)\n",
    "urllib2.install_opener(opener)\n",
    "\n",
    "soup = BeautifulSoup(urllib2.urlopen(url).read(), 'html.parser')\n",
    "print soup.prettify()"
   ]
  },
  {
   "cell_type": "code",
   "execution_count": 27,
   "metadata": {
    "collapsed": false
   },
   "outputs": [
    {
     "data": {
      "text/html": [
       "<div>\n",
       "<table border=\"1\" class=\"dataframe\">\n",
       "  <thead>\n",
       "    <tr style=\"text-align: right;\">\n",
       "      <th></th>\n",
       "      <th>Description</th>\n",
       "      <th>Price</th>\n",
       "      <th>adress</th>\n",
       "      <th>name</th>\n",
       "      <th>phone</th>\n",
       "      <th>title</th>\n",
       "    </tr>\n",
       "  </thead>\n",
       "  <tbody>\n",
       "    <tr>\n",
       "      <th>0</th>\n",
       "      <td>Комплектация: Стандарт Комплектация:  Аудиопод...</td>\n",
       "      <td>395900</td>\n",
       "      <td>Москва</td>\n",
       "      <td>АвтоГЕРМЕС LADA Каширка</td>\n",
       "      <td>8 495 663-18-94</td>\n",
       "      <td>LADA Granta, 2017</td>\n",
       "    </tr>\n",
       "    <tr>\n",
       "      <th>1</th>\n",
       "      <td>все по телефону.САЛОНЫ И ПЕРЕКУПЫ НА,УЙ.есть б...</td>\n",
       "      <td>535000</td>\n",
       "      <td>Москва, м. Нахимовский проспект, Нахимовский п...</td>\n",
       "      <td>Владимир</td>\n",
       "      <td>8 906 046-98-82</td>\n",
       "      <td>LADA Largus, 2015</td>\n",
       "    </tr>\n",
       "  </tbody>\n",
       "</table>\n",
       "</div>"
      ],
      "text/plain": [
       "                                         Description   Price  \\\n",
       "0  Комплектация: Стандарт Комплектация:  Аудиопод...  395900   \n",
       "1  все по телефону.САЛОНЫ И ПЕРЕКУПЫ НА,УЙ.есть б...  535000   \n",
       "\n",
       "                                              adress                     name  \\\n",
       "0                                             Москва  АвтоГЕРМЕС LADA Каширка   \n",
       "1  Москва, м. Нахимовский проспект, Нахимовский п...                 Владимир   \n",
       "\n",
       "             phone              title  \n",
       "0  8 495 663-18-94  LADA Granta, 2017  \n",
       "1  8 906 046-98-82  LADA Largus, 2015  "
      ]
     },
     "execution_count": 27,
     "metadata": {},
     "output_type": "execute_result"
    }
   ],
   "source": [
    "autos = data.get_DataFrame()\n",
    "autos"
   ]
  },
  {
   "cell_type": "code",
   "execution_count": 28,
   "metadata": {
    "collapsed": false
   },
   "outputs": [
    {
     "data": {
      "text/html": [
       "<div>\n",
       "<table border=\"1\" class=\"dataframe\">\n",
       "  <thead>\n",
       "    <tr style=\"text-align: right;\">\n",
       "      <th></th>\n",
       "      <th>Description</th>\n",
       "      <th>Price</th>\n",
       "      <th>adress</th>\n",
       "      <th>name</th>\n",
       "      <th>phone</th>\n",
       "      <th>title</th>\n",
       "    </tr>\n",
       "  </thead>\n",
       "  <tbody>\n",
       "    <tr>\n",
       "      <th>0</th>\n",
       "      <td>Комплектация: Стандарт Комплектация:  Аудиопод...</td>\n",
       "      <td>395900</td>\n",
       "      <td>Москва</td>\n",
       "      <td>АвтоГЕРМЕС LADA Каширка</td>\n",
       "      <td>8 495 663-18-94</td>\n",
       "      <td>LADA Granta, 2017</td>\n",
       "    </tr>\n",
       "    <tr>\n",
       "      <th>1</th>\n",
       "      <td>все по телефону.САЛОНЫ И ПЕРЕКУПЫ НА,УЙ.есть б...</td>\n",
       "      <td>535000</td>\n",
       "      <td>Москва, м. Нахимовский проспект, Нахимовский п...</td>\n",
       "      <td>Владимир</td>\n",
       "      <td>8 906 046-98-82</td>\n",
       "      <td>LADA Largus, 2015</td>\n",
       "    </tr>\n",
       "  </tbody>\n",
       "</table>\n",
       "</div>"
      ],
      "text/plain": [
       "                                         Description   Price  \\\n",
       "0  Комплектация: Стандарт Комплектация:  Аудиопод...  395900   \n",
       "1  все по телефону.САЛОНЫ И ПЕРЕКУПЫ НА,УЙ.есть б...  535000   \n",
       "\n",
       "                                              adress                     name  \\\n",
       "0                                             Москва  АвтоГЕРМЕС LADA Каширка   \n",
       "1  Москва, м. Нахимовский проспект, Нахимовский п...                 Владимир   \n",
       "\n",
       "             phone              title  \n",
       "0  8 495 663-18-94  LADA Granta, 2017  \n",
       "1  8 906 046-98-82  LADA Largus, 2015  "
      ]
     },
     "execution_count": 28,
     "metadata": {},
     "output_type": "execute_result"
    }
   ],
   "source": [
    "autos.sort_values(by='Price')"
   ]
  },
  {
   "cell_type": "code",
   "execution_count": null,
   "metadata": {
    "collapsed": true
   },
   "outputs": [],
   "source": []
  }
 ],
 "metadata": {
  "anaconda-cloud": {},
  "kernelspec": {
   "display_name": "Python [conda root]",
   "language": "python",
   "name": "conda-root-py"
  },
  "language_info": {
   "codemirror_mode": {
    "name": "ipython",
    "version": 2
   },
   "file_extension": ".py",
   "mimetype": "text/x-python",
   "name": "python",
   "nbconvert_exporter": "python",
   "pygments_lexer": "ipython2",
   "version": "2.7.12"
  }
 },
 "nbformat": 4,
 "nbformat_minor": 1
}
