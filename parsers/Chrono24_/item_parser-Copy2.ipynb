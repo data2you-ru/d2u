{
 "cells": [
  {
   "cell_type": "code",
   "execution_count": 1,
   "metadata": {
    "collapsed": true
   },
   "outputs": [],
   "source": [
    "import sys\n",
    "reload(sys)\n",
    "sys.setdefaultencoding('utf-8')\n",
    "from urllib2 import urlopen\n",
    "import urllib2\n",
    "from bs4 import BeautifulSoup\n",
    "import io\n",
    "import pandas as pd\n",
    "from io import StringIO, BytesIO\n",
    "import pandas as pd\n",
    "import numpy as np\n",
    "import re\n",
    "import json\n",
    "import time\n",
    "from tqdm import tqdm"
   ]
  },
  {
   "cell_type": "code",
   "execution_count": 1,
   "metadata": {
    "collapsed": false
   },
   "outputs": [
    {
     "name": "stdout",
     "output_type": "stream",
     "text": [
      "/Users/istar/anaconda/bin/python\r\n"
     ]
    }
   ],
   "source": [
    "!which python"
   ]
  },
  {
   "cell_type": "markdown",
   "metadata": {},
   "source": [
    "# Part 1"
   ]
  },
  {
   "cell_type": "code",
   "execution_count": 58,
   "metadata": {
    "collapsed": false
   },
   "outputs": [],
   "source": [
    "# table raws\n",
    "class BasicRaw:\n",
    "    def __init__(self):\n",
    "        self.text = \"None\"\n",
    "    def get_text(self):\n",
    "        return self.text.encode(\"utf-8\").strip()\n",
    "class TitleRaw(BasicRaw):\n",
    "    def __init__(self, title):\n",
    "        self.text = title\n",
    "\n",
    "class KeyValueRaw(BasicRaw):\n",
    "    def __init__(self, key, value):\n",
    "        self.key = key\n",
    "        self.value = value\n",
    "        self.text = key+\" \"+value\n",
    "    def get_kvp(self):\n",
    "        return self.key, self.value\n",
    "class FunctionsAndOther(BasicRaw):\n",
    "    def __init__(self, string, prev_header=\"None\"):\n",
    "        self.text = string\n",
    "        self.prev_header = prev_header\n",
    "class Description(BasicRaw):\n",
    "    def __init__(self, text):\n",
    "        self.text = text\n",
    "    def __str__(self):\n",
    "        return self.text\n",
    "class Raw:\n",
    "    # takes raw raw basically from tbody tag:) and that return one of TitleRow or KeyValueRaw object\n",
    "    # prev is previous title\n",
    "    def __init__(self, soup, prev=\"None\"):\n",
    "        self.soup = soup\n",
    "        print self.soup.prettify()\n",
    "        self.prev = prev\n",
    "    def get_particular_raw_data(self):\n",
    "        req = self.soup.find('span', id=\"watchNotes\")\n",
    "        if not(req is None):\n",
    "            return Description(req.text)\n",
    "        req = self.soup.find('h4')\n",
    "        if not(req is None):\n",
    "            # find a header raw\n",
    "            return TitleRaw(req.text)\n",
    "        req = self.soup.find_all('td')\n",
    "        if len(req) == 2:\n",
    "            # found key-value pair (we hope)\n",
    "            return KeyValueRaw(req[0].text.strip(), req[1].text.strip())\n",
    "        else:\n",
    "            return FunctionsAndOther(','.join([i.text for i in req]), self.prev)"
   ]
  },
  {
   "cell_type": "code",
   "execution_count": null,
   "metadata": {
    "collapsed": true
   },
   "outputs": [],
   "source": [
    "class BasePage:\n",
    "    def __init__(self, url, proxy_seed = 0, proxies=None):\n",
    "        self.url = url\n",
    "        if proxies is None:\n",
    "            self.proxies = []\n",
    "        else:\n",
    "            self.proxies = proxies\n",
    "        self.ip_usage = proxy_seed\n",
    "        # get's beautiful soup of page\n",
    "        self.set_soup()"
   ]
  },
  {
   "cell_type": "code",
   "execution_count": 59,
   "metadata": {
    "collapsed": false
   },
   "outputs": [],
   "source": [
    "class Page(BasePage):\n",
    "    def __init__(self, url, proxy_seed = 0, proxies=None):\n",
    "        \"\"\"\n",
    "            this class scrap data form web page that include all info about item\n",
    "            proxies - array of proxy ips\n",
    "            proxy_seed is variable that determine proxy_id - can be the counter of Page class usage\n",
    "        \"\"\"\n",
    "        self.url = url\n",
    "        if proxies is None:\n",
    "            self.proxies = []\n",
    "        else:\n",
    "            self.proxies = proxies\n",
    "        self.ip_usage = proxy_seed\n",
    "        # get's beautiful soup of page\n",
    "        self.set_soup()\n",
    "        # all data form rows\n",
    "        self.rows = []\n",
    "    def get_page(self):\n",
    "        # open new ip each time using counter ip_usage\n",
    "        prx = self.ip_usage % (len(self.proxies) + 1)\n",
    "        self.ip_usage = (self.ip_usage + 1) % (len(self.proxies) + 1)\n",
    "        if (prx == 0):\n",
    "            test_proxy = urllib2.ProxyHandler({})\n",
    "            opener = urllib2.build_opener(test_proxy)\n",
    "            urllib2.install_opener(opener)\n",
    "            return urllib2.urlopen(self.url)\n",
    "        else:\n",
    "            prx -= 1\n",
    "            test_proxy = urllib2.ProxyHandler(self.proxies[prx])\n",
    "            opener = urllib2.build_opener(test_proxy)\n",
    "            urllib2.install_opener(opener)\n",
    "            answer = urllib2.urlopen(self.url)\n",
    "            return answer\n",
    "    def set_soup(self):\n",
    "        page = self.get_page()\n",
    "        soup = BeautifulSoup(page, 'html.parser')\n",
    "        self.soup = soup\n",
    "    def get_table(self):\n",
    "        # put all data from tables in array of raws \n",
    "        # where each raw is a particular object selected in Raw class\n",
    "        data = []\n",
    "        for table in self.soup.find_all('tbody'):\n",
    "            # this is title object /is a inner rows-sub-box title/\n",
    "            prev = \"None\"\n",
    "            for raw in table.find_all('tr'):\n",
    "                r = Raw(raw, prev)\n",
    "                partic_obj = r.get_particular_raw_data()\n",
    "                if isinstance(partic_obj, TitleRaw):\n",
    "                    prev = partic_obj\n",
    "                data.append(partic_obj)\n",
    "        return data\n",
    "    def get_js_data(self):\n",
    "        data = self.soup.find_all('script')\n",
    "        var_names = [\"watchId\", \"merchantId\", \"watchName\", \"originalPath\", \"uuid\", \"merchantPage\"]\n",
    "        data_dict = {}\n",
    "        for var_name in var_names:\n",
    "            for i in data:\n",
    "                values = re.findall(r'var {} = \"(.*?)\";'.format(var_name), str(i), re.DOTALL | re.MULTILINE)\n",
    "                if len(values) != 0:\n",
    "                    data_dict[var_name] = values[0]\n",
    "        return data_dict\n",
    "    def get_from_table(self):\n",
    "        # get pandas object containing all data from raws\n",
    "        raws = self.get_table()\n",
    "        data = self.get_js_data()\n",
    "        for raw in raws:\n",
    "            if isinstance(raw, KeyValueRaw):\n",
    "                r_kvp = raw.get_kvp()\n",
    "                if r_kvp[0] == u'\\xa0' or r_kvp[0] == u'\\u20ac':\n",
    "                    r_kvp = [\"_OTHER_INFO_\", r_kvp[1]]\n",
    "                if r_kvp[0] in data:\n",
    "                    # if keys collided\n",
    "                    continue\n",
    "                data[r_kvp[0]] = r_kvp[1]\n",
    "            elif isinstance(raw, Description):\n",
    "                data[\"_Description_\"] = raw.get_text()\n",
    "            elif isinstance(raw, FunctionsAndOther):\n",
    "                if \"_Functions_and_other\" in data:\n",
    "                    data[\"_Functions_and_other\"] += '; ' + raw.get_text()\n",
    "                else:\n",
    "                    data[\"_Functions_and_other\"] = raw.get_text()\n",
    "        return data\n",
    "    "
   ]
  },
  {
   "cell_type": "code",
   "execution_count": 60,
   "metadata": {
    "collapsed": true
   },
   "outputs": [],
   "source": [
    "test_item_url = \"http://www.chrono24.com/chronoswiss/ch-7523-lunar-chronograph-ss-25186--id6294206.htm\""
   ]
  },
  {
   "cell_type": "code",
   "execution_count": 61,
   "metadata": {
    "collapsed": false
   },
   "outputs": [],
   "source": [
    "page = Page(test_item_url)"
   ]
  },
  {
   "cell_type": "code",
   "execution_count": 62,
   "metadata": {
    "collapsed": false
   },
   "outputs": [],
   "source": [
    "page.get_table()\n",
    "print 1"
   ]
  },
  {
   "cell_type": "code",
   "execution_count": 63,
   "metadata": {
    "collapsed": false
   },
   "outputs": [
    {
     "data": {
      "text/plain": [
       "{u'': u'With box',\n",
       " u'Availability': u'Available now',\n",
       " u'Brand': u'Chronoswiss',\n",
       " u'Case diameter': u'38 mm',\n",
       " u'Case material': u'Steel',\n",
       " u'Clasp': u'Fold clasp',\n",
       " u'Clasp material': u'Steel',\n",
       " u'Code': u'25186',\n",
       " u'Condition': u'1 (mint)',\n",
       " u'Dial': u'Silver',\n",
       " u'Glass': u'Sapphire Glass',\n",
       " u'Location': u'United States, Massachusetts, Boston',\n",
       " u'Movement': u'Automatic',\n",
       " u'Price': u'$3,900',\n",
       " u'Ref. No.': u'7523',\n",
       " u'Thickness': u'14.5 mm',\n",
       " '_Description_': \"Chronoswiss CH 7523 Lunar Chronograph, CH 7523 L, CH7523L, stainless steel on a strap with a stainless steel deployant buckle, automatic, date, chronograph, moon phases, small second indicator at 9 o'clock, silver gullioche dial, diameter: 38 mm, thickness: 14.5 mm, display back, sapphire crystal, water resistant, Like New with original box and blank warranty certificate.\\n\\n\\n     $3,900\",\n",
       " '_Functions_and_other': 'Moonphase, Chronograph, Date; Display Back, Small Seconds',\n",
       " 'merchantId': '2092',\n",
       " 'originalPath': '/chronoswiss/ch-7523-lunar-chronograph-ss-25186--id6294206.htm',\n",
       " 'uuid': 'b7b07526-f314-4ad1-a73a-e824d1c5ea18',\n",
       " 'watchId': '6294206',\n",
       " 'watchName': 'Chronoswiss CH 7523 Lunar Chronograph SS (25186)'}"
      ]
     },
     "execution_count": 63,
     "metadata": {},
     "output_type": "execute_result"
    }
   ],
   "source": [
    "page.get_from_table()"
   ]
  },
  {
   "cell_type": "code",
   "execution_count": 64,
   "metadata": {
    "collapsed": false
   },
   "outputs": [
    {
     "data": {
      "text/plain": [
       "{'merchantId': '2092',\n",
       " 'originalPath': '/chronoswiss/ch-7523-lunar-chronograph-ss-25186--id6294206.htm',\n",
       " 'uuid': 'b7b07526-f314-4ad1-a73a-e824d1c5ea18',\n",
       " 'watchId': '6294206',\n",
       " 'watchName': 'Chronoswiss CH 7523 Lunar Chronograph SS (25186)'}"
      ]
     },
     "execution_count": 64,
     "metadata": {},
     "output_type": "execute_result"
    }
   ],
   "source": [
    "page.get_js_data()"
   ]
  },
  {
   "cell_type": "code",
   "execution_count": null,
   "metadata": {
    "collapsed": true
   },
   "outputs": [],
   "source": []
  },
  {
   "cell_type": "markdown",
   "metadata": {},
   "source": [
    "# Part 2"
   ]
  },
  {
   "cell_type": "code",
   "execution_count": null,
   "metadata": {
    "collapsed": true
   },
   "outputs": [],
   "source": [
    "class ModelPage:\n",
    "    def __init__(self, page_url):\n",
    "        self.page_url = url"
   ]
  },
  {
   "cell_type": "code",
   "execution_count": 65,
   "metadata": {
    "collapsed": false
   },
   "outputs": [],
   "source": [
    "mainData = dict()\n",
    "sz = 0"
   ]
  },
  {
   "cell_type": "code",
   "execution_count": 66,
   "metadata": {
    "collapsed": true
   },
   "outputs": [],
   "source": [
    "main_page = \"http://www.chrono24.com/chronoswiss\"\n",
    "adder = \"/index.htm\"\n",
    "# pages ase ..index, index-2, index-3, index-4"
   ]
  },
  {
   "cell_type": "code",
   "execution_count": 67,
   "metadata": {
    "collapsed": true
   },
   "outputs": [],
   "source": [
    "txt = urllib2.urlopen(main_page + adder).read()"
   ]
  },
  {
   "cell_type": "code",
   "execution_count": 68,
   "metadata": {
    "collapsed": true
   },
   "outputs": [],
   "source": [
    "data = BeautifulSoup(txt, 'html.parser')"
   ]
  },
  {
   "cell_type": "code",
   "execution_count": 69,
   "metadata": {
    "collapsed": false
   },
   "outputs": [],
   "source": [
    "hrefs = data.find_all(\"div\", class_=\"item\")"
   ]
  },
  {
   "cell_type": "code",
   "execution_count": 70,
   "metadata": {
    "collapsed": false
   },
   "outputs": [],
   "source": [
    "urls = []\n",
    "for h in hrefs:\n",
    "    url_add = h.find(\"a\")[\"href\"]\n",
    "    urls.append(main_page + url_add)"
   ]
  },
  {
   "cell_type": "code",
   "execution_count": 71,
   "metadata": {
    "collapsed": false
   },
   "outputs": [],
   "source": [
    "for i in tqdm(urls):\n",
    "    sz += 1\n",
    "    page_ = Page(i)\n",
    "    dct = page_.get_from_table()\n",
    "    for k in dct.keys():\n",
    "        if k in mainData:\n",
    "            mainData[k].append(dct[k])\n",
    "        else:\n",
    "            mainData[k] = [\"None\"] * (sz - 1)\n",
    "            mainData[k].append(dct[k])\n",
    "    for k in mainData:\n",
    "        if not k in dct:\n",
    "            mainData[k].append(\"None\")\n",
    "            "
   ]
  },
  {
   "cell_type": "code",
   "execution_count": 72,
   "metadata": {
    "collapsed": false
   },
   "outputs": [],
   "source": [
    "print mainData.keys()"
   ]
  },
  {
   "cell_type": "code",
   "execution_count": 73,
   "metadata": {
    "collapsed": false
   },
   "outputs": [],
   "source": [
    "data_to_csv = pd.DataFrame(mainData)"
   ]
  },
  {
   "cell_type": "code",
   "execution_count": 74,
   "metadata": {
    "collapsed": false
   },
   "outputs": [
    {
     "data": {
      "text/plain": [
       "0                 $4,250 [Negotiable]\n",
       "1                              $2,745\n",
       "2                              $6,500\n",
       "3                             $17,995\n",
       "4                 $8,495 [Negotiable]\n",
       "5                              $7,950\n",
       "6                              $3,900\n",
       "7                 $3,600 [Negotiable]\n",
       "8     3,500 € (= $3,954) [Negotiable]\n",
       "9                              $6,250\n",
       "10                $1,645 [Negotiable]\n",
       "11                             $2,400\n",
       "12                             $4,239\n",
       "13                $1,995 [Negotiable]\n",
       "14                             $3,450\n",
       "15                $3,400 [Negotiable]\n",
       "16                $4,100 [Negotiable]\n",
       "17                            $17,500\n",
       "18                            $22,500\n",
       "19                $1,645 [Negotiable]\n",
       "20                             $6,500\n",
       "21                             $2,319\n",
       "22                $2,995 [Negotiable]\n",
       "23                             $3,350\n",
       "24                            $11,450\n",
       "25                             $9,590\n",
       "26                             $7,500\n",
       "27                            $14,525\n",
       "28                $7,780 [Negotiable]\n",
       "29                $3,000 [Negotiable]\n",
       "Name: Price, dtype: object"
      ]
     },
     "execution_count": 74,
     "metadata": {},
     "output_type": "execute_result"
    }
   ],
   "source": [
    "data_to_csv['Price']"
   ]
  },
  {
   "cell_type": "code",
   "execution_count": 75,
   "metadata": {
    "collapsed": false
   },
   "outputs": [],
   "source": [
    "data_to_csv.to_csv(\"./Promo.csv\", sep=\";\")"
   ]
  },
  {
   "cell_type": "code",
   "execution_count": null,
   "metadata": {
    "collapsed": true
   },
   "outputs": [],
   "source": []
  },
  {
   "cell_type": "code",
   "execution_count": null,
   "metadata": {
    "collapsed": true
   },
   "outputs": [],
   "source": []
  }
 ],
 "metadata": {
  "anaconda-cloud": {},
  "kernelspec": {
   "display_name": "Python [conda root]",
   "language": "python",
   "name": "conda-root-py"
  },
  "language_info": {
   "codemirror_mode": {
    "name": "ipython",
    "version": 2
   },
   "file_extension": ".py",
   "mimetype": "text/x-python",
   "name": "python",
   "nbconvert_exporter": "python",
   "pygments_lexer": "ipython2",
   "version": "2.7.12"
  }
 },
 "nbformat": 4,
 "nbformat_minor": 1
}
