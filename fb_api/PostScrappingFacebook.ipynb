{
 "cells": [
  {
   "cell_type": "markdown",
   "metadata": {},
   "source": [
    "# How to Scrape Data From Facebook Page Posts for Statistical Analysis\n",
    "\n",
    "Following [Max Woolf (@minimaxir)](http://minimaxir.com/)"
   ]
  },
  {
   "cell_type": "code",
   "execution_count": 1,
   "metadata": {
    "collapsed": true
   },
   "outputs": [],
   "source": [
    "import urllib2\n",
    "import json\n",
    "import datetime\n",
    "import csv\n",
    "import time"
   ]
  },
  {
   "cell_type": "code",
   "execution_count": 2,
   "metadata": {
    "collapsed": true
   },
   "outputs": [],
   "source": [
    "app_id = \"159957317871681\"\n",
    "app_secret = \"2291402594fa74f6cf7daeff6c055f8e\" # DO NOT SHARE WITH ANYONE!\n",
    "# a little bit wierd and funny\n",
    "access_token = app_id + \"|\" + app_secret"
   ]
  },
  {
   "cell_type": "markdown",
   "metadata": {},
   "source": [
    "Let's scrap page https://www.facebook.com/nytimes"
   ]
  },
  {
   "cell_type": "code",
   "execution_count": 4,
   "metadata": {
    "collapsed": false
   },
   "outputs": [
    {
     "name": "stdout",
     "output_type": "stream",
     "text": [
      "{\n",
      "    \"id\": \"5281959998\", \n",
      "    \"name\": \"The New York Times\"\n",
      "}\n"
     ]
    }
   ],
   "source": [
    "page_id = 'nytimes'\n",
    "\n",
    "def testFacebookPageData(page_id, access_token):\n",
    "    \n",
    "    # construct the URL string\n",
    "    base = \"https://graph.facebook.com/v2.4\"\n",
    "    node = \"/\" + page_id\n",
    "    parameters = \"/?access_token=%s\" % access_token\n",
    "    url = base + node + parameters\n",
    "    \n",
    "    # retrieve data\n",
    "    req = urllib2.Request(url)\n",
    "    response = urllib2.urlopen(req)\n",
    "    data = json.loads(response.read())\n",
    "    \n",
    "    print json.dumps(data, indent=4, sort_keys=True)\n",
    "    \n",
    "\n",
    "testFacebookPageData(page_id, access_token)"
   ]
  },
  {
   "cell_type": "markdown",
   "metadata": {},
   "source": [
    "a getter that wait until succeed (no [HTTP Error 500 (Internal Error)](http://www.checkupdown.com/status/E500.html) error during connection)"
   ]
  },
  {
   "cell_type": "code",
   "execution_count": 5,
   "metadata": {
    "collapsed": true
   },
   "outputs": [],
   "source": [
    "def request_until_succeed(url):\n",
    "    req = urllib2.Request(url)\n",
    "    success = False\n",
    "    while success is False:\n",
    "        try: \n",
    "            response = urllib2.urlopen(req)\n",
    "            if response.getcode() == 200:\n",
    "                success = True\n",
    "        except Exception, e:\n",
    "            print e\n",
    "            time.sleep(5)\n",
    "            \n",
    "            print \"Error for URL %s: %s\" % (url, datetime.datetime.now())\n",
    "\n",
    "    return response.read()"
   ]
  },
  {
   "cell_type": "code",
   "execution_count": 6,
   "metadata": {
    "collapsed": false
   },
   "outputs": [
    {
     "name": "stdout",
     "output_type": "stream",
     "text": [
      "{\n",
      "    \"data\": [\n",
      "        {\n",
      "            \"created_time\": \"2017-05-11T17:21:06+0000\", \n",
      "            \"id\": \"5281959998_10151167417744999\", \n",
      "            \"message\": \"President Donald J. Trump called James Comey \\\"a showboat\\\" and \\\"a grandstander.\\\"\"\n",
      "        }, \n",
      "        {\n",
      "            \"created_time\": \"2017-05-11T17:02:13+0000\", \n",
      "            \"id\": \"5281959998_10151167345799999\", \n",
      "            \"message\": \"Help us solve The New York Times Crossword using our web game. \\u201cWordplay\\u201d columnist Deb Amlen is here with hints. Put your guesses in the comments, and share this with your friends.\", \n",
      "            \"story\": \"The New York Times was live.\"\n",
      "        }, \n",
      "        {\n",
      "            \"created_time\": \"2017-05-11T16:55:00+0000\", \n",
      "            \"id\": \"5281959998_10151167242304999\", \n",
      "            \"message\": \"He noticed the map in Walt Disney's office and asked if he could take it. His boss said sure. Now it might fetch between $750,000 and $1 million at auction.\"\n",
      "        }, \n",
      "        {\n",
      "            \"created_time\": \"2017-05-11T16:25:00+0000\", \n",
      "            \"id\": \"5281959998_10151167288119999\", \n",
      "            \"message\": \"The post in question: \\u201cFUN FACT: President Nixon never fired the Director of the FBI #FBIDirector #notNixonian\\\"\"\n",
      "        }, \n",
      "        {\n",
      "            \"created_time\": \"2017-05-11T15:55:00+0000\", \n",
      "            \"id\": \"5281959998_10151167268354999\", \n",
      "            \"message\": \"With the complete disregard for politics that is a characteristic of youth, 11-week-old Alia Joy Gates made her position clear: She would not wait to be breast-fed.\"\n",
      "        }, \n",
      "        {\n",
      "            \"created_time\": \"2017-05-11T15:42:09+0000\", \n",
      "            \"id\": \"5281959998_10151167291574999\", \n",
      "            \"message\": \"James Comey \\\"enjoyed broad support within the F.B.I. and still does to this day,\\\" the acting FBI director said, contradicting The White House.\"\n",
      "        }, \n",
      "        {\n",
      "            \"created_time\": \"2017-05-11T15:25:00+0000\", \n",
      "            \"id\": \"5281959998_10151167161749999\", \n",
      "            \"message\": \"He played Pok\\u00e9mon Go in a church and posted a video of it online. The judge sentenced him to 3.5 years.\"\n",
      "        }, \n",
      "        {\n",
      "            \"created_time\": \"2017-05-11T14:55:00+0000\", \n",
      "            \"id\": \"5281959998_10151167117139999\", \n",
      "            \"message\": \"Democrats are already setting the stage for a confirmation showdown.\"\n",
      "        }, \n",
      "        {\n",
      "            \"created_time\": \"2017-05-11T14:24:03+0000\", \n",
      "            \"id\": \"5281959998_10151167068219999\", \n",
      "            \"message\": \"From The New York Times Opinion Section: \\\"Rosenstein\\u2019s abandonment of the basic principles of ethical government should remind everyone of the risks of joining Team Trump. Once you do, avoiding Trumpian behavior becomes very hard. Adopting it starts to seem normal, even honorable.\\\"\"\n",
      "        }, \n",
      "        {\n",
      "            \"created_time\": \"2017-05-11T13:55:00+0000\", \n",
      "            \"id\": \"5281959998_10151167166824999\", \n",
      "            \"message\": \"Crews, wearing masks to cover their faces, worked under a heavy police presence starting at 3 a.m. to dismantle the statue.\"\n",
      "        }, \n",
      "        {\n",
      "            \"created_time\": \"2017-05-11T13:45:06+0000\", \n",
      "            \"id\": \"5281959998_1859041717646675\", \n",
      "            \"message\": \"Walk amid the ancient monuments of Bagan. Myanmar plans to submit a World Heritage bid to Unesco for them, which have been clumsily restored once and damaged by an earthquake. Watch more #Daily360: http://bit.ly/2n9zqHq\"\n",
      "        }, \n",
      "        {\n",
      "            \"created_time\": \"2017-05-11T13:40:00+0000\", \n",
      "            \"id\": \"5281959998_10151167175309999\", \n",
      "            \"message\": \"What outraged Democrats about James Comey last year now pales in comparison to their fury at his firing.\"\n",
      "        }, \n",
      "        {\n",
      "            \"created_time\": \"2017-05-11T13:23:37+0000\", \n",
      "            \"id\": \"5281959998_10151167184884999\", \n",
      "            \"message\": \"The Editorial Board writes in The New York Times Opinion Section: \\\"Dear Deputy Attorney General Rod Rosenstein:\\nThe power to launch a truly credible investigation has fallen to you, and you alone.\\\"\"\n",
      "        }, \n",
      "        {\n",
      "            \"created_time\": \"2017-05-11T13:10:00+0000\", \n",
      "            \"id\": \"5281959998_1859026427648204\", \n",
      "            \"message\": \"\\\"This one actually is a big deal.\\\" Times reporters decode the Trump-Comey saga. Read more: http://nyti.ms/2r5ul31\"\n",
      "        }, \n",
      "        {\n",
      "            \"created_time\": \"2017-05-11T12:55:00+0000\", \n",
      "            \"id\": \"5281959998_10151167081664999\", \n",
      "            \"message\": \"\\\"I can be in this moment, and feel this other person kissing me, and me kissing them, and I feel I can do so in a way that is not violating my marriage and my commitment to my wife.\\\"\"\n",
      "        }, \n",
      "        {\n",
      "            \"created_time\": \"2017-05-11T12:25:00+0000\", \n",
      "            \"id\": \"5281959998_10151167126514999\", \n",
      "            \"message\": \"Under the bill, adoption agencies could refuse to place children with same-sex couples, atheists and others.\"\n",
      "        }, \n",
      "        {\n",
      "            \"created_time\": \"2017-05-11T11:57:05+0000\", \n",
      "            \"id\": \"5281959998_10151167087084999\", \n",
      "            \"message\": \"From The New York Times Opinion Section: \\\"This is not about partisanship, but patriotism. We must protect this country from moral corrosion, at best, and actual destruction, at worst.\\\"\"\n",
      "        }, \n",
      "        {\n",
      "            \"created_time\": \"2017-05-11T11:45:00+0000\", \n",
      "            \"id\": \"5281959998_10151167121479999\", \n",
      "            \"message\": \"The news of James Comey\\u2019s firing was all over the late-night shows. Here's what the hosts had to say.\"\n",
      "        }, \n",
      "        {\n",
      "            \"created_time\": \"2017-05-11T11:25:00+0000\", \n",
      "            \"id\": \"5281959998_10151167103719999\", \n",
      "            \"message\": \"\\\"I think it's something that needed to be done,\\\" one Donald J. Trump supporter said.\"\n",
      "        }, \n",
      "        {\n",
      "            \"created_time\": \"2017-05-11T10:55:00+0000\", \n",
      "            \"id\": \"5281959998_10151167092074999\", \n",
      "            \"message\": \"\\\"If the mood was dark, it is now pitch black.\\\"\"\n",
      "        }, \n",
      "        {\n",
      "            \"created_time\": \"2017-05-11T10:25:00+0000\", \n",
      "            \"id\": \"5281959998_10151167042834999\", \n",
      "            \"message\": \"\\\"If you're technically better, you can compensate for being perhaps physically weaker,\\\" the team's top scorer said.\"\n",
      "        }, \n",
      "        {\n",
      "            \"created_time\": \"2017-05-11T10:10:00+0000\", \n",
      "            \"id\": \"5281959998_10151167077754999\", \n",
      "            \"message\": \"The acting director of the FBI will testify before the Senate Intelligence Committee.\"\n",
      "        }, \n",
      "        {\n",
      "            \"created_time\": \"2017-05-11T09:55:00+0000\", \n",
      "            \"id\": \"5281959998_10151167034569999\", \n",
      "            \"message\": \"Leaders across Asia are looking to Washington for guidance on a variety of pressing diplomatic issues.\"\n",
      "        }, \n",
      "        {\n",
      "            \"created_time\": \"2017-05-11T09:25:00+0000\", \n",
      "            \"id\": \"5281959998_10151167073544999\", \n",
      "            \"message\": \"\\u201cEveryone is preparing for the worst,\\u201d says the CEO of a hedge fund. \\\"You will see the emergence of Frankfurt, Paris, Dublin, Luxembourg, Madrid.\\\"\"\n",
      "        }, \n",
      "        {\n",
      "            \"created_time\": \"2017-05-11T08:55:00+0000\", \n",
      "            \"id\": \"5281959998_10151167038734999\", \n",
      "            \"message\": \"From The New York Times Opinion Section: \\\"Germany should finally do away with its 'neutrality laws' and allow judges and teachers to wear head scarves.\\\"\"\n",
      "        }\n",
      "    ], \n",
      "    \"paging\": {\n",
      "        \"cursors\": {\n",
      "            \"after\": \"Q2c4U1pXNTBYM0YxWlhKNVgzTjBiM0o1WDJsa0R4NDFNamd4T1RVNU9UazRPakl6TmpVMk16ZAzVNakl4TWpJMU5UUXdOemNQREdGd2FWOXpkRzl5ZAVY5cFpBOGNOVEk0TVRrMU9UazVPRjh4TURFMU1URTJOekF6T0Rjek5EazVPUThFZAEdsdFpRWlpGQ2JrQVE9PQZDZD\", \n",
      "            \"before\": \"Q2c4U1pXNTBYM0YxWlhKNVgzTjBiM0o1WDJsa0R4MDFNamd4T1RVNU9UazRPalF6T1RFNU5qQTROams1TkRZAMU9UTTFNQThNWVhCcFgzTjBiM0o1WDJsa0R4dzFNamd4T1RVNU9UazRYekV3TVRVeE1UWTNOREUzTnpRME9UazVEd1IwYVcxbEJsa1VuWUlC\"\n",
      "        }, \n",
      "        \"next\": \"https://graph.facebook.com/v2.9/5281959998/feed?access_token=159957317871681%7C2291402594fa74f6cf7daeff6c055f8e&limit=25&after=Q2c4U1pXNTBYM0YxWlhKNVgzTjBiM0o1WDJsa0R4NDFNamd4T1RVNU9UazRPakl6TmpVMk16ZAzVNakl4TWpJMU5UUXdOemNQREdGd2FWOXpkRzl5ZAVY5cFpBOGNOVEk0TVRrMU9UazVPRjh4TURFMU1URTJOekF6T0Rjek5EazVPUThFZAEdsdFpRWlpGQ2JrQVE9PQZDZD\"\n",
      "    }\n",
      "}\n"
     ]
    }
   ],
   "source": [
    "def testFacebookPageFeedData(page_id, access_token):\n",
    "    \n",
    "    # construct the URL string\n",
    "    base = \"https://graph.facebook.com/v2.4\"\n",
    "    node = \"/\" + page_id + \"/feed\" # changed\n",
    "    parameters = \"/?access_token=%s\" % access_token\n",
    "    url = base + node + parameters\n",
    "    \n",
    "    # retrieve data\n",
    "    data = json.loads(request_until_succeed(url))\n",
    "    \n",
    "    print json.dumps(data, indent=4, sort_keys=True)\n",
    "    \n",
    "\n",
    "testFacebookPageFeedData(page_id, access_token)"
   ]
  },
  {
   "cell_type": "code",
   "execution_count": 9,
   "metadata": {
    "collapsed": false
   },
   "outputs": [
    {
     "name": "stdout",
     "output_type": "stream",
     "text": [
      "{\n",
      "    \"comments\": {\n",
      "        \"data\": [\n",
      "            {\n",
      "                \"created_time\": \"2017-05-11T17:21:56+0000\", \n",
      "                \"from\": {\n",
      "                    \"id\": \"291559067963031\", \n",
      "                    \"name\": \"Brandon Horan\"\n",
      "                }, \n",
      "                \"id\": \"10151167417744999_10151167421799999\", \n",
      "                \"message\": \"Anyone who defends this guy needs a mental evaluation...and sorry calling people liberals and snowflakes doesn't  excuse this mans actions.\"\n",
      "            }\n",
      "        ], \n",
      "        \"paging\": {\n",
      "            \"cursors\": {\n",
      "                \"after\": \"NzM3\", \n",
      "                \"before\": \"NzM3\"\n",
      "            }, \n",
      "            \"next\": \"https://graph.facebook.com/v2.9/5281959998_10151167417744999/comments?access_token=159957317871681%7C2291402594fa74f6cf7daeff6c055f8e&summary=true&limit=1&after=NzM3\"\n",
      "        }, \n",
      "        \"summary\": {\n",
      "            \"can_comment\": false, \n",
      "            \"order\": \"ranked\", \n",
      "            \"total_count\": 737\n",
      "        }\n",
      "    }, \n",
      "    \"created_time\": \"2017-05-11T17:21:06+0000\", \n",
      "    \"id\": \"5281959998_10151167417744999\", \n",
      "    \"likes\": {\n",
      "        \"data\": [\n",
      "            {\n",
      "                \"id\": \"827617897388748\", \n",
      "                \"name\": \"Rakib Haque\"\n",
      "            }\n",
      "        ], \n",
      "        \"paging\": {\n",
      "            \"cursors\": {\n",
      "                \"after\": \"ODI3NjE3ODk3Mzg4NzQ4\", \n",
      "                \"before\": \"ODI3NjE3ODk3Mzg4NzQ4\"\n",
      "            }, \n",
      "            \"next\": \"https://graph.facebook.com/v2.9/5281959998_10151167417744999/likes?access_token=159957317871681%7C2291402594fa74f6cf7daeff6c055f8e&summary=true&limit=1&after=ODI3NjE3ODk3Mzg4NzQ4\"\n",
      "        }, \n",
      "        \"summary\": {\n",
      "            \"can_like\": false, \n",
      "            \"has_liked\": false, \n",
      "            \"total_count\": 250\n",
      "        }\n",
      "    }, \n",
      "    \"link\": \"https://www.nytimes.com/2017/05/11/us/politics/trump-comey-showboat-fbi.html?smid=fb-nytimes&smtyp=cur\", \n",
      "    \"message\": \"President Donald J. Trump called James Comey \\\"a showboat\\\" and \\\"a grandstander.\\\"\", \n",
      "    \"name\": \"Trump Calls Comey a \\u201cShowboat,\\u201d Says he Decided on His Own to Fire Him\", \n",
      "    \"shares\": {\n",
      "        \"count\": 288\n",
      "    }, \n",
      "    \"type\": \"link\"\n",
      "}\n"
     ]
    }
   ],
   "source": [
    "def getFacebookPageFeedData(page_id, access_token, num_statuses):\n",
    "    \n",
    "    # construct the URL string\n",
    "    base = \"https://graph.facebook.com\"\n",
    "    node = \"/\" + page_id + \"/feed\" \n",
    "    parameters = \"/?fields=message,link,created_time,type,name,id,likes.limit(1).summary(true),comments.limit(1).summary(true),shares&limit=%s&access_token=%s\" % (num_statuses, access_token) # changed\n",
    "    url = base + node + parameters\n",
    "    \n",
    "    # retrieve data\n",
    "    data = json.loads(request_until_succeed(url))\n",
    "    \n",
    "    return data\n",
    "    \n",
    "\n",
    "test_status = getFacebookPageFeedData(page_id, access_token, 1)[\"data\"][0]\n",
    "print json.dumps(test_status, indent=4, sort_keys=True)"
   ]
  },
  {
   "cell_type": "markdown",
   "metadata": {},
   "source": [
    "creating vectors like (status_id, status_message, link_name, status_type, status_link,\n",
    "           status_published, num_likes, num_comments, num_shares)"
   ]
  },
  {
   "cell_type": "code",
   "execution_count": 10,
   "metadata": {
    "collapsed": false
   },
   "outputs": [
    {
     "name": "stdout",
     "output_type": "stream",
     "text": [
      "(u'5281959998_10151167417744999', 'President Donald J. Trump called James Comey \"a showboat\" and \"a grandstander.\"', 'Trump Calls Comey a \\xe2\\x80\\x9cShowboat,\\xe2\\x80\\x9d Says he Decided on His Own to Fire Him', u'link', u'https://www.nytimes.com/2017/05/11/us/politics/trump-comey-showboat-fbi.html?smid=fb-nytimes&smtyp=cur', '2017-05-11 12:21:06', 250, 737, 288)\n"
     ]
    }
   ],
   "source": [
    "def processFacebookPageFeedStatus(status):\n",
    "    \n",
    "    # The status is now a Python dictionary, so for top-level items,\n",
    "    # we can simply call the key.\n",
    "    \n",
    "    # Additionally, some items may not always exist,\n",
    "    # so must check for existence first\n",
    "    \n",
    "    status_id = status['id']\n",
    "    status_message = '' if 'message' not in status.keys() else status['message'].encode('utf-8')\n",
    "    link_name = '' if 'name' not in status.keys() else status['name'].encode('utf-8')\n",
    "    status_type = status['type']\n",
    "    status_link = '' if 'link' not in status.keys() else status['link']\n",
    "    \n",
    "    \n",
    "    # Time needs special care since a) it's in UTC and\n",
    "    # b) it's not easy to use in statistical programs.\n",
    "    \n",
    "    status_published = datetime.datetime.strptime(status['created_time'],'%Y-%m-%dT%H:%M:%S+0000')\n",
    "    status_published = status_published + datetime.timedelta(hours=-5) # EST\n",
    "    status_published = status_published.strftime('%Y-%m-%d %H:%M:%S') # best time format for spreadsheet programs\n",
    "    \n",
    "    # Nested items require chaining dictionary keys.\n",
    "    \n",
    "    num_likes = 0 if 'likes' not in status.keys() else status['likes']['summary']['total_count']\n",
    "    num_comments = 0 if 'comments' not in status.keys() else status['comments']['summary']['total_count']\n",
    "    num_shares = 0 if 'shares' not in status.keys() else status['shares']['count']\n",
    "    \n",
    "    # return a tuple of all processed data\n",
    "    return (status_id, status_message, link_name, status_type, status_link,\n",
    "           status_published, num_likes, num_comments, num_shares)\n",
    "\n",
    "processed_test_status = processFacebookPageFeedStatus(test_status)\n",
    "print processed_test_status"
   ]
  },
  {
   "cell_type": "markdown",
   "metadata": {},
   "source": [
    "Now we just need to:\n",
    "\n",
    "1. Query each page of Facebook Page Statuses (100 statuses per page) using `getFacebookPageFeedData`.\n",
    "2. Process all statuses on that page using `processFacebookPageFeedStatus` and writing the output to a CSV file.\n",
    "3. Navigate to the next page, and repeat until no more statuses\n",
    "\n"
   ]
  },
  {
   "cell_type": "code",
   "execution_count": 11,
   "metadata": {
    "collapsed": false
   },
   "outputs": [
    {
     "name": "stdout",
     "output_type": "stream",
     "text": [
      "Scraping nytimes Facebook Page: 2017-05-11 20:46:48.691307\n",
      "\n"
     ]
    },
    {
     "ename": "KeyboardInterrupt",
     "evalue": "",
     "output_type": "error",
     "traceback": [
      "\u001b[0;31m---------------------------------------------------------------------------\u001b[0m",
      "\u001b[0;31mKeyboardInterrupt\u001b[0m                         Traceback (most recent call last)",
      "\u001b[0;32m<ipython-input-11-8f8448bb5ec1>\u001b[0m in \u001b[0;36m<module>\u001b[0;34m()\u001b[0m\n\u001b[1;32m     32\u001b[0m \u001b[0;34m\u001b[0m\u001b[0m\n\u001b[1;32m     33\u001b[0m \u001b[0;34m\u001b[0m\u001b[0m\n\u001b[0;32m---> 34\u001b[0;31m \u001b[0mscrapeFacebookPageFeedStatus\u001b[0m\u001b[0;34m(\u001b[0m\u001b[0mpage_id\u001b[0m\u001b[0;34m,\u001b[0m \u001b[0maccess_token\u001b[0m\u001b[0;34m)\u001b[0m\u001b[0;34m\u001b[0m\u001b[0m\n\u001b[0m",
      "\u001b[0;32m<ipython-input-11-8f8448bb5ec1>\u001b[0m in \u001b[0;36mscrapeFacebookPageFeedStatus\u001b[0;34m(page_id, access_token)\u001b[0m\n\u001b[1;32m     24\u001b[0m             \u001b[0;31m# if there is no next page, we're done.\u001b[0m\u001b[0;34m\u001b[0m\u001b[0;34m\u001b[0m\u001b[0m\n\u001b[1;32m     25\u001b[0m             \u001b[0;32mif\u001b[0m \u001b[0;34m'paging'\u001b[0m \u001b[0;32min\u001b[0m \u001b[0mstatuses\u001b[0m\u001b[0;34m.\u001b[0m\u001b[0mkeys\u001b[0m\u001b[0;34m(\u001b[0m\u001b[0;34m)\u001b[0m\u001b[0;34m:\u001b[0m\u001b[0;34m\u001b[0m\u001b[0m\n\u001b[0;32m---> 26\u001b[0;31m                 \u001b[0mstatuses\u001b[0m \u001b[0;34m=\u001b[0m \u001b[0mjson\u001b[0m\u001b[0;34m.\u001b[0m\u001b[0mloads\u001b[0m\u001b[0;34m(\u001b[0m\u001b[0mrequest_until_succeed\u001b[0m\u001b[0;34m(\u001b[0m\u001b[0mstatuses\u001b[0m\u001b[0;34m[\u001b[0m\u001b[0;34m'paging'\u001b[0m\u001b[0;34m]\u001b[0m\u001b[0;34m[\u001b[0m\u001b[0;34m'next'\u001b[0m\u001b[0;34m]\u001b[0m\u001b[0;34m)\u001b[0m\u001b[0;34m)\u001b[0m\u001b[0;34m\u001b[0m\u001b[0m\n\u001b[0m\u001b[1;32m     27\u001b[0m             \u001b[0;32melse\u001b[0m\u001b[0;34m:\u001b[0m\u001b[0;34m\u001b[0m\u001b[0m\n\u001b[1;32m     28\u001b[0m                 \u001b[0mhas_next_page\u001b[0m \u001b[0;34m=\u001b[0m \u001b[0mFalse\u001b[0m\u001b[0;34m\u001b[0m\u001b[0m\n",
      "\u001b[0;32m<ipython-input-5-d7a14ac83e3a>\u001b[0m in \u001b[0;36mrequest_until_succeed\u001b[0;34m(url)\u001b[0m\n\u001b[1;32m      4\u001b[0m     \u001b[0;32mwhile\u001b[0m \u001b[0msuccess\u001b[0m \u001b[0;32mis\u001b[0m \u001b[0mFalse\u001b[0m\u001b[0;34m:\u001b[0m\u001b[0;34m\u001b[0m\u001b[0m\n\u001b[1;32m      5\u001b[0m         \u001b[0;32mtry\u001b[0m\u001b[0;34m:\u001b[0m\u001b[0;34m\u001b[0m\u001b[0m\n\u001b[0;32m----> 6\u001b[0;31m             \u001b[0mresponse\u001b[0m \u001b[0;34m=\u001b[0m \u001b[0murllib2\u001b[0m\u001b[0;34m.\u001b[0m\u001b[0murlopen\u001b[0m\u001b[0;34m(\u001b[0m\u001b[0mreq\u001b[0m\u001b[0;34m)\u001b[0m\u001b[0;34m\u001b[0m\u001b[0m\n\u001b[0m\u001b[1;32m      7\u001b[0m             \u001b[0;32mif\u001b[0m \u001b[0mresponse\u001b[0m\u001b[0;34m.\u001b[0m\u001b[0mgetcode\u001b[0m\u001b[0;34m(\u001b[0m\u001b[0;34m)\u001b[0m \u001b[0;34m==\u001b[0m \u001b[0;36m200\u001b[0m\u001b[0;34m:\u001b[0m\u001b[0;34m\u001b[0m\u001b[0m\n\u001b[1;32m      8\u001b[0m                 \u001b[0msuccess\u001b[0m \u001b[0;34m=\u001b[0m \u001b[0mTrue\u001b[0m\u001b[0;34m\u001b[0m\u001b[0m\n",
      "\u001b[0;32m/Users/istar/anaconda/lib/python2.7/urllib2.pyc\u001b[0m in \u001b[0;36murlopen\u001b[0;34m(url, data, timeout, cafile, capath, cadefault, context)\u001b[0m\n\u001b[1;32m    152\u001b[0m     \u001b[0;32melse\u001b[0m\u001b[0;34m:\u001b[0m\u001b[0;34m\u001b[0m\u001b[0m\n\u001b[1;32m    153\u001b[0m         \u001b[0mopener\u001b[0m \u001b[0;34m=\u001b[0m \u001b[0m_opener\u001b[0m\u001b[0;34m\u001b[0m\u001b[0m\n\u001b[0;32m--> 154\u001b[0;31m     \u001b[0;32mreturn\u001b[0m \u001b[0mopener\u001b[0m\u001b[0;34m.\u001b[0m\u001b[0mopen\u001b[0m\u001b[0;34m(\u001b[0m\u001b[0murl\u001b[0m\u001b[0;34m,\u001b[0m \u001b[0mdata\u001b[0m\u001b[0;34m,\u001b[0m \u001b[0mtimeout\u001b[0m\u001b[0;34m)\u001b[0m\u001b[0;34m\u001b[0m\u001b[0m\n\u001b[0m\u001b[1;32m    155\u001b[0m \u001b[0;34m\u001b[0m\u001b[0m\n\u001b[1;32m    156\u001b[0m \u001b[0;32mdef\u001b[0m \u001b[0minstall_opener\u001b[0m\u001b[0;34m(\u001b[0m\u001b[0mopener\u001b[0m\u001b[0;34m)\u001b[0m\u001b[0;34m:\u001b[0m\u001b[0;34m\u001b[0m\u001b[0m\n",
      "\u001b[0;32m/Users/istar/anaconda/lib/python2.7/urllib2.pyc\u001b[0m in \u001b[0;36mopen\u001b[0;34m(self, fullurl, data, timeout)\u001b[0m\n\u001b[1;32m    427\u001b[0m             \u001b[0mreq\u001b[0m \u001b[0;34m=\u001b[0m \u001b[0mmeth\u001b[0m\u001b[0;34m(\u001b[0m\u001b[0mreq\u001b[0m\u001b[0;34m)\u001b[0m\u001b[0;34m\u001b[0m\u001b[0m\n\u001b[1;32m    428\u001b[0m \u001b[0;34m\u001b[0m\u001b[0m\n\u001b[0;32m--> 429\u001b[0;31m         \u001b[0mresponse\u001b[0m \u001b[0;34m=\u001b[0m \u001b[0mself\u001b[0m\u001b[0;34m.\u001b[0m\u001b[0m_open\u001b[0m\u001b[0;34m(\u001b[0m\u001b[0mreq\u001b[0m\u001b[0;34m,\u001b[0m \u001b[0mdata\u001b[0m\u001b[0;34m)\u001b[0m\u001b[0;34m\u001b[0m\u001b[0m\n\u001b[0m\u001b[1;32m    430\u001b[0m \u001b[0;34m\u001b[0m\u001b[0m\n\u001b[1;32m    431\u001b[0m         \u001b[0;31m# post-process response\u001b[0m\u001b[0;34m\u001b[0m\u001b[0;34m\u001b[0m\u001b[0m\n",
      "\u001b[0;32m/Users/istar/anaconda/lib/python2.7/urllib2.pyc\u001b[0m in \u001b[0;36m_open\u001b[0;34m(self, req, data)\u001b[0m\n\u001b[1;32m    445\u001b[0m         \u001b[0mprotocol\u001b[0m \u001b[0;34m=\u001b[0m \u001b[0mreq\u001b[0m\u001b[0;34m.\u001b[0m\u001b[0mget_type\u001b[0m\u001b[0;34m(\u001b[0m\u001b[0;34m)\u001b[0m\u001b[0;34m\u001b[0m\u001b[0m\n\u001b[1;32m    446\u001b[0m         result = self._call_chain(self.handle_open, protocol, protocol +\n\u001b[0;32m--> 447\u001b[0;31m                                   '_open', req)\n\u001b[0m\u001b[1;32m    448\u001b[0m         \u001b[0;32mif\u001b[0m \u001b[0mresult\u001b[0m\u001b[0;34m:\u001b[0m\u001b[0;34m\u001b[0m\u001b[0m\n\u001b[1;32m    449\u001b[0m             \u001b[0;32mreturn\u001b[0m \u001b[0mresult\u001b[0m\u001b[0;34m\u001b[0m\u001b[0m\n",
      "\u001b[0;32m/Users/istar/anaconda/lib/python2.7/urllib2.pyc\u001b[0m in \u001b[0;36m_call_chain\u001b[0;34m(self, chain, kind, meth_name, *args)\u001b[0m\n\u001b[1;32m    405\u001b[0m             \u001b[0mfunc\u001b[0m \u001b[0;34m=\u001b[0m \u001b[0mgetattr\u001b[0m\u001b[0;34m(\u001b[0m\u001b[0mhandler\u001b[0m\u001b[0;34m,\u001b[0m \u001b[0mmeth_name\u001b[0m\u001b[0;34m)\u001b[0m\u001b[0;34m\u001b[0m\u001b[0m\n\u001b[1;32m    406\u001b[0m \u001b[0;34m\u001b[0m\u001b[0m\n\u001b[0;32m--> 407\u001b[0;31m             \u001b[0mresult\u001b[0m \u001b[0;34m=\u001b[0m \u001b[0mfunc\u001b[0m\u001b[0;34m(\u001b[0m\u001b[0;34m*\u001b[0m\u001b[0margs\u001b[0m\u001b[0;34m)\u001b[0m\u001b[0;34m\u001b[0m\u001b[0m\n\u001b[0m\u001b[1;32m    408\u001b[0m             \u001b[0;32mif\u001b[0m \u001b[0mresult\u001b[0m \u001b[0;32mis\u001b[0m \u001b[0;32mnot\u001b[0m \u001b[0mNone\u001b[0m\u001b[0;34m:\u001b[0m\u001b[0;34m\u001b[0m\u001b[0m\n\u001b[1;32m    409\u001b[0m                 \u001b[0;32mreturn\u001b[0m \u001b[0mresult\u001b[0m\u001b[0;34m\u001b[0m\u001b[0m\n",
      "\u001b[0;32m/Users/istar/anaconda/lib/python2.7/urllib2.pyc\u001b[0m in \u001b[0;36mhttps_open\u001b[0;34m(self, req)\u001b[0m\n\u001b[1;32m   1239\u001b[0m         \u001b[0;32mdef\u001b[0m \u001b[0mhttps_open\u001b[0m\u001b[0;34m(\u001b[0m\u001b[0mself\u001b[0m\u001b[0;34m,\u001b[0m \u001b[0mreq\u001b[0m\u001b[0;34m)\u001b[0m\u001b[0;34m:\u001b[0m\u001b[0;34m\u001b[0m\u001b[0m\n\u001b[1;32m   1240\u001b[0m             return self.do_open(httplib.HTTPSConnection, req,\n\u001b[0;32m-> 1241\u001b[0;31m                 context=self._context)\n\u001b[0m\u001b[1;32m   1242\u001b[0m \u001b[0;34m\u001b[0m\u001b[0m\n\u001b[1;32m   1243\u001b[0m         \u001b[0mhttps_request\u001b[0m \u001b[0;34m=\u001b[0m \u001b[0mAbstractHTTPHandler\u001b[0m\u001b[0;34m.\u001b[0m\u001b[0mdo_request_\u001b[0m\u001b[0;34m\u001b[0m\u001b[0m\n",
      "\u001b[0;32m/Users/istar/anaconda/lib/python2.7/urllib2.pyc\u001b[0m in \u001b[0;36mdo_open\u001b[0;34m(self, http_class, req, **http_conn_args)\u001b[0m\n\u001b[1;32m   1199\u001b[0m         \u001b[0;32melse\u001b[0m\u001b[0;34m:\u001b[0m\u001b[0;34m\u001b[0m\u001b[0m\n\u001b[1;32m   1200\u001b[0m             \u001b[0;32mtry\u001b[0m\u001b[0;34m:\u001b[0m\u001b[0;34m\u001b[0m\u001b[0m\n\u001b[0;32m-> 1201\u001b[0;31m                 \u001b[0mr\u001b[0m \u001b[0;34m=\u001b[0m \u001b[0mh\u001b[0m\u001b[0;34m.\u001b[0m\u001b[0mgetresponse\u001b[0m\u001b[0;34m(\u001b[0m\u001b[0mbuffering\u001b[0m\u001b[0;34m=\u001b[0m\u001b[0mTrue\u001b[0m\u001b[0;34m)\u001b[0m\u001b[0;34m\u001b[0m\u001b[0m\n\u001b[0m\u001b[1;32m   1202\u001b[0m             \u001b[0;32mexcept\u001b[0m \u001b[0mTypeError\u001b[0m\u001b[0;34m:\u001b[0m \u001b[0;31m# buffering kw not supported\u001b[0m\u001b[0;34m\u001b[0m\u001b[0m\n\u001b[1;32m   1203\u001b[0m                 \u001b[0mr\u001b[0m \u001b[0;34m=\u001b[0m \u001b[0mh\u001b[0m\u001b[0;34m.\u001b[0m\u001b[0mgetresponse\u001b[0m\u001b[0;34m(\u001b[0m\u001b[0;34m)\u001b[0m\u001b[0;34m\u001b[0m\u001b[0m\n",
      "\u001b[0;32m/Users/istar/anaconda/lib/python2.7/httplib.pyc\u001b[0m in \u001b[0;36mgetresponse\u001b[0;34m(self, buffering)\u001b[0m\n\u001b[1;32m   1134\u001b[0m \u001b[0;34m\u001b[0m\u001b[0m\n\u001b[1;32m   1135\u001b[0m         \u001b[0;32mtry\u001b[0m\u001b[0;34m:\u001b[0m\u001b[0;34m\u001b[0m\u001b[0m\n\u001b[0;32m-> 1136\u001b[0;31m             \u001b[0mresponse\u001b[0m\u001b[0;34m.\u001b[0m\u001b[0mbegin\u001b[0m\u001b[0;34m(\u001b[0m\u001b[0;34m)\u001b[0m\u001b[0;34m\u001b[0m\u001b[0m\n\u001b[0m\u001b[1;32m   1137\u001b[0m             \u001b[0;32massert\u001b[0m \u001b[0mresponse\u001b[0m\u001b[0;34m.\u001b[0m\u001b[0mwill_close\u001b[0m \u001b[0;34m!=\u001b[0m \u001b[0m_UNKNOWN\u001b[0m\u001b[0;34m\u001b[0m\u001b[0m\n\u001b[1;32m   1138\u001b[0m             \u001b[0mself\u001b[0m\u001b[0;34m.\u001b[0m\u001b[0m__state\u001b[0m \u001b[0;34m=\u001b[0m \u001b[0m_CS_IDLE\u001b[0m\u001b[0;34m\u001b[0m\u001b[0m\n",
      "\u001b[0;32m/Users/istar/anaconda/lib/python2.7/httplib.pyc\u001b[0m in \u001b[0;36mbegin\u001b[0;34m(self)\u001b[0m\n\u001b[1;32m    451\u001b[0m         \u001b[0;31m# read until we get a non-100 response\u001b[0m\u001b[0;34m\u001b[0m\u001b[0;34m\u001b[0m\u001b[0m\n\u001b[1;32m    452\u001b[0m         \u001b[0;32mwhile\u001b[0m \u001b[0mTrue\u001b[0m\u001b[0;34m:\u001b[0m\u001b[0;34m\u001b[0m\u001b[0m\n\u001b[0;32m--> 453\u001b[0;31m             \u001b[0mversion\u001b[0m\u001b[0;34m,\u001b[0m \u001b[0mstatus\u001b[0m\u001b[0;34m,\u001b[0m \u001b[0mreason\u001b[0m \u001b[0;34m=\u001b[0m \u001b[0mself\u001b[0m\u001b[0;34m.\u001b[0m\u001b[0m_read_status\u001b[0m\u001b[0;34m(\u001b[0m\u001b[0;34m)\u001b[0m\u001b[0;34m\u001b[0m\u001b[0m\n\u001b[0m\u001b[1;32m    454\u001b[0m             \u001b[0;32mif\u001b[0m \u001b[0mstatus\u001b[0m \u001b[0;34m!=\u001b[0m \u001b[0mCONTINUE\u001b[0m\u001b[0;34m:\u001b[0m\u001b[0;34m\u001b[0m\u001b[0m\n\u001b[1;32m    455\u001b[0m                 \u001b[0;32mbreak\u001b[0m\u001b[0;34m\u001b[0m\u001b[0m\n",
      "\u001b[0;32m/Users/istar/anaconda/lib/python2.7/httplib.pyc\u001b[0m in \u001b[0;36m_read_status\u001b[0;34m(self)\u001b[0m\n\u001b[1;32m    407\u001b[0m     \u001b[0;32mdef\u001b[0m \u001b[0m_read_status\u001b[0m\u001b[0;34m(\u001b[0m\u001b[0mself\u001b[0m\u001b[0;34m)\u001b[0m\u001b[0;34m:\u001b[0m\u001b[0;34m\u001b[0m\u001b[0m\n\u001b[1;32m    408\u001b[0m         \u001b[0;31m# Initialize with Simple-Response defaults\u001b[0m\u001b[0;34m\u001b[0m\u001b[0;34m\u001b[0m\u001b[0m\n\u001b[0;32m--> 409\u001b[0;31m         \u001b[0mline\u001b[0m \u001b[0;34m=\u001b[0m \u001b[0mself\u001b[0m\u001b[0;34m.\u001b[0m\u001b[0mfp\u001b[0m\u001b[0;34m.\u001b[0m\u001b[0mreadline\u001b[0m\u001b[0;34m(\u001b[0m\u001b[0m_MAXLINE\u001b[0m \u001b[0;34m+\u001b[0m \u001b[0;36m1\u001b[0m\u001b[0;34m)\u001b[0m\u001b[0;34m\u001b[0m\u001b[0m\n\u001b[0m\u001b[1;32m    410\u001b[0m         \u001b[0;32mif\u001b[0m \u001b[0mlen\u001b[0m\u001b[0;34m(\u001b[0m\u001b[0mline\u001b[0m\u001b[0;34m)\u001b[0m \u001b[0;34m>\u001b[0m \u001b[0m_MAXLINE\u001b[0m\u001b[0;34m:\u001b[0m\u001b[0;34m\u001b[0m\u001b[0m\n\u001b[1;32m    411\u001b[0m             \u001b[0;32mraise\u001b[0m \u001b[0mLineTooLong\u001b[0m\u001b[0;34m(\u001b[0m\u001b[0;34m\"header line\"\u001b[0m\u001b[0;34m)\u001b[0m\u001b[0;34m\u001b[0m\u001b[0m\n",
      "\u001b[0;32m/Users/istar/anaconda/lib/python2.7/socket.pyc\u001b[0m in \u001b[0;36mreadline\u001b[0;34m(self, size)\u001b[0m\n\u001b[1;32m    478\u001b[0m             \u001b[0;32mwhile\u001b[0m \u001b[0mTrue\u001b[0m\u001b[0;34m:\u001b[0m\u001b[0;34m\u001b[0m\u001b[0m\n\u001b[1;32m    479\u001b[0m                 \u001b[0;32mtry\u001b[0m\u001b[0;34m:\u001b[0m\u001b[0;34m\u001b[0m\u001b[0m\n\u001b[0;32m--> 480\u001b[0;31m                     \u001b[0mdata\u001b[0m \u001b[0;34m=\u001b[0m \u001b[0mself\u001b[0m\u001b[0;34m.\u001b[0m\u001b[0m_sock\u001b[0m\u001b[0;34m.\u001b[0m\u001b[0mrecv\u001b[0m\u001b[0;34m(\u001b[0m\u001b[0mself\u001b[0m\u001b[0;34m.\u001b[0m\u001b[0m_rbufsize\u001b[0m\u001b[0;34m)\u001b[0m\u001b[0;34m\u001b[0m\u001b[0m\n\u001b[0m\u001b[1;32m    481\u001b[0m                 \u001b[0;32mexcept\u001b[0m \u001b[0merror\u001b[0m\u001b[0;34m,\u001b[0m \u001b[0me\u001b[0m\u001b[0;34m:\u001b[0m\u001b[0;34m\u001b[0m\u001b[0m\n\u001b[1;32m    482\u001b[0m                     \u001b[0;32mif\u001b[0m \u001b[0me\u001b[0m\u001b[0;34m.\u001b[0m\u001b[0margs\u001b[0m\u001b[0;34m[\u001b[0m\u001b[0;36m0\u001b[0m\u001b[0;34m]\u001b[0m \u001b[0;34m==\u001b[0m \u001b[0mEINTR\u001b[0m\u001b[0;34m:\u001b[0m\u001b[0;34m\u001b[0m\u001b[0m\n",
      "\u001b[0;32m/Users/istar/anaconda/lib/python2.7/ssl.pyc\u001b[0m in \u001b[0;36mrecv\u001b[0;34m(self, buflen, flags)\u001b[0m\n\u001b[1;32m    754\u001b[0m                     \u001b[0;34m\"non-zero flags not allowed in calls to recv() on %s\"\u001b[0m \u001b[0;34m%\u001b[0m\u001b[0;34m\u001b[0m\u001b[0m\n\u001b[1;32m    755\u001b[0m                     self.__class__)\n\u001b[0;32m--> 756\u001b[0;31m             \u001b[0;32mreturn\u001b[0m \u001b[0mself\u001b[0m\u001b[0;34m.\u001b[0m\u001b[0mread\u001b[0m\u001b[0;34m(\u001b[0m\u001b[0mbuflen\u001b[0m\u001b[0;34m)\u001b[0m\u001b[0;34m\u001b[0m\u001b[0m\n\u001b[0m\u001b[1;32m    757\u001b[0m         \u001b[0;32melse\u001b[0m\u001b[0;34m:\u001b[0m\u001b[0;34m\u001b[0m\u001b[0m\n\u001b[1;32m    758\u001b[0m             \u001b[0;32mreturn\u001b[0m \u001b[0mself\u001b[0m\u001b[0;34m.\u001b[0m\u001b[0m_sock\u001b[0m\u001b[0;34m.\u001b[0m\u001b[0mrecv\u001b[0m\u001b[0;34m(\u001b[0m\u001b[0mbuflen\u001b[0m\u001b[0;34m,\u001b[0m \u001b[0mflags\u001b[0m\u001b[0;34m)\u001b[0m\u001b[0;34m\u001b[0m\u001b[0m\n",
      "\u001b[0;32m/Users/istar/anaconda/lib/python2.7/ssl.pyc\u001b[0m in \u001b[0;36mread\u001b[0;34m(self, len, buffer)\u001b[0m\n\u001b[1;32m    641\u001b[0m                 \u001b[0mv\u001b[0m \u001b[0;34m=\u001b[0m \u001b[0mself\u001b[0m\u001b[0;34m.\u001b[0m\u001b[0m_sslobj\u001b[0m\u001b[0;34m.\u001b[0m\u001b[0mread\u001b[0m\u001b[0;34m(\u001b[0m\u001b[0mlen\u001b[0m\u001b[0;34m,\u001b[0m \u001b[0mbuffer\u001b[0m\u001b[0;34m)\u001b[0m\u001b[0;34m\u001b[0m\u001b[0m\n\u001b[1;32m    642\u001b[0m             \u001b[0;32melse\u001b[0m\u001b[0;34m:\u001b[0m\u001b[0;34m\u001b[0m\u001b[0m\n\u001b[0;32m--> 643\u001b[0;31m                 \u001b[0mv\u001b[0m \u001b[0;34m=\u001b[0m \u001b[0mself\u001b[0m\u001b[0;34m.\u001b[0m\u001b[0m_sslobj\u001b[0m\u001b[0;34m.\u001b[0m\u001b[0mread\u001b[0m\u001b[0;34m(\u001b[0m\u001b[0mlen\u001b[0m\u001b[0;34m)\u001b[0m\u001b[0;34m\u001b[0m\u001b[0m\n\u001b[0m\u001b[1;32m    644\u001b[0m             \u001b[0;32mreturn\u001b[0m \u001b[0mv\u001b[0m\u001b[0;34m\u001b[0m\u001b[0m\n\u001b[1;32m    645\u001b[0m         \u001b[0;32mexcept\u001b[0m \u001b[0mSSLError\u001b[0m \u001b[0;32mas\u001b[0m \u001b[0mx\u001b[0m\u001b[0;34m:\u001b[0m\u001b[0;34m\u001b[0m\u001b[0m\n",
      "\u001b[0;31mKeyboardInterrupt\u001b[0m: "
     ]
    }
   ],
   "source": [
    "def scrapeFacebookPageFeedStatus(page_id, access_token):\n",
    "    with open('%s_facebook_statuses.csv' % page_id, 'wb') as file:\n",
    "        w = csv.writer(file)\n",
    "        w.writerow([\"status_id\", \"status_message\", \"link_name\", \"status_type\", \"status_link\",\n",
    "           \"status_published\", \"num_likes\", \"num_comments\", \"num_shares\"])\n",
    "        \n",
    "        has_next_page = True\n",
    "        num_processed = 0   # keep a count on how many we've processed\n",
    "        scrape_starttime = datetime.datetime.now()\n",
    "        \n",
    "        print \"Scraping %s Facebook Page: %s\\n\" % (page_id, scrape_starttime)\n",
    "        \n",
    "        statuses = getFacebookPageFeedData(page_id, access_token, 100)\n",
    "        \n",
    "        while has_next_page:\n",
    "            for status in statuses['data']:\n",
    "                w.writerow(processFacebookPageFeedStatus(status))\n",
    "                \n",
    "                # output progress occasionally to make sure code is not stalling\n",
    "                num_processed += 1\n",
    "                if num_processed % 1000 == 0:\n",
    "                    print \"%s Statuses Processed: %s\" % (num_processed, datetime.datetime.now())\n",
    "                    \n",
    "            # if there is no next page, we're done.\n",
    "            if 'paging' in statuses.keys():\n",
    "                statuses = json.loads(request_until_succeed(statuses['paging']['next']))\n",
    "            else:\n",
    "                has_next_page = False\n",
    "                \n",
    "        \n",
    "        print \"\\nDone!\\n%s Statuses Processed in %s\" % (num_processed, datetime.datetime.now() - scrape_starttime)\n",
    "\n",
    "\n",
    "scrapeFacebookPageFeedStatus(page_id, access_token)"
   ]
  },
  {
   "cell_type": "code",
   "execution_count": null,
   "metadata": {
    "collapsed": true
   },
   "outputs": [],
   "source": []
  }
 ],
 "metadata": {
  "anaconda-cloud": {},
  "kernelspec": {
   "display_name": "Python [conda root]",
   "language": "python",
   "name": "conda-root-py"
  },
  "language_info": {
   "codemirror_mode": {
    "name": "ipython",
    "version": 2
   },
   "file_extension": ".py",
   "mimetype": "text/x-python",
   "name": "python",
   "nbconvert_exporter": "python",
   "pygments_lexer": "ipython2",
   "version": "2.7.12"
  }
 },
 "nbformat": 4,
 "nbformat_minor": 1
}
