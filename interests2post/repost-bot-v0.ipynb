{
 "cells": [
  {
   "cell_type": "code",
   "execution_count": 3,
   "metadata": {
    "collapsed": false
   },
   "outputs": [],
   "source": [
    "import os\n",
    "import re\n",
    "import sys\n",
    "module_path = os.path.abspath(os.path.join('..'))\n",
    "if module_path not in sys.path:\n",
    "    sys.path.append(module_path)\n",
    "import numpy as np\n",
    "import pandas as pd\n",
    "import json\n",
    "import pymorphy2\n",
    "import nltk\n",
    "from tqdm import tqdm\n",
    "from vk_api_dir.vk_api.vk_api_me import API_from_my_data"
   ]
  },
  {
   "cell_type": "markdown",
   "metadata": {},
   "source": [
    "## Автоматизация репостов - первые шаги"
   ]
  },
  {
   "cell_type": "markdown",
   "metadata": {},
   "source": [
    "Цель: научиться по аудитории группы искать сообщества, подписываться на них и автоматически репостить самые успешные посты\n",
    "\n",
    "(created by data2you)"
   ]
  },
  {
   "cell_type": "markdown",
   "metadata": {},
   "source": [
    "## Часть 1\n",
    "### Интересы пользователей группы"
   ]
  },
  {
   "cell_type": "markdown",
   "metadata": {},
   "source": [
    "- для каждого пользователя скачиваем массив интересов\n",
    "- для каждого интереса(слова) приводим его к нормальной форме (например pymorphy)\n",
    "- подсчет популярных."
   ]
  },
  {
   "cell_type": "code",
   "execution_count": 4,
   "metadata": {
    "collapsed": false
   },
   "outputs": [
    {
     "name": "stdout",
     "output_type": "stream",
     "text": [
      "password: \n"
     ]
    }
   ],
   "source": [
    "group = 'okean_music'\n",
    "api = API_from_my_data.get_api()"
   ]
  },
  {
   "cell_type": "code",
   "execution_count": 393,
   "metadata": {
    "collapsed": false
   },
   "outputs": [
    {
     "name": "stderr",
     "output_type": "stream",
     "text": [
      "100%|██████████| 718/718 [00:00<00:00, 402931.53it/s]"
     ]
    },
    {
     "name": "stdout",
     "output_type": "stream",
     "text": [
      "музыка 17\n",
      "кино 8\n",
      "любить 5\n",
      "фотография 5\n",
      "театр 5\n",
      "искусство 5\n",
      "конкурс 4\n",
      "спорт 4\n",
      "литература 4\n",
      "книга 3\n",
      "философия 3\n",
      "рукоделие 3\n",
      "психология 3\n",
      "танец 3\n",
      "волейбол 2\n",
      "аниме 2\n",
      "наука 2\n",
      "концерт 2\n",
      "интересный 2\n",
      "автомобиль 2\n",
      "хороший 2\n",
      "music 2\n",
      "рисование 2\n",
      "видеоарт 2\n",
      "баскетбол 2\n",
      "живопись 2\n",
      "слушать 2\n",
      "кошка 2\n",
      "танцевать 2\n",
      "буккроссинг 1\n",
      "дождь 1\n",
      "фольклор 1\n",
      "журналинг 1\n",
      "саморазвитие 1\n",
      "список 1\n",
      "классика 1\n",
      "отсутствовать 1\n",
      "медицина 1\n",
      "прагматизм 1\n",
      "посещать 1\n",
      "действие 1\n",
      "идея 1\n",
      "этика 1\n",
      "production 1\n",
      "общественный 1\n",
      "asumiko 1\n",
      "алхимия 1\n",
      "coffee 1\n",
      "рок 1\n",
      "график 1\n",
      "ведущий 1\n",
      "япония 1\n",
      "чтение 1\n",
      "минимализм 1\n",
      "самопознание 1\n",
      "скрытый 1\n",
      "затягивать 1\n",
      "palahniuk 1\n",
      "природа 1\n",
      "chuck 1\n",
      "asano 1\n",
      "режим 1\n",
      "друг 1\n",
      "nakamura 1\n",
      "poppy 1\n",
      "хотеть 1\n",
      "машинка 1\n",
      "明日美子 1\n",
      "любовь 1\n",
      "нота 1\n",
      "brite 1\n",
      "art 1\n",
      "семья 1\n",
      "японский 1\n",
      "books 1\n",
      "дартс 1\n",
      "английский 1\n",
      "интернет 1\n",
      "ходить 1\n",
      "печатный 1\n",
      "велосипед 1\n",
      "играть 1\n",
      "звук 1\n",
      "объять 1\n",
      "огромный 1\n",
      "скука 1\n",
      "дизайн 1\n",
      "камера 1\n",
      "хобби 1\n",
      "свой 1\n",
      "необъятный 1\n",
      "участвовать 1\n",
      "воплощение 1\n",
      "outfit 1\n",
      "самый 1\n",
      "составлять 1\n",
      "фильм 1\n",
      "спать 1\n",
      "кинофильм 1\n",
      "by 1\n",
      "современный 1\n",
      "фенёчек 1\n",
      "косплей 1\n",
      "песнь 1\n",
      "знаменитый 1\n",
      "туалет 1\n",
      "оружие 1\n",
      "учёба 1\n",
      "inio 1\n",
      "техніка 1\n",
      "быть 1\n",
      "фортепиано 1\n",
      "кинология 1\n",
      "йог 1\n",
      "нравиться 1\n",
      "fantasy 1\n",
      "中村 1\n",
      "за 1\n",
      "следить 1\n",
      "your 1\n",
      "impressed 1\n",
      "взаимодействие 1\n",
      "пластический 1\n",
      "синтезатор 1\n",
      "浅野いにお 1\n",
      "этология 1\n",
      "религия 1\n",
      "история 1\n",
      "помощь 1\n",
      "дело 1\n",
      "бизнес 1\n",
      "педагогика 1\n",
      "авторитарный 1\n",
      "слэшер 1\n",
      "перформанс 1\n",
      "ребёнок 1\n",
      "мор 1\n",
      "футбол 1\n",
      "нейронаука 1\n",
      "садоводство 1\n",
      "дошкольный 1\n",
      "политика 1\n",
      "нумизматика 1\n",
      "не 1\n",
      "стаж 1\n",
      "готический 1\n",
      "иметь 1\n",
      "ещё 1\n",
      "поэзия 1\n",
      "вместе 1\n",
      "интерактив 1\n",
      "французский 1\n",
      "https 1\n",
      "кулинария 1\n",
      "выставка 1\n",
      "писать 1\n",
      "из 1\n",
      "стих 1\n",
      "животное 1\n",
      "множество 1\n",
      "мероприятие 1\n",
      "внук 1\n",
      "скрапбукинг 1\n",
      "культурный 1\n",
      "спектакль 1\n",
      "экскурсия 1\n",
      "пение 1\n",
      "по 1\n",
      "компьютер 1\n",
      "театральный 1\n",
      "фокстерьер 1\n",
      "политический 1\n",
      "интересоваться 1\n",
      "байк 1\n",
      "деятельность 1\n",
      "познание 1\n",
      "говорить 1\n",
      "если 1\n",
      "символизм 1\n",
      "собака 1\n",
      "как 1\n",
      "тхэквондо 1\n",
      "просмотр 1\n",
      "i 1\n",
      "сила 1\n",
      "гора 1\n",
      "визуальный 1\n",
      "шоколад 1\n",
      "дорога 1\n",
      "свет 1\n",
      "музей 1\n",
      "читать 1\n",
      "передача 1\n"
     ]
    },
    {
     "name": "stderr",
     "output_type": "stream",
     "text": [
      "\n"
     ]
    }
   ],
   "source": [
    "def _parse_and_normalize(s):\n",
    "    s = nltk.word_tokenize(s)\n",
    "    morph = pymorphy2.MorphAnalyzer()\n",
    "    s = [morph.parse(i)[0].normal_form for i in s]\n",
    "    return s\n",
    "def check(x):\n",
    "    return not (x in [u'на', u'под', u'и', u'c', u'в', u'not', u'с'])\n",
    "def get_n_interests(api, n, group):\n",
    "    \"\"\"\n",
    "    получаем n самых популярныз интересов в данной группе\n",
    "    \"\"\"\n",
    "    # my api registration\n",
    "    _dict = api.groups.getMembers(group_id=group)\n",
    "    count, members = _dict['count'], _dict['users']\n",
    "    if len(members) >= 1000:\n",
    "        raise \"Not Implemented\"\n",
    "    \n",
    "    _dict = api.users.get(user_ids=members, fields='interests')\n",
    "    all_strs = []\n",
    "    for _ in _dict:\n",
    "        if 'interests' in _ and len(_['interests']) > 0:\n",
    "            all_strs.append(_['interests'])\n",
    "    interest_to_count = dict()\n",
    "    for _interest in tqdm(np.concatenate([_parse_and_normalize(i) for i in all_strs])):\n",
    "        if not _interest in interest_to_count:\n",
    "            interest_to_count[_interest] = 0\n",
    "        interest_to_count[_interest] += 1\n",
    "    # костыльно оставляем только слова и сортируем по частоте\n",
    "    out = sorted(filter(lambda x: x[0].isalpha() and check(x[0]), interest_to_count.items()), key=lambda x: x[1], reverse=True)\n",
    "    for i in out:    \n",
    "        print i[0], i[1]\n",
    "    return map(lambda x: x[0], out[:n])\n",
    "interests = get_n_interests(api, 10, group)"
   ]
  },
  {
   "cell_type": "markdown",
   "metadata": {},
   "source": []
  },
  {
   "cell_type": "markdown",
   "metadata": {},
   "source": [
    "## Часть 2\n",
    "### Поиск сообществ"
   ]
  },
  {
   "cell_type": "markdown",
   "metadata": {},
   "source": [
    "теперь когда мы знаем топ n интересов подписчиков группы, можно взять эти интересы и найти по ним много-много людей, у которых есть свои подписки.\n",
    "Итак на итерации мы\n",
    "\n",
    "- берем случайный поднабор интересов и ищем человека\n",
    "- получаем группы на которые он подписан;\n",
    "\n",
    "Затем находим топ k групп, наиболее популярных среди этой подписоты\n"
   ]
  },
  {
   "cell_type": "code",
   "execution_count": 6,
   "metadata": {
    "collapsed": true
   },
   "outputs": [],
   "source": [
    "import random\n",
    "import time\n",
    "import vk"
   ]
  },
  {
   "cell_type": "code",
   "execution_count": 7,
   "metadata": {
    "collapsed": true
   },
   "outputs": [],
   "source": [
    "VkAPIError = vk.exceptions.VkAPIError"
   ]
  },
  {
   "cell_type": "code",
   "execution_count": 8,
   "metadata": {
    "collapsed": false,
    "scrolled": true
   },
   "outputs": [
    {
     "data": {
      "text/plain": [
       "[13821502,\n",
       " 216970122,\n",
       " 346271964,\n",
       " 209490370,\n",
       " 258468989,\n",
       " 29470165,\n",
       " 38942884,\n",
       " 167041343,\n",
       " 92364235,\n",
       " 263410754,\n",
       " 85599545,\n",
       " 181949463,\n",
       " 20420307,\n",
       " 280153768,\n",
       " 203317835,\n",
       " 8027438,\n",
       " 855775,\n",
       " 45854551,\n",
       " 189539499,\n",
       " 56478071,\n",
       " 13821502,\n",
       " 216970122,\n",
       " 22077894,\n",
       " 307134457,\n",
       " 346271964,\n",
       " 59605782,\n",
       " 209490370,\n",
       " 258468989,\n",
       " 29470165,\n",
       " 137735663,\n",
       " 68303934,\n",
       " 38942884,\n",
       " 228929867,\n",
       " 181677785,\n",
       " 160973233,\n",
       " 92364235,\n",
       " 244620136,\n",
       " 263410754,\n",
       " 85599545,\n",
       " 360291582,\n",
       " 12489927,\n",
       " 151576949,\n",
       " 11344503,\n",
       " 107523643,\n",
       " 231817577,\n",
       " 68853510,\n",
       " 174577275,\n",
       " 92528955,\n",
       " 193028632,\n",
       " 255044186,\n",
       " 48393413,\n",
       " 314042609,\n",
       " 33814534,\n",
       " 43053589,\n",
       " 102975176,\n",
       " 205886807,\n",
       " 177028393,\n",
       " 402863357,\n",
       " 12489927,\n",
       " 160489574,\n",
       " 20176333,\n",
       " 11344503,\n",
       " 107523643,\n",
       " 194172492,\n",
       " 195917130,\n",
       " 68853510,\n",
       " 174577275,\n",
       " 303256288,\n",
       " 92528955,\n",
       " 13821502,\n",
       " 11230885,\n",
       " 193028632,\n",
       " 255044186,\n",
       " 314042609,\n",
       " 33814534,\n",
       " 43053589,\n",
       " 210841413,\n",
       " 209452406,\n",
       " 231817577,\n",
       " 13821502,\n",
       " 216970122,\n",
       " 22077894,\n",
       " 307134457,\n",
       " 155446937,\n",
       " 252356094,\n",
       " 346271964,\n",
       " 59605782,\n",
       " 209490370,\n",
       " 258468989,\n",
       " 153581445,\n",
       " 287307942,\n",
       " 295956145,\n",
       " 4609711,\n",
       " 88965623,\n",
       " 15130019,\n",
       " 189967935,\n",
       " 210841413,\n",
       " 209452406,\n",
       " 231817577,\n",
       " 13821502,\n",
       " 216970122,\n",
       " 22077894,\n",
       " 307134457,\n",
       " 155446937,\n",
       " 252356094,\n",
       " 346271964,\n",
       " 59605782,\n",
       " 209490370,\n",
       " 258468989,\n",
       " 153581445,\n",
       " 287307942,\n",
       " 295956145,\n",
       " 4609711,\n",
       " 88965623,\n",
       " 15130019,\n",
       " 189967935]"
      ]
     },
     "execution_count": 8,
     "metadata": {},
     "output_type": "execute_result"
    }
   ],
   "source": [
    "def get_users_by_interests(api, interests, num):\n",
    "    # стандартная вкшная переменная\n",
    "    offs = 0\n",
    "    persons_found = 0\n",
    "    NUM_INTERESTS = 5\n",
    "    users = []\n",
    "    while persons_found < num:\n",
    "        #  https://vk.com/dev/users.search\n",
    "        # берем сколько-то случайных интересов из списка\n",
    "        curr_interests = [random.choice(interests) for i in range(NUM_INTERESTS)]\n",
    "        _dict = api.users.search(offset=offs, interests=','.join(curr_interests))\n",
    "        if _dict[0] + persons_found < num:\n",
    "            raise Exception(\"To taught search parameters: only {0} users found\".format(_dict[0] + persons_found))\n",
    "        _dict = _dict[1:]\n",
    "        persons_found += len(_dict)\n",
    "        for i in [_usr['uid'] for _usr in _dict]:\n",
    "            users.append(i)\n",
    "        time.sleep(1)\n",
    "    return users\n",
    "typical_user_ids = get_users_by_interests(api, interests, num=100)\n",
    "typical_user_ids"
   ]
  },
  {
   "cell_type": "markdown",
   "metadata": {},
   "source": [
    "Отлично. Мы получили id пользовательй со схожими интересами. Достанем из подписки и найдем наиболее популярные."
   ]
  },
  {
   "cell_type": "code",
   "execution_count": 398,
   "metadata": {
    "collapsed": false
   },
   "outputs": [
    {
     "name": "stderr",
     "output_type": "stream",
     "text": [
      " 28%|██▊       | 32/116 [00:43<02:15,  1.62s/it]"
     ]
    },
    {
     "name": "stdout",
     "output_type": "stream",
     "text": [
      "HTTPSConnectionPool(host='api.vk.com', port=443): Read timed out. (read timeout=10)\n"
     ]
    },
    {
     "name": "stderr",
     "output_type": "stream",
     "text": [
      " 57%|█████▋    | 66/116 [01:30<01:13,  1.46s/it]"
     ]
    },
    {
     "name": "stdout",
     "output_type": "stream",
     "text": [
      "HTTPSConnectionPool(host='api.vk.com', port=443): Read timed out. (read timeout=10)\n",
      "HTTPSConnectionPool(host='api.vk.com', port=443): Max retries exceeded with url: /method/groups.get (Caused by ConnectTimeoutError(<requests.packages.urllib3.connection.VerifiedHTTPSConnection object at 0x11aaed850>, 'Connection to api.vk.com timed out. (connect timeout=10)'))\n"
     ]
    },
    {
     "name": "stderr",
     "output_type": "stream",
     "text": [
      "100%|██████████| 116/116 [03:35<00:00,  1.34s/it]\n"
     ]
    }
   ],
   "source": [
    "def get_n_groups_by_ids(api, ids, n=10):\n",
    "    popular = dict()\n",
    "    for user_id in tqdm(ids):\n",
    "        OK = False\n",
    "        while not OK:\n",
    "            try:\n",
    "                _groups = api.groups.get(user_id=user_id)\n",
    "                OK = True\n",
    "            except Exception, e:\n",
    "                print(e)\n",
    "                time.sleep(0.3)\n",
    "        for _group_id in _groups:\n",
    "            _group_id = int(_group_id)\n",
    "            if not _group_id in popular:\n",
    "                popular[_group_id] = 0\n",
    "            popular[_group_id] += 1\n",
    "        time.sleep(0.3)\n",
    "    out = sorted(popular.items(), key=lambda x: x[1], reverse=True)\n",
    "    return out\n",
    "popular_groups_ = get_n_groups_by_ids(api, typical_user_ids)"
   ]
  },
  {
   "cell_type": "code",
   "execution_count": 400,
   "metadata": {
    "collapsed": false
   },
   "outputs": [],
   "source": [
    "popular_groups = popular_groups_[:100]\n",
    "# Важно! во многих функциях id группы vk отрицательный!\n",
    "# не будем жадничать"
   ]
  },
  {
   "cell_type": "markdown",
   "metadata": {},
   "source": [
    "сразу уберем MDK :) и вообще эта функция будет только расширяться"
   ]
  },
  {
   "cell_type": "code",
   "execution_count": 405,
   "metadata": {
    "collapsed": false
   },
   "outputs": [],
   "source": [
    "def preprocess(popular_groups):\n",
    "    good_ = []\n",
    "    blocked = {-12382740, -57846937}\n",
    "    for group in tqdm(popular_groups):\n",
    "        if group in blocked:\n",
    "            continue\n",
    "        group = -abs(group[0])\n",
    "        #  проверим, что в группе есть посты\n",
    "        OK = False\n",
    "        while not OK:\n",
    "            try:\n",
    "                req_ = api.wall.get(owner_id=group)\n",
    "                if req_[0] > 10:\n",
    "                    good_.append(group)\n",
    "                OK = True\n",
    "            except Exception, e:\n",
    "                print(e)\n",
    "                time.sleep(0.3)\n",
    "    return good_"
   ]
  },
  {
   "cell_type": "code",
   "execution_count": 406,
   "metadata": {
    "collapsed": false,
    "scrolled": true
   },
   "outputs": [
    {
     "name": "stderr",
     "output_type": "stream",
     "text": [
      " 46%|████▌     | 46/100 [00:38<01:05,  1.21s/it]"
     ]
    },
    {
     "name": "stdout",
     "output_type": "stream",
     "text": [
      "('Connection aborted.', error(\"(54, 'ECONNRESET')\",))\n"
     ]
    },
    {
     "name": "stderr",
     "output_type": "stream",
     "text": [
      " 51%|█████     | 51/100 [00:45<01:07,  1.38s/it]"
     ]
    },
    {
     "name": "stdout",
     "output_type": "stream",
     "text": [
      "('Connection aborted.', error(\"(54, 'ECONNRESET')\",))\n"
     ]
    },
    {
     "name": "stderr",
     "output_type": "stream",
     "text": [
      "100%|██████████| 100/100 [01:32<00:00,  1.42it/s]\n"
     ]
    }
   ],
   "source": [
    "checked_groups = preprocess(popular_groups)"
   ]
  },
  {
   "cell_type": "code",
   "execution_count": 407,
   "metadata": {
    "collapsed": false
   },
   "outputs": [
    {
     "data": {
      "text/plain": [
       "100"
      ]
     },
     "execution_count": 407,
     "metadata": {},
     "output_type": "execute_result"
    }
   ],
   "source": [
    "len(checked_groups)"
   ]
  },
  {
   "cell_type": "code",
   "execution_count": 409,
   "metadata": {
    "collapsed": false
   },
   "outputs": [
    {
     "ename": "VkAPIError",
     "evalue": "100. One of the parameters specified was missing or invalid: group_ids is undefined. request_params = {u'oauth': u'1', u'group_ids': u'-22822305,-28556858,-22079806,-57846937,-12382740,-19542789,-1415705,-31480508,-43215063,-56106344,-24713873,-48319873,-27895931,-25276999,-29246653,-49840023,-28477986,-29302425,-11982368,-22798006,-34483558,-34384434,-29573241,-31976785,-23471538,-26750264,-35034571,-36775802,-33393308,-31072900,-65960786,-48940689,-23433159,-34229261,-30559917,-50106785,-34137285,-2158488,-40567146,-29559271,-25397178,-47679753,-632045,-45595714,-28950133,-460389,-34491673,-12353330,-30179569,-23148107,-29178527,-40587282,-34168005,-39153701,-23170931,-45588871,-44554509,-23616160,-65539551,-74192244,-30022666,-24098496,-101209760,-35807216,-15755094,-49849615,-34529402,-25232578,-63133420,-37862023,-43776215,-28446706,-34298047,-26614831,-62398004,-29544671,-35061290,-41883468,-31545235,-23164653,-57680408,-29258893,-34191936,-31577711,-23337480,-39728801,-23180464,-34300760,-23684028,-35555977,-15502770,-23113042,-26419239,-57876954,-43462544,-39009769,-32194285,-32194500,-55264762,-33769500', u'method': u'groups.getById'}",
     "output_type": "error",
     "traceback": [
      "\u001b[0;31m---------------------------------------------------------------------------\u001b[0m",
      "\u001b[0;31mVkAPIError\u001b[0m                                Traceback (most recent call last)",
      "\u001b[0;32m<ipython-input-409-adc212d79c2c>\u001b[0m in \u001b[0;36m<module>\u001b[0;34m()\u001b[0m\n\u001b[0;32m----> 1\u001b[0;31m \u001b[0mapi\u001b[0m\u001b[0;34m.\u001b[0m\u001b[0mgroups\u001b[0m\u001b[0;34m.\u001b[0m\u001b[0mgetById\u001b[0m\u001b[0;34m(\u001b[0m\u001b[0mgroup_ids\u001b[0m\u001b[0;34m=\u001b[0m\u001b[0mchecked_groups\u001b[0m\u001b[0;34m)\u001b[0m\u001b[0;34m\u001b[0m\u001b[0m\n\u001b[0m",
      "\u001b[0;32m/Users/istar/anaconda/lib/python2.7/site-packages/vk/api.pyc\u001b[0m in \u001b[0;36m__call__\u001b[0;34m(self, **method_args)\u001b[0m\n\u001b[1;32m    171\u001b[0m     \u001b[0;32mdef\u001b[0m \u001b[0m__call__\u001b[0m\u001b[0;34m(\u001b[0m\u001b[0mself\u001b[0m\u001b[0;34m,\u001b[0m \u001b[0;34m**\u001b[0m\u001b[0mmethod_args\u001b[0m\u001b[0;34m)\u001b[0m\u001b[0;34m:\u001b[0m\u001b[0;34m\u001b[0m\u001b[0m\n\u001b[1;32m    172\u001b[0m         \u001b[0mself\u001b[0m\u001b[0;34m.\u001b[0m\u001b[0m_method_args\u001b[0m \u001b[0;34m=\u001b[0m \u001b[0mmethod_args\u001b[0m\u001b[0;34m\u001b[0m\u001b[0m\n\u001b[0;32m--> 173\u001b[0;31m         \u001b[0;32mreturn\u001b[0m \u001b[0mself\u001b[0m\u001b[0;34m.\u001b[0m\u001b[0m_api\u001b[0m\u001b[0;34m.\u001b[0m\u001b[0m_session\u001b[0m\u001b[0;34m.\u001b[0m\u001b[0mmake_request\u001b[0m\u001b[0;34m(\u001b[0m\u001b[0mself\u001b[0m\u001b[0;34m)\u001b[0m\u001b[0;34m\u001b[0m\u001b[0m\n\u001b[0m\u001b[1;32m    174\u001b[0m \u001b[0;34m\u001b[0m\u001b[0m\n\u001b[1;32m    175\u001b[0m \u001b[0;34m\u001b[0m\u001b[0m\n",
      "\u001b[0;32m/Users/istar/anaconda/lib/python2.7/site-packages/vk/api.pyc\u001b[0m in \u001b[0;36mmake_request\u001b[0;34m(self, method_request, captcha_response)\u001b[0m\n\u001b[1;32m    100\u001b[0m \u001b[0;34m\u001b[0m\u001b[0m\n\u001b[1;32m    101\u001b[0m                 \u001b[0;32melse\u001b[0m\u001b[0;34m:\u001b[0m\u001b[0;34m\u001b[0m\u001b[0m\n\u001b[0;32m--> 102\u001b[0;31m                     \u001b[0;32mraise\u001b[0m \u001b[0merror\u001b[0m\u001b[0;34m\u001b[0m\u001b[0m\n\u001b[0m\u001b[1;32m    103\u001b[0m \u001b[0;34m\u001b[0m\u001b[0m\n\u001b[1;32m    104\u001b[0m     \u001b[0;32mdef\u001b[0m \u001b[0msend_api_request\u001b[0m\u001b[0;34m(\u001b[0m\u001b[0mself\u001b[0m\u001b[0;34m,\u001b[0m \u001b[0mrequest\u001b[0m\u001b[0;34m,\u001b[0m \u001b[0mcaptcha_response\u001b[0m\u001b[0;34m=\u001b[0m\u001b[0mNone\u001b[0m\u001b[0;34m)\u001b[0m\u001b[0;34m:\u001b[0m\u001b[0;34m\u001b[0m\u001b[0m\n",
      "\u001b[0;31mVkAPIError\u001b[0m: 100. One of the parameters specified was missing or invalid: group_ids is undefined. request_params = {u'oauth': u'1', u'group_ids': u'-22822305,-28556858,-22079806,-57846937,-12382740,-19542789,-1415705,-31480508,-43215063,-56106344,-24713873,-48319873,-27895931,-25276999,-29246653,-49840023,-28477986,-29302425,-11982368,-22798006,-34483558,-34384434,-29573241,-31976785,-23471538,-26750264,-35034571,-36775802,-33393308,-31072900,-65960786,-48940689,-23433159,-34229261,-30559917,-50106785,-34137285,-2158488,-40567146,-29559271,-25397178,-47679753,-632045,-45595714,-28950133,-460389,-34491673,-12353330,-30179569,-23148107,-29178527,-40587282,-34168005,-39153701,-23170931,-45588871,-44554509,-23616160,-65539551,-74192244,-30022666,-24098496,-101209760,-35807216,-15755094,-49849615,-34529402,-25232578,-63133420,-37862023,-43776215,-28446706,-34298047,-26614831,-62398004,-29544671,-35061290,-41883468,-31545235,-23164653,-57680408,-29258893,-34191936,-31577711,-23337480,-39728801,-23180464,-34300760,-23684028,-35555977,-15502770,-23113042,-26419239,-57876954,-43462544,-39009769,-32194285,-32194500,-55264762,-33769500', u'method': u'groups.getById'}"
     ]
    }
   ],
   "source": [
    "api.groups.getById(group_ids=checked_groups)"
   ]
  },
  {
   "cell_type": "markdown",
   "metadata": {},
   "source": [
    "Посчитаем сколько вообще в данной группе набирается лайков в среднем на одну сек времени\n",
    "Заодно создадим класс групп vk"
   ]
  },
  {
   "cell_type": "code",
   "execution_count": 410,
   "metadata": {
    "collapsed": false
   },
   "outputs": [
    {
     "data": {
      "text/plain": [
       "1494959998"
      ]
     },
     "execution_count": 410,
     "metadata": {},
     "output_type": "execute_result"
    }
   ],
   "source": [
    "import time\n",
    "int(time.time())"
   ]
  },
  {
   "cell_type": "code",
   "execution_count": 419,
   "metadata": {
    "collapsed": false
   },
   "outputs": [],
   "source": [
    "class Post:\n",
    "    def __init__(self, owner_id, post_id, rating):\n",
    "        self.owner_id = owner_id\n",
    "        self.post_id = post_id\n",
    "        self.rating = rating\n",
    "\n",
    "class Group:\n",
    "    def __init__(self, api, gid):\n",
    "        # id группы\n",
    "        self.gid = gid\n",
    "        self.api = api\n",
    "        self.posts = []\n",
    "        # сколько вообще в данной группе набирается лайков в среднем на одну секунду времени\n",
    "        self.rating = 0\n",
    "    \n",
    "    def get_n_posts(self, n):\n",
    "        #  обновление данных о постах\n",
    "        self.time = time.time()\n",
    "        #  offset = 10 чтобы не брать посты совсем уж без лайков\n",
    "        #  достаем посты для данной группы\n",
    "        OK = False\n",
    "        while not OK:\n",
    "            try:\n",
    "                self.posts = api.wall.get(owner_id=self.gid, count=n, extended=1, filter='owner', version='5.64')['wall']\n",
    "                OK = True\n",
    "            except Exception, e:\n",
    "                print \"Error\", e\n",
    "        self.num, self.posts = self.posts[0], self.posts[1:]\n",
    "        return len(self.posts) == n\n",
    "    \n",
    "    def calc_rate(self, new_posts=True):  #  сколько вообще в данной группе набирается лайков в среднем на одну минуту времени   \n",
    "        if new_posts:\n",
    "            self.get_n_posts(10)\n",
    "        # посчитаем лайки\n",
    "        mid_ans = 0   \n",
    "        for i in self.posts:\n",
    "            LIKES = int(i['likes']['count'])\n",
    "            mid_ans += LIKES / (self.time - i['date'])\n",
    "            #  it's needed\n",
    "            time.sleep(0.3)\n",
    "        mid_ans /= len(self.posts)  \n",
    "        self.rating = mid_ans\n",
    "        return self.rating != 0\n",
    "    def calc_post_rating(self, post, rating):\n",
    "        likes_cnt = int(post['likes']['count'])\n",
    "        rate = likes_cnt / (self.time - post['date'])\n",
    "        return rate / rating\n",
    "    def get_rated_posts(self):\n",
    "        # get posts from group and evaluate them\n",
    "        posts = []\n",
    "        for post in self.posts:\n",
    "            post_rating = self.calc_post_rating(post, self.rating)\n",
    "            posts.append(Post(self.gid, post['id'], post_rating))\n",
    "        return posts\n",
    "        "
   ]
  },
  {
   "cell_type": "code",
   "execution_count": 420,
   "metadata": {
    "collapsed": false
   },
   "outputs": [
    {
     "data": {
      "text/plain": [
       "13627372"
      ]
     },
     "execution_count": 420,
     "metadata": {},
     "output_type": "execute_result"
    }
   ],
   "source": [
    "api.wall.get(owner_id=\"-57846937\", count=2, extended=1, filter='owner', version='5.64')['wall'][1]['id']"
   ]
  },
  {
   "cell_type": "code",
   "execution_count": 421,
   "metadata": {
    "collapsed": false
   },
   "outputs": [
    {
     "name": "stdout",
     "output_type": "stream",
     "text": [
      "Error 502 Server Error: Bad Gateway for url: https://api.vk.com/method/wall.get\n"
     ]
    }
   ],
   "source": [
    "buisness = Group(api, \"-28556858\")\n",
    "buisness.get_n_posts(10)\n",
    "# вычисляем рейтинг группы по хранящимся у нас постам\n",
    "buisness.calc_rate()\n",
    "rated_posts = buisness.get_rated_posts()"
   ]
  },
  {
   "cell_type": "code",
   "execution_count": 414,
   "metadata": {
    "collapsed": false
   },
   "outputs": [
    {
     "name": "stdout",
     "output_type": "stream",
     "text": [
      "0.0630843712746\n"
     ]
    }
   ],
   "source": [
    "print buisness.rating"
   ]
  },
  {
   "cell_type": "code",
   "execution_count": 415,
   "metadata": {
    "collapsed": false
   },
   "outputs": [
    {
     "name": "stdout",
     "output_type": "stream",
     "text": [
      "Post id = 167483, rating = 0.163491239811\n",
      "Post id = 167481, rating = 1.83549398485\n"
     ]
    }
   ],
   "source": [
    "#  например можно посмотреть рейтинг конкретного поста\n",
    "print \"Post id = {}, rating = {}\".format(rated_posts[1].post_id, rated_posts[1].rating)\n",
    "print \"Post id = {}, rating = {}\".format(rated_posts[3].post_id, rated_posts[3].rating)"
   ]
  },
  {
   "cell_type": "markdown",
   "metadata": {},
   "source": []
  },
  {
   "cell_type": "markdown",
   "metadata": {},
   "source": [
    "теперь на напишем класс Robot, который будучи запущенным будет реализовывать интерфейс подписки на выбранные нами паблики\n",
    "\n",
    "Важно не словить 'VkAPIError'!"
   ]
  },
  {
   "cell_type": "markdown",
   "metadata": {},
   "source": [
    "Необходимый функционал:\n",
    "- [получить](https://vk.com/dev/wall.get) свежие посты из группы\n",
    "- [получить](https://vk.com/dev/likes.getList) число лайков -> рейтинг\n",
    "- [репостнуть](https://vk.com/dev/wall.repost)"
   ]
  },
  {
   "cell_type": "code",
   "execution_count": 416,
   "metadata": {
    "collapsed": false
   },
   "outputs": [
    {
     "data": {
      "text/plain": [
       "[-22822305,\n",
       " -28556858,\n",
       " -22079806,\n",
       " -57846937,\n",
       " -12382740,\n",
       " -19542789,\n",
       " -1415705,\n",
       " -31480508,\n",
       " -43215063,\n",
       " -56106344,\n",
       " -24713873,\n",
       " -48319873,\n",
       " -27895931,\n",
       " -25276999,\n",
       " -29246653,\n",
       " -49840023,\n",
       " -28477986,\n",
       " -29302425,\n",
       " -11982368,\n",
       " -22798006,\n",
       " -34483558,\n",
       " -34384434,\n",
       " -29573241,\n",
       " -31976785,\n",
       " -23471538,\n",
       " -26750264,\n",
       " -35034571,\n",
       " -36775802,\n",
       " -33393308,\n",
       " -31072900,\n",
       " -65960786,\n",
       " -48940689,\n",
       " -23433159,\n",
       " -34229261,\n",
       " -30559917,\n",
       " -50106785,\n",
       " -34137285,\n",
       " -2158488,\n",
       " -40567146,\n",
       " -29559271,\n",
       " -25397178,\n",
       " -47679753,\n",
       " -632045,\n",
       " -45595714,\n",
       " -28950133,\n",
       " -460389,\n",
       " -34491673,\n",
       " -12353330,\n",
       " -30179569,\n",
       " -23148107,\n",
       " -29178527,\n",
       " -40587282,\n",
       " -34168005,\n",
       " -39153701,\n",
       " -23170931,\n",
       " -45588871,\n",
       " -44554509,\n",
       " -23616160,\n",
       " -65539551,\n",
       " -74192244,\n",
       " -30022666,\n",
       " -24098496,\n",
       " -101209760,\n",
       " -35807216,\n",
       " -15755094,\n",
       " -49849615,\n",
       " -34529402,\n",
       " -25232578,\n",
       " -63133420,\n",
       " -37862023,\n",
       " -43776215,\n",
       " -28446706,\n",
       " -34298047,\n",
       " -26614831,\n",
       " -62398004,\n",
       " -29544671,\n",
       " -35061290,\n",
       " -41883468,\n",
       " -31545235,\n",
       " -23164653,\n",
       " -57680408,\n",
       " -29258893,\n",
       " -34191936,\n",
       " -31577711,\n",
       " -23337480,\n",
       " -39728801,\n",
       " -23180464,\n",
       " -34300760,\n",
       " -23684028,\n",
       " -35555977,\n",
       " -15502770,\n",
       " -23113042,\n",
       " -26419239,\n",
       " -57876954,\n",
       " -43462544,\n",
       " -39009769,\n",
       " -32194285,\n",
       " -32194500,\n",
       " -55264762,\n",
       " -33769500]"
      ]
     },
     "execution_count": 416,
     "metadata": {},
     "output_type": "execute_result"
    }
   ],
   "source": [
    "checked_groups = map(lambda x: -abs(x), checked_groups)\n",
    "checked_groups"
   ]
  },
  {
   "cell_type": "code",
   "execution_count": 424,
   "metadata": {
    "collapsed": false
   },
   "outputs": [
    {
     "name": "stdout",
     "output_type": "stream",
     "text": [
      "-22822305\n",
      "0.0022512998302\n",
      "-28556858\n",
      "0.0552948460981\n",
      "[[<__main__.Post instance at 0x116a42b90>, <__main__.Post instance at 0x11334c710>, <__main__.Post instance at 0x113347518>, <__main__.Post instance at 0x113347488>, <__main__.Post instance at 0x113347758>, <__main__.Post instance at 0x11272af38>, <__main__.Post instance at 0x11272d170>, <__main__.Post instance at 0x113311200>, <__main__.Post instance at 0x113311ef0>, <__main__.Post instance at 0x113311bd8>], [<__main__.Post instance at 0x113311098>, <__main__.Post instance at 0x113329758>, <__main__.Post instance at 0x113347830>, <__main__.Post instance at 0x1151405a8>, <__main__.Post instance at 0x115140bd8>, <__main__.Post instance at 0x1151405f0>, <__main__.Post instance at 0x115140440>, <__main__.Post instance at 0x1151403f8>, <__main__.Post instance at 0x115140290>, <__main__.Post instance at 0x115140560>]]\n"
     ]
    }
   ],
   "source": [
    "class Robot:\n",
    "    def __init__(self, api, groups):\n",
    "        \"\"\"\n",
    "        api: vkapi session\n",
    "        groups: Group class'\n",
    "        \n",
    "        Class Robot takes Posts from Groups \n",
    "        and chose the best Post via comparator \n",
    "        and repost this Post in chosen user's group via Poster\n",
    "        \"\"\"\n",
    "        self.api = api\n",
    "        if len(groups) > 100:\n",
    "            raise Exception(\"Too much...\")\n",
    "        self.groups = []\n",
    "        for g_id in groups:\n",
    "            self.groups.append(Group(api, g_id))\n",
    "        #  ban bad groups    \n",
    "        self.banned = set()\n",
    "    def get_all_rated_posts(self):\n",
    "        self.rated_posts = []\n",
    "        for group in self.groups:\n",
    "            print group.gid\n",
    "            if not (group.gid in self.banned) and group.get_n_posts(10) and group.calc_rate():\n",
    "                print group.rating\n",
    "                if group.rating > 0.0005:\n",
    "                    self.rated_posts.append(group.get_rated_posts())\n",
    "                else:\n",
    "                    self.banned.add(group.gid)\n",
    "                    print \":/\"\n",
    "            else : \n",
    "                print \":(\"\n",
    "                self.banned.add(group.gid)\n",
    "    def get_max_rated_post(self):\n",
    "        self.get_all_rated_posts()\n",
    "        mx_ans = Post(-1 ,-1, -1)\n",
    "        for batch in self.rated_posts:\n",
    "            mx = max(batch, key=lambda x: x.rating)\n",
    "            mx_ans = max(mx, mx_ans, key=lambda x: x.rating)\n",
    "        return mx_ans\n",
    "    \n",
    "\n",
    "r = Robot(api, checked_groups[:2])   \n",
    "winner = r.get_max_rated_post()"
   ]
  },
  {
   "cell_type": "code",
   "execution_count": 425,
   "metadata": {
    "collapsed": false
   },
   "outputs": [
    {
     "name": "stdout",
     "output_type": "stream",
     "text": [
      "-28556858 167482 2.3482917569\n"
     ]
    }
   ],
   "source": [
    "print winner.owner_id, winner.post_id, winner.rating"
   ]
  },
  {
   "cell_type": "code",
   "execution_count": null,
   "metadata": {
    "collapsed": true
   },
   "outputs": [],
   "source": []
  },
  {
   "cell_type": "code",
   "execution_count": 427,
   "metadata": {
    "collapsed": true
   },
   "outputs": [],
   "source": [
    "class Poster:\n",
    "    def __init__(self, post):\n",
    "        access_token=\"f850cf72b2adcc5d54697a8a74cd82ef87ab671419d4cb453bd939f7fdae933252c2ac448e037672442b3\"\n",
    "        session = vk.AuthSession(access_token=access_token)\n",
    "        api = vk.API(session)\n",
    "        # self.post = post\n",
    "        self.api = api\n",
    "        self.post = post\n",
    "    def repost(self):\n",
    "        #  self.api.wall.post(owner_id=-22183949, message=\"LOL!\")\n",
    "        self.api.wall.repost(object=\"wall{}_{}\".format(self.post.owner_id, self.post.post_id), group_id=22183949)"
   ]
  },
  {
   "cell_type": "code",
   "execution_count": 428,
   "metadata": {
    "collapsed": false
   },
   "outputs": [],
   "source": [
    "poster1 = Poster(winner)"
   ]
  },
  {
   "cell_type": "code",
   "execution_count": 429,
   "metadata": {
    "collapsed": false
   },
   "outputs": [],
   "source": [
    "poster1.repost()"
   ]
  },
  {
   "cell_type": "code",
   "execution_count": null,
   "metadata": {
    "collapsed": true
   },
   "outputs": [],
   "source": []
  }
 ],
 "metadata": {
  "anaconda-cloud": {},
  "kernelspec": {
   "display_name": "Python [conda root]",
   "language": "python",
   "name": "conda-root-py"
  },
  "language_info": {
   "codemirror_mode": {
    "name": "ipython",
    "version": 2
   },
   "file_extension": ".py",
   "mimetype": "text/x-python",
   "name": "python",
   "nbconvert_exporter": "python",
   "pygments_lexer": "ipython2",
   "version": "2.7.12"
  }
 },
 "nbformat": 4,
 "nbformat_minor": 1
}
